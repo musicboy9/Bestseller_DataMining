{
 "cells": [
  {
   "cell_type": "code",
   "execution_count": 350,
   "metadata": {},
   "outputs": [],
   "source": [
    "import numpy as np\n",
    "import pandas as pd\n",
    "import matplotlib.pyplot as plt\n",
    "from sklearn.neighbors import KNeighborsClassifier \n",
    "from sklearn.model_selection import train_test_split \n",
    "from sklearn.metrics import confusion_matrix \n",
    "from sklearn.preprocessing import StandardScaler\n",
    "from sklearn.metrics import confusion_matrix, classification_report"
   ]
  },
  {
   "cell_type": "code",
   "execution_count": 351,
   "metadata": {},
   "outputs": [],
   "source": [
    "df = pd.read_csv('C:/Users/GC/Desktop/2021/연구/장기베스트셀러/데이터/Bestseller_Fiction.csv', encoding=\"cp949\")"
   ]
  },
  {
   "cell_type": "code",
   "execution_count": 352,
   "metadata": {},
   "outputs": [
    {
     "data": {
      "text/html": [
       "<div>\n",
       "<style scoped>\n",
       "    .dataframe tbody tr th:only-of-type {\n",
       "        vertical-align: middle;\n",
       "    }\n",
       "\n",
       "    .dataframe tbody tr th {\n",
       "        vertical-align: top;\n",
       "    }\n",
       "\n",
       "    .dataframe thead th {\n",
       "        text-align: right;\n",
       "    }\n",
       "</style>\n",
       "<table border=\"1\" class=\"dataframe\">\n",
       "  <thead>\n",
       "    <tr style=\"text-align: right;\">\n",
       "      <th></th>\n",
       "      <th>BestsellerFic</th>\n",
       "      <th>Genre</th>\n",
       "      <th>GenreBin</th>\n",
       "      <th>Title</th>\n",
       "      <th>Author</th>\n",
       "      <th>Published Year</th>\n",
       "      <th>Publisher</th>\n",
       "      <th>Page</th>\n",
       "      <th>Price</th>\n",
       "      <th>authorgender(male0fe1team2)</th>\n",
       "      <th>isFirstBestSeller</th>\n",
       "      <th>Duration</th>\n",
       "      <th>변경전Duration</th>\n",
       "      <th>변경후Duration3(0=S1=L2=etc)</th>\n",
       "      <th>Impact</th>\n",
       "      <th>year_rank</th>\n",
       "      <th>isGlobal50 of first year(False=0True=1)</th>\n",
       "    </tr>\n",
       "  </thead>\n",
       "  <tbody>\n",
       "    <tr>\n",
       "      <th>0</th>\n",
       "      <td>2020</td>\n",
       "      <td>Literature&amp;Fiction</td>\n",
       "      <td>6</td>\n",
       "      <td>Where the Crawdads Sing</td>\n",
       "      <td>Delia Owens</td>\n",
       "      <td>2017</td>\n",
       "      <td>G.P. Putnam's Sons</td>\n",
       "      <td>209</td>\n",
       "      <td>26.00</td>\n",
       "      <td>1</td>\n",
       "      <td>1</td>\n",
       "      <td>3</td>\n",
       "      <td>1</td>\n",
       "      <td>1</td>\n",
       "      <td>53800.0000</td>\n",
       "      <td>2019_01</td>\n",
       "      <td>1</td>\n",
       "    </tr>\n",
       "    <tr>\n",
       "      <th>1</th>\n",
       "      <td>2020</td>\n",
       "      <td>Literature&amp;Fiction</td>\n",
       "      <td>6</td>\n",
       "      <td>The Silent Patient</td>\n",
       "      <td>Alex Michaelides</td>\n",
       "      <td>2019</td>\n",
       "      <td>Celadon Books</td>\n",
       "      <td>336</td>\n",
       "      <td>26.99</td>\n",
       "      <td>0</td>\n",
       "      <td>1</td>\n",
       "      <td>2(2019)</td>\n",
       "      <td>2</td>\n",
       "      <td>1</td>\n",
       "      <td>23700.0000</td>\n",
       "      <td>2019_39</td>\n",
       "      <td>1</td>\n",
       "    </tr>\n",
       "    <tr>\n",
       "      <th>2</th>\n",
       "      <td>2020</td>\n",
       "      <td>Literature&amp;Fiction</td>\n",
       "      <td>6</td>\n",
       "      <td>Then She Was Gone</td>\n",
       "      <td>Lisa Jewell</td>\n",
       "      <td>2018</td>\n",
       "      <td>Atria Books</td>\n",
       "      <td>384</td>\n",
       "      <td>16.00</td>\n",
       "      <td>1</td>\n",
       "      <td>1</td>\n",
       "      <td>2(2019)</td>\n",
       "      <td>2</td>\n",
       "      <td>1</td>\n",
       "      <td>38620.0298</td>\n",
       "      <td>2019_90</td>\n",
       "      <td>1</td>\n",
       "    </tr>\n",
       "    <tr>\n",
       "      <th>3</th>\n",
       "      <td>2020</td>\n",
       "      <td>Teen&amp;Youngadult</td>\n",
       "      <td>6</td>\n",
       "      <td>To Kill a Mockingbird</td>\n",
       "      <td>Harper Lee</td>\n",
       "      <td>2005</td>\n",
       "      <td>Harper Perennial</td>\n",
       "      <td>336</td>\n",
       "      <td>15.99</td>\n",
       "      <td>1</td>\n",
       "      <td>0</td>\n",
       "      <td>7</td>\n",
       "      <td>1</td>\n",
       "      <td>1</td>\n",
       "      <td>400958.9970</td>\n",
       "      <td>2019_41</td>\n",
       "      <td>1</td>\n",
       "    </tr>\n",
       "    <tr>\n",
       "      <th>4</th>\n",
       "      <td>2020</td>\n",
       "      <td>Teen&amp;Youngadult</td>\n",
       "      <td>6</td>\n",
       "      <td>The Outsiders</td>\n",
       "      <td>S. E. Hinton</td>\n",
       "      <td>2006</td>\n",
       "      <td>Speak</td>\n",
       "      <td>224</td>\n",
       "      <td>10.99</td>\n",
       "      <td>1</td>\n",
       "      <td>1</td>\n",
       "      <td>5</td>\n",
       "      <td>1</td>\n",
       "      <td>1</td>\n",
       "      <td>133000.0000</td>\n",
       "      <td>2019_99</td>\n",
       "      <td>1</td>\n",
       "    </tr>\n",
       "    <tr>\n",
       "      <th>...</th>\n",
       "      <td>...</td>\n",
       "      <td>...</td>\n",
       "      <td>...</td>\n",
       "      <td>...</td>\n",
       "      <td>...</td>\n",
       "      <td>...</td>\n",
       "      <td>...</td>\n",
       "      <td>...</td>\n",
       "      <td>...</td>\n",
       "      <td>...</td>\n",
       "      <td>...</td>\n",
       "      <td>...</td>\n",
       "      <td>...</td>\n",
       "      <td>...</td>\n",
       "      <td>...</td>\n",
       "      <td>...</td>\n",
       "      <td>...</td>\n",
       "    </tr>\n",
       "    <tr>\n",
       "      <th>143</th>\n",
       "      <td>2011</td>\n",
       "      <td>Teen&amp;Youngadult</td>\n",
       "      <td>6</td>\n",
       "      <td>The Lost Hero (Heroes of Olympus Book 1)</td>\n",
       "      <td>Rick Riordan</td>\n",
       "      <td>2010</td>\n",
       "      <td>Disney-Hyperion</td>\n",
       "      <td>592</td>\n",
       "      <td>1.99</td>\n",
       "      <td>0</td>\n",
       "      <td>0</td>\n",
       "      <td>1</td>\n",
       "      <td>0</td>\n",
       "      <td>0</td>\n",
       "      <td>43400.0000</td>\n",
       "      <td>NaN</td>\n",
       "      <td>0</td>\n",
       "    </tr>\n",
       "    <tr>\n",
       "      <th>144</th>\n",
       "      <td>2011</td>\n",
       "      <td>Literature&amp;Fiction</td>\n",
       "      <td>6</td>\n",
       "      <td>Room</td>\n",
       "      <td>Emma Donoghue</td>\n",
       "      <td>2011</td>\n",
       "      <td>Back Bay Books</td>\n",
       "      <td>352</td>\n",
       "      <td>16.99</td>\n",
       "      <td>1</td>\n",
       "      <td>1</td>\n",
       "      <td>1</td>\n",
       "      <td>0</td>\n",
       "      <td>0</td>\n",
       "      <td>26200.0000</td>\n",
       "      <td>NaN</td>\n",
       "      <td>1</td>\n",
       "    </tr>\n",
       "    <tr>\n",
       "      <th>145</th>\n",
       "      <td>2011</td>\n",
       "      <td>Literature&amp;Fiction</td>\n",
       "      <td>6</td>\n",
       "      <td>Hotel on the Corner of Bitter and Sweet</td>\n",
       "      <td>Jamie Ford</td>\n",
       "      <td>2009</td>\n",
       "      <td>Ballantine Books</td>\n",
       "      <td>301</td>\n",
       "      <td>17.00</td>\n",
       "      <td>0</td>\n",
       "      <td>0</td>\n",
       "      <td>1</td>\n",
       "      <td>0</td>\n",
       "      <td>0</td>\n",
       "      <td>179000.0000</td>\n",
       "      <td>NaN</td>\n",
       "      <td>1</td>\n",
       "    </tr>\n",
       "    <tr>\n",
       "      <th>146</th>\n",
       "      <td>2011</td>\n",
       "      <td>Literature&amp;Fiction</td>\n",
       "      <td>6</td>\n",
       "      <td>The Girl Who Played with Fire (Millennium Series)</td>\n",
       "      <td>Stieg Larsson</td>\n",
       "      <td>2009</td>\n",
       "      <td>Vintage Crime/Black Lizard</td>\n",
       "      <td>631</td>\n",
       "      <td>9.99</td>\n",
       "      <td>0</td>\n",
       "      <td>0</td>\n",
       "      <td>1</td>\n",
       "      <td>0</td>\n",
       "      <td>0</td>\n",
       "      <td>32600.0000</td>\n",
       "      <td>NaN</td>\n",
       "      <td>1</td>\n",
       "    </tr>\n",
       "    <tr>\n",
       "      <th>147</th>\n",
       "      <td>2011</td>\n",
       "      <td>Literature&amp;Fiction</td>\n",
       "      <td>6</td>\n",
       "      <td>Smokin' Seventeen (Stephanie Plum)</td>\n",
       "      <td>Janet Evanovich</td>\n",
       "      <td>2011</td>\n",
       "      <td>Bantam</td>\n",
       "      <td>353</td>\n",
       "      <td>8.99</td>\n",
       "      <td>1</td>\n",
       "      <td>0</td>\n",
       "      <td>1</td>\n",
       "      <td>0</td>\n",
       "      <td>0</td>\n",
       "      <td>4810.0000</td>\n",
       "      <td>NaN</td>\n",
       "      <td>1</td>\n",
       "    </tr>\n",
       "  </tbody>\n",
       "</table>\n",
       "<p>148 rows × 17 columns</p>\n",
       "</div>"
      ],
      "text/plain": [
       "     BestsellerFic               Genre  GenreBin  \\\n",
       "0             2020  Literature&Fiction         6   \n",
       "1             2020  Literature&Fiction         6   \n",
       "2             2020  Literature&Fiction         6   \n",
       "3             2020     Teen&Youngadult         6   \n",
       "4             2020     Teen&Youngadult         6   \n",
       "..             ...                 ...       ...   \n",
       "143           2011     Teen&Youngadult         6   \n",
       "144           2011  Literature&Fiction         6   \n",
       "145           2011  Literature&Fiction         6   \n",
       "146           2011  Literature&Fiction         6   \n",
       "147           2011  Literature&Fiction         6   \n",
       "\n",
       "                                                 Title            Author  \\\n",
       "0                              Where the Crawdads Sing       Delia Owens   \n",
       "1                                   The Silent Patient  Alex Michaelides   \n",
       "2                                    Then She Was Gone       Lisa Jewell   \n",
       "3                                To Kill a Mockingbird        Harper Lee   \n",
       "4                                        The Outsiders      S. E. Hinton   \n",
       "..                                                 ...               ...   \n",
       "143           The Lost Hero (Heroes of Olympus Book 1)      Rick Riordan   \n",
       "144                                               Room     Emma Donoghue   \n",
       "145            Hotel on the Corner of Bitter and Sweet        Jamie Ford   \n",
       "146  The Girl Who Played with Fire (Millennium Series)     Stieg Larsson   \n",
       "147                 Smokin' Seventeen (Stephanie Plum)   Janet Evanovich   \n",
       "\n",
       "     Published Year                   Publisher  Page  Price  \\\n",
       "0              2017          G.P. Putnam's Sons   209  26.00   \n",
       "1              2019               Celadon Books   336  26.99   \n",
       "2              2018                 Atria Books   384  16.00   \n",
       "3              2005           Harper Perennial    336  15.99   \n",
       "4              2006                       Speak   224  10.99   \n",
       "..              ...                         ...   ...    ...   \n",
       "143            2010             Disney-Hyperion   592   1.99   \n",
       "144            2011              Back Bay Books   352  16.99   \n",
       "145            2009            Ballantine Books   301  17.00   \n",
       "146            2009  Vintage Crime/Black Lizard   631   9.99   \n",
       "147            2011                      Bantam   353   8.99   \n",
       "\n",
       "     authorgender(male0fe1team2)  isFirstBestSeller Duration  변경전Duration  \\\n",
       "0                              1                  1        3            1   \n",
       "1                              0                  1  2(2019)            2   \n",
       "2                              1                  1  2(2019)            2   \n",
       "3                              1                  0        7            1   \n",
       "4                              1                  1        5            1   \n",
       "..                           ...                ...      ...          ...   \n",
       "143                            0                  0        1            0   \n",
       "144                            1                  1        1            0   \n",
       "145                            0                  0        1            0   \n",
       "146                            0                  0        1            0   \n",
       "147                            1                  0        1            0   \n",
       "\n",
       "     변경후Duration3(0=S1=L2=etc)       Impact year_rank  \\\n",
       "0                            1   53800.0000   2019_01   \n",
       "1                            1   23700.0000   2019_39   \n",
       "2                            1   38620.0298   2019_90   \n",
       "3                            1  400958.9970   2019_41   \n",
       "4                            1  133000.0000   2019_99   \n",
       "..                         ...          ...       ...   \n",
       "143                          0   43400.0000       NaN   \n",
       "144                          0   26200.0000       NaN   \n",
       "145                          0  179000.0000       NaN   \n",
       "146                          0   32600.0000       NaN   \n",
       "147                          0    4810.0000       NaN   \n",
       "\n",
       "     isGlobal50 of first year(False=0True=1)  \n",
       "0                                          1  \n",
       "1                                          1  \n",
       "2                                          1  \n",
       "3                                          1  \n",
       "4                                          1  \n",
       "..                                       ...  \n",
       "143                                        0  \n",
       "144                                        1  \n",
       "145                                        1  \n",
       "146                                        1  \n",
       "147                                        1  \n",
       "\n",
       "[148 rows x 17 columns]"
      ]
     },
     "execution_count": 352,
     "metadata": {},
     "output_type": "execute_result"
    }
   ],
   "source": [
    "df"
   ]
  },
  {
   "cell_type": "code",
   "execution_count": 379,
   "metadata": {},
   "outputs": [],
   "source": [
    "df_x = df[['Published Year', 'Page', 'Price','authorgender(male0fe1team2)', 'isFirstBestSeller','Impact', 'isGlobal50 of first year(False=0True=1)']]\n",
    "df_y = df['변경후Duration3(0=S1=L2=etc)']"
   ]
  },
  {
   "cell_type": "code",
   "execution_count": 472,
   "metadata": {},
   "outputs": [],
   "source": [
    "x_train, x_test, y_train, y_test = train_test_split(df_x, df_y, test_size=0.2, random_state = 100)"
   ]
  },
  {
   "cell_type": "code",
   "execution_count": 492,
   "metadata": {},
   "outputs": [],
   "source": [
    "scaler = StandardScaler()\n",
    "x_train = scaler.fit_transform(x_train)\n",
    "x_test = scaler.transform(x_test)"
   ]
  },
  {
   "cell_type": "code",
   "execution_count": 571,
   "metadata": {},
   "outputs": [],
   "source": [
    "#kNN = KNeighborsClassifier(n_neighbors = 9, metric = 'euclidean')\n",
    "cov = np.cov(x_test, rowvar=False)\n",
    "kNN = KNeighborsClassifier(algorithm='brute', n_neighbors = 3, metric = 'mahalanobis', metric_params=dict(V=cov))"
   ]
  },
  {
   "cell_type": "code",
   "execution_count": 572,
   "metadata": {},
   "outputs": [
    {
     "data": {
      "text/plain": [
       "KNeighborsClassifier(algorithm='brute', metric='mahalanobis',\n",
       "                     metric_params={'V': array([[ 1.68091954e+01, -1.85611494e+02,  3.05374713e+00,\n",
       "         1.72413793e-01, -6.06896552e-01, -6.97642686e+07,\n",
       "        -3.21839080e-02],\n",
       "       [-1.85611494e+02,  8.31826944e+05,  6.06866985e+03,\n",
       "        -1.01017241e+02, -9.52827586e+01, -8.33090450e+09,\n",
       "         5.79816092e+01],\n",
       "       [ 3.05374713e+00,  6.06866985e+03,  1.35320569e...\n",
       "        -3.44827586e-02],\n",
       "       [-6.06896552e-01, -9.52827586e+01,  7.71241379e-01,\n",
       "         3.44827586e-02,  2.48275862e-01,  1.40429947e+07,\n",
       "        -2.75862069e-02],\n",
       "       [-6.97642686e+07, -8.33090450e+09, -1.46047976e+08,\n",
       "        -1.15851663e+07,  1.40429947e+07,  7.16006045e+15,\n",
       "         6.84658476e+06],\n",
       "       [-3.21839080e-02,  5.79816092e+01, -1.04094253e+00,\n",
       "        -3.44827586e-02, -2.75862069e-02,  6.84658476e+06,\n",
       "         2.02298851e-01]])},\n",
       "                     n_neighbors=3)"
      ]
     },
     "execution_count": 572,
     "metadata": {},
     "output_type": "execute_result"
    }
   ],
   "source": [
    "kNN.fit(x_train, y_train)"
   ]
  },
  {
   "cell_type": "code",
   "execution_count": 573,
   "metadata": {},
   "outputs": [
    {
     "name": "stderr",
     "output_type": "stream",
     "text": [
      "C:\\Anaconda3\\lib\\site-packages\\sklearn\\metrics\\pairwise.py:1456: FutureWarning: from version 0.25, pairwise_distances for metric='mahalanobis' will require VI to be specified if Y is passed.\n",
      "  warnings.warn(\"from version 0.25, pairwise_distances for \"\n"
     ]
    }
   ],
   "source": [
    "y_pred = kNN.predict(x_valid)"
   ]
  },
  {
   "cell_type": "code",
   "execution_count": 574,
   "metadata": {},
   "outputs": [
    {
     "data": {
      "text/plain": [
       "array([0, 0, 0, 0, 0, 0, 1, 0, 0, 0, 0, 1, 0, 0, 0, 0, 0, 0, 0, 1, 0, 0,\n",
       "       0, 0, 0, 0, 1, 0, 1, 0], dtype=int64)"
      ]
     },
     "execution_count": 574,
     "metadata": {},
     "output_type": "execute_result"
    }
   ],
   "source": [
    "y_pred"
   ]
  },
  {
   "cell_type": "code",
   "execution_count": 575,
   "metadata": {},
   "outputs": [
    {
     "data": {
      "text/plain": [
       "array([[ 3,  8],\n",
       "       [ 2, 17]], dtype=int64)"
      ]
     },
     "execution_count": 575,
     "metadata": {},
     "output_type": "execute_result"
    }
   ],
   "source": [
    "confusion_matrix(y_valid, y_pred, labels = [1, 0])"
   ]
  },
  {
   "cell_type": "code",
   "execution_count": 576,
   "metadata": {},
   "outputs": [],
   "source": [
    "conf_matrix = pd.DataFrame(confusion_matrix(y_valid, y_pred), columns=['pred_0', 'pred_1'], index=['true_0', 'true_1'])"
   ]
  },
  {
   "cell_type": "code",
   "execution_count": 577,
   "metadata": {},
   "outputs": [
    {
     "data": {
      "text/html": [
       "<div>\n",
       "<style scoped>\n",
       "    .dataframe tbody tr th:only-of-type {\n",
       "        vertical-align: middle;\n",
       "    }\n",
       "\n",
       "    .dataframe tbody tr th {\n",
       "        vertical-align: top;\n",
       "    }\n",
       "\n",
       "    .dataframe thead th {\n",
       "        text-align: right;\n",
       "    }\n",
       "</style>\n",
       "<table border=\"1\" class=\"dataframe\">\n",
       "  <thead>\n",
       "    <tr style=\"text-align: right;\">\n",
       "      <th></th>\n",
       "      <th>pred_0</th>\n",
       "      <th>pred_1</th>\n",
       "    </tr>\n",
       "  </thead>\n",
       "  <tbody>\n",
       "    <tr>\n",
       "      <th>true_0</th>\n",
       "      <td>17</td>\n",
       "      <td>2</td>\n",
       "    </tr>\n",
       "    <tr>\n",
       "      <th>true_1</th>\n",
       "      <td>8</td>\n",
       "      <td>3</td>\n",
       "    </tr>\n",
       "  </tbody>\n",
       "</table>\n",
       "</div>"
      ],
      "text/plain": [
       "        pred_0  pred_1\n",
       "true_0      17       2\n",
       "true_1       8       3"
      ]
     },
     "execution_count": 577,
     "metadata": {},
     "output_type": "execute_result"
    }
   ],
   "source": [
    "conf_matrix"
   ]
  },
  {
   "cell_type": "code",
   "execution_count": 578,
   "metadata": {},
   "outputs": [],
   "source": [
    "from sklearn.metrics import roc_curve, auc\n",
    "from matplotlib import pyplot as plt"
   ]
  },
  {
   "cell_type": "code",
   "execution_count": 579,
   "metadata": {},
   "outputs": [
    {
     "name": "stderr",
     "output_type": "stream",
     "text": [
      "C:\\Anaconda3\\lib\\site-packages\\sklearn\\metrics\\pairwise.py:1456: FutureWarning: from version 0.25, pairwise_distances for metric='mahalanobis' will require VI to be specified if Y is passed.\n",
      "  warnings.warn(\"from version 0.25, pairwise_distances for \"\n"
     ]
    },
    {
     "data": {
      "text/plain": [
       "array([[0.66666667, 0.33333333],\n",
       "       [0.66666667, 0.33333333],\n",
       "       [0.66666667, 0.33333333],\n",
       "       [1.        , 0.        ],\n",
       "       [1.        , 0.        ],\n",
       "       [1.        , 0.        ],\n",
       "       [0.33333333, 0.66666667],\n",
       "       [0.66666667, 0.33333333],\n",
       "       [1.        , 0.        ],\n",
       "       [0.66666667, 0.33333333],\n",
       "       [1.        , 0.        ],\n",
       "       [0.        , 1.        ],\n",
       "       [1.        , 0.        ],\n",
       "       [1.        , 0.        ],\n",
       "       [0.66666667, 0.33333333],\n",
       "       [0.66666667, 0.33333333],\n",
       "       [1.        , 0.        ],\n",
       "       [1.        , 0.        ],\n",
       "       [1.        , 0.        ],\n",
       "       [0.33333333, 0.66666667],\n",
       "       [1.        , 0.        ],\n",
       "       [0.66666667, 0.33333333],\n",
       "       [1.        , 0.        ],\n",
       "       [0.66666667, 0.33333333],\n",
       "       [1.        , 0.        ],\n",
       "       [0.66666667, 0.33333333],\n",
       "       [0.33333333, 0.66666667],\n",
       "       [0.66666667, 0.33333333],\n",
       "       [0.33333333, 0.66666667],\n",
       "       [1.        , 0.        ]])"
      ]
     },
     "execution_count": 579,
     "metadata": {},
     "output_type": "execute_result"
    }
   ],
   "source": [
    "kNN.predict_proba(x_valid)"
   ]
  },
  {
   "cell_type": "code",
   "execution_count": 580,
   "metadata": {},
   "outputs": [
    {
     "name": "stderr",
     "output_type": "stream",
     "text": [
      "C:\\Anaconda3\\lib\\site-packages\\sklearn\\metrics\\pairwise.py:1456: FutureWarning: from version 0.25, pairwise_distances for metric='mahalanobis' will require VI to be specified if Y is passed.\n",
      "  warnings.warn(\"from version 0.25, pairwise_distances for \"\n"
     ]
    },
    {
     "name": "stdout",
     "output_type": "stream",
     "text": [
      "ROC AUC: 0.677\n"
     ]
    },
    {
     "data": {
      "image/png": "[encoded data removed]",
      "text/plain": [
       "<Figure size 432x288 with 1 Axes>"
      ]
     },
     "metadata": {
      "needs_background": "light"
     },
     "output_type": "display_data"
    }
   ],
   "source": [
    "fpr, tpr, _ = roc_curve(y_valid, kNN.predict_proba(x_valid)[:,1])\n",
    "\n",
    "# Calculate the AUC\n",
    "roc_auc = auc(fpr, tpr)\n",
    "print('ROC AUC: %0.3f' % roc_auc)\n",
    "\n",
    "# Plot of a ROC curve for a specific class\n",
    "plt.figure()\n",
    "plt.plot(fpr, tpr, color='darkorange', label='ROC curve (area = %0.2f)' % roc_auc)\n",
    "plt.plot([0, 1], [0, 1], color='navy', lw=2, linestyle='--')\n",
    "plt.xlim([0.0, 1.0])\n",
    "plt.ylim([0.0, 1.05])\n",
    "plt.xlabel('False Positive Rate')\n",
    "plt.ylabel('True Positive Rate')\n",
    "plt.title('ROC Curve')\n",
    "plt.legend(loc=\"lower right\")\n",
    "plt.show()"
   ]
  },
  {
   "cell_type": "code",
   "execution_count": 581,
   "metadata": {},
   "outputs": [
    {
     "data": {
      "text/plain": [
       "array([0.        , 0.        , 0.10526316, 0.42105263, 1.        ])"
      ]
     },
     "execution_count": 581,
     "metadata": {},
     "output_type": "execute_result"
    }
   ],
   "source": [
    "fpr"
   ]
  },
  {
   "cell_type": "code",
   "execution_count": 582,
   "metadata": {},
   "outputs": [
    {
     "data": {
      "text/plain": [
       "array([0.        , 0.09090909, 0.27272727, 0.72727273, 1.        ])"
      ]
     },
     "execution_count": 582,
     "metadata": {},
     "output_type": "execute_result"
    }
   ],
   "source": [
    "tpr"
   ]
  },
  {
   "cell_type": "code",
   "execution_count": 583,
   "metadata": {},
   "outputs": [
    {
     "name": "stderr",
     "output_type": "stream",
     "text": [
      "C:\\Anaconda3\\lib\\site-packages\\sklearn\\metrics\\pairwise.py:1456: FutureWarning: from version 0.25, pairwise_distances for metric='mahalanobis' will require VI to be specified if Y is passed.\n",
      "  warnings.warn(\"from version 0.25, pairwise_distances for \"\n"
     ]
    }
   ],
   "source": [
    "predictions = kNN.predict(x_valid)"
   ]
  },
  {
   "cell_type": "code",
   "execution_count": 584,
   "metadata": {},
   "outputs": [],
   "source": [
    "from sklearn.metrics import accuracy_score, precision_score, recall_score, f1_score"
   ]
  },
  {
   "cell_type": "code",
   "execution_count": 585,
   "metadata": {},
   "outputs": [
    {
     "name": "stdout",
     "output_type": "stream",
     "text": [
      "Accuracy: 0.667\n",
      "Precision: 0.600\n",
      "Recall: 0.273\n",
      "f1: 0.375\n"
     ]
    }
   ],
   "source": [
    "print(f'Accuracy: {accuracy_score(y_valid, predictions):0.3f}')\n",
    "print(f'Precision: {precision_score(y_valid, predictions):0.3f}')\n",
    "print(f'Recall: {recall_score(y_valid, predictions):0.3f}')\n",
    "print(f'f1: {f1_score(y_valid, predictions):0.3f}')"
   ]
  },
  {
   "cell_type": "code",
   "execution_count": 586,
   "metadata": {},
   "outputs": [
    {
     "name": "stdout",
     "output_type": "stream",
     "text": [
      "0.7711864406779662\n"
     ]
    }
   ],
   "source": [
    "print(kNN.score(x_train, y_train))"
   ]
  },
  {
   "cell_type": "code",
   "execution_count": 587,
   "metadata": {},
   "outputs": [
    {
     "name": "stdout",
     "output_type": "stream",
     "text": [
      "0.6666666666666666\n"
     ]
    },
    {
     "name": "stderr",
     "output_type": "stream",
     "text": [
      "C:\\Anaconda3\\lib\\site-packages\\sklearn\\metrics\\pairwise.py:1456: FutureWarning: from version 0.25, pairwise_distances for metric='mahalanobis' will require VI to be specified if Y is passed.\n",
      "  warnings.warn(\"from version 0.25, pairwise_distances for \"\n"
     ]
    }
   ],
   "source": [
    "print(kNN.score(x_test, y_test))"
   ]
  },
  {
   "cell_type": "code",
   "execution_count": null,
   "metadata": {},
   "outputs": [],
   "source": []
  }
 ],
 "metadata": {
  "kernelspec": {
   "display_name": "Python 3",
   "language": "python",
   "name": "python3"
  },
  "language_info": {
   "codemirror_mode": {
    "name": "ipython",
    "version": 3
   },
   "file_extension": ".py",
   "mimetype": "text/x-python",
   "name": "python",
   "nbconvert_exporter": "python",
   "pygments_lexer": "ipython3",
   "version": "3.8.3"
  }
 },
 "nbformat": 4,
 "nbformat_minor": 4
}
