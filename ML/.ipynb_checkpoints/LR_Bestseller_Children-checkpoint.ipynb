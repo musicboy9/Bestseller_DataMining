{
 "cells": [
  {
   "cell_type": "code",
   "execution_count": 39,
   "metadata": {},
   "outputs": [],
   "source": [
    "import pandas as pd\n",
    "import numpy as np\n",
    "from scipy import stats"
   ]
  },
  {
   "cell_type": "markdown",
   "metadata": {},
   "source": [
    "## Load Dataset"
   ]
  },
  {
   "cell_type": "code",
   "execution_count": 4,
   "metadata": {
    "scrolled": true
   },
   "outputs": [
    {
     "name": "stdout",
     "output_type": "stream",
     "text": [
      "(96, 17)\n"
     ]
    },
    {
     "data": {
      "text/html": [
       "<div>\n",
       "<style scoped>\n",
       "    .dataframe tbody tr th:only-of-type {\n",
       "        vertical-align: middle;\n",
       "    }\n",
       "\n",
       "    .dataframe tbody tr th {\n",
       "        vertical-align: top;\n",
       "    }\n",
       "\n",
       "    .dataframe thead th {\n",
       "        text-align: right;\n",
       "    }\n",
       "</style>\n",
       "<table border=\"1\" class=\"dataframe\">\n",
       "  <thead>\n",
       "    <tr style=\"text-align: right;\">\n",
       "      <th></th>\n",
       "      <th>BestsellerChildren</th>\n",
       "      <th>Genre</th>\n",
       "      <th>GenreBin</th>\n",
       "      <th>Title</th>\n",
       "      <th>Author</th>\n",
       "      <th>Published Year</th>\n",
       "      <th>Publisher</th>\n",
       "      <th>Page</th>\n",
       "      <th>Price</th>\n",
       "      <th>authorgender(male0fe1team2)</th>\n",
       "      <th>isFirstBestSeller</th>\n",
       "      <th>Duration</th>\n",
       "      <th>변경전Duration</th>\n",
       "      <th>변경후Duration3(0=S1=L2=etc)</th>\n",
       "      <th>Impact</th>\n",
       "      <th>year_rank</th>\n",
       "      <th>isGlobal50 of first year(False=0True=1)</th>\n",
       "    </tr>\n",
       "  </thead>\n",
       "  <tbody>\n",
       "    <tr>\n",
       "      <th>0</th>\n",
       "      <td>2020</td>\n",
       "      <td>Children'sBooks</td>\n",
       "      <td>3</td>\n",
       "      <td>School Zone - Big Preschool Workbook - Ages 4…</td>\n",
       "      <td>School Zone</td>\n",
       "      <td>2018</td>\n",
       "      <td>School Zone Publishing</td>\n",
       "      <td>320</td>\n",
       "      <td>12.99</td>\n",
       "      <td>2</td>\n",
       "      <td>1</td>\n",
       "      <td>3</td>\n",
       "      <td>1</td>\n",
       "      <td>1</td>\n",
       "      <td>1.397000e+08</td>\n",
       "      <td>2019_09</td>\n",
       "      <td>0</td>\n",
       "    </tr>\n",
       "    <tr>\n",
       "      <th>1</th>\n",
       "      <td>2020</td>\n",
       "      <td>Children'sBooks</td>\n",
       "      <td>3</td>\n",
       "      <td>If Animals Kissed Good Night</td>\n",
       "      <td>Ann Whitford Paul</td>\n",
       "      <td>2014</td>\n",
       "      <td>Farrar Straus and Giroux</td>\n",
       "      <td>34</td>\n",
       "      <td>7.99</td>\n",
       "      <td>1</td>\n",
       "      <td>1</td>\n",
       "      <td>4</td>\n",
       "      <td>1</td>\n",
       "      <td>1</td>\n",
       "      <td>1.562000e+04</td>\n",
       "      <td>2019_24</td>\n",
       "      <td>1</td>\n",
       "    </tr>\n",
       "    <tr>\n",
       "      <th>2</th>\n",
       "      <td>2020</td>\n",
       "      <td>Children'sBooks</td>\n",
       "      <td>3</td>\n",
       "      <td>The Very Hungry Caterpillar</td>\n",
       "      <td>Eric Carle</td>\n",
       "      <td>1981</td>\n",
       "      <td>World of Eric Carle</td>\n",
       "      <td>32</td>\n",
       "      <td>21.99</td>\n",
       "      <td>0</td>\n",
       "      <td>0</td>\n",
       "      <td>8</td>\n",
       "      <td>1</td>\n",
       "      <td>1</td>\n",
       "      <td>1.386000e+05</td>\n",
       "      <td>2019_16</td>\n",
       "      <td>1</td>\n",
       "    </tr>\n",
       "    <tr>\n",
       "      <th>3</th>\n",
       "      <td>2020</td>\n",
       "      <td>Children'sBooks</td>\n",
       "      <td>3</td>\n",
       "      <td>Giraffes Can't Dance</td>\n",
       "      <td>Giles Andreae</td>\n",
       "      <td>2012</td>\n",
       "      <td>Cartwheel Books</td>\n",
       "      <td>32</td>\n",
       "      <td>16.99</td>\n",
       "      <td>0</td>\n",
       "      <td>1</td>\n",
       "      <td>7</td>\n",
       "      <td>1</td>\n",
       "      <td>1</td>\n",
       "      <td>5.403860e+03</td>\n",
       "      <td>2019_23</td>\n",
       "      <td>1</td>\n",
       "    </tr>\n",
       "    <tr>\n",
       "      <th>4</th>\n",
       "      <td>2020</td>\n",
       "      <td>Children'sBooks</td>\n",
       "      <td>3</td>\n",
       "      <td>Brown Bear Brown Bear What Do You See?</td>\n",
       "      <td>Bill Martin Jr. and Eric Carle</td>\n",
       "      <td>2020</td>\n",
       "      <td>Henry Holt and Co. (BYR)</td>\n",
       "      <td>24</td>\n",
       "      <td>8.99</td>\n",
       "      <td>0</td>\n",
       "      <td>0</td>\n",
       "      <td>6</td>\n",
       "      <td>1</td>\n",
       "      <td>1</td>\n",
       "      <td>7.037929e+03</td>\n",
       "      <td>2019_48</td>\n",
       "      <td>1</td>\n",
       "    </tr>\n",
       "  </tbody>\n",
       "</table>\n",
       "</div>"
      ],
      "text/plain": [
       "   BestsellerChildren            Genre  GenreBin  \\\n",
       "0                2020  Children'sBooks         3   \n",
       "1                2020  Children'sBooks         3   \n",
       "2                2020  Children'sBooks         3   \n",
       "3                2020  Children'sBooks         3   \n",
       "4                2020  Children'sBooks         3   \n",
       "\n",
       "                                            Title  \\\n",
       "0  School Zone - Big Preschool Workbook - Ages 4…   \n",
       "1                    If Animals Kissed Good Night   \n",
       "2                     The Very Hungry Caterpillar   \n",
       "3                            Giraffes Can't Dance   \n",
       "4          Brown Bear Brown Bear What Do You See?   \n",
       "\n",
       "                           Author  Published Year                  Publisher  \\\n",
       "0                     School Zone            2018     School Zone Publishing   \n",
       "1               Ann Whitford Paul            2014  Farrar Straus and Giroux    \n",
       "2                      Eric Carle            1981       World of Eric Carle    \n",
       "3                   Giles Andreae            2012            Cartwheel Books   \n",
       "4  Bill Martin Jr. and Eric Carle            2020   Henry Holt and Co. (BYR)   \n",
       "\n",
       "   Page  Price  authorgender(male0fe1team2)  isFirstBestSeller Duration  \\\n",
       "0   320  12.99                            2                  1        3   \n",
       "1    34   7.99                            1                  1        4   \n",
       "2    32  21.99                            0                  0        8   \n",
       "3    32  16.99                            0                  1        7   \n",
       "4    24   8.99                            0                  0        6   \n",
       "\n",
       "   변경전Duration  변경후Duration3(0=S1=L2=etc)        Impact year_rank  \\\n",
       "0            1                          1  1.397000e+08   2019_09   \n",
       "1            1                          1  1.562000e+04   2019_24   \n",
       "2            1                          1  1.386000e+05   2019_16   \n",
       "3            1                          1  5.403860e+03   2019_23   \n",
       "4            1                          1  7.037929e+03   2019_48   \n",
       "\n",
       "   isGlobal50 of first year(False=0True=1)  \n",
       "0                                        0  \n",
       "1                                        1  \n",
       "2                                        1  \n",
       "3                                        1  \n",
       "4                                        1  "
      ]
     },
     "execution_count": 4,
     "metadata": {},
     "output_type": "execute_result"
    }
   ],
   "source": [
    "book = pd.read_csv('/Users/Koh/Documents/2017-_SNU/Research/DM/data/ML/Bestseller_Children.csv', encoding=\"cp949\")\n",
    "\n",
    "print(book.shape)\n",
    "book.head()"
   ]
  },
  {
   "cell_type": "markdown",
   "metadata": {},
   "source": [
    "## Preprocessing"
   ]
  },
  {
   "cell_type": "markdown",
   "metadata": {},
   "source": [
    "### column filter"
   ]
  },
  {
   "cell_type": "markdown",
   "metadata": {},
   "source": [
    "사용할 columns을 선정"
   ]
  },
  {
   "cell_type": "code",
   "execution_count": 5,
   "metadata": {},
   "outputs": [
    {
     "data": {
      "text/plain": [
       "Index(['BestsellerChildren', 'Genre', 'GenreBin', 'Title', 'Author',\n",
       "       'Published Year', 'Publisher', 'Page', 'Price',\n",
       "       'authorgender(male0fe1team2)', 'isFirstBestSeller', 'Duration',\n",
       "       '변경전Duration', '변경후Duration3(0=S1=L2=etc)', 'Impact', 'year_rank',\n",
       "       'isGlobal50 of first year(False=0True=1)'],\n",
       "      dtype='object')"
      ]
     },
     "execution_count": 5,
     "metadata": {},
     "output_type": "execute_result"
    }
   ],
   "source": [
    "book.columns"
   ]
  },
  {
   "cell_type": "code",
   "execution_count": 6,
   "metadata": {},
   "outputs": [],
   "source": [
    "col_names = ['Published Year', 'Page', 'Price',\n",
    "       'authorgender(male0fe1team2)', 'isFirstBestSeller', '변경후Duration3(0=S1=L2=etc)', 'Impact', 'isGlobal50 of first year(False=0True=1)']"
   ]
  },
  {
   "cell_type": "code",
   "execution_count": 7,
   "metadata": {},
   "outputs": [
    {
     "name": "stdout",
     "output_type": "stream",
     "text": [
      "(96, 8)\n"
     ]
    },
    {
     "data": {
      "text/html": [
       "<div>\n",
       "<style scoped>\n",
       "    .dataframe tbody tr th:only-of-type {\n",
       "        vertical-align: middle;\n",
       "    }\n",
       "\n",
       "    .dataframe tbody tr th {\n",
       "        vertical-align: top;\n",
       "    }\n",
       "\n",
       "    .dataframe thead th {\n",
       "        text-align: right;\n",
       "    }\n",
       "</style>\n",
       "<table border=\"1\" class=\"dataframe\">\n",
       "  <thead>\n",
       "    <tr style=\"text-align: right;\">\n",
       "      <th></th>\n",
       "      <th>Published Year</th>\n",
       "      <th>Page</th>\n",
       "      <th>Price</th>\n",
       "      <th>authorgender(male0fe1team2)</th>\n",
       "      <th>isFirstBestSeller</th>\n",
       "      <th>변경후Duration3(0=S1=L2=etc)</th>\n",
       "      <th>Impact</th>\n",
       "      <th>isGlobal50 of first year(False=0True=1)</th>\n",
       "    </tr>\n",
       "  </thead>\n",
       "  <tbody>\n",
       "    <tr>\n",
       "      <th>0</th>\n",
       "      <td>2018</td>\n",
       "      <td>320</td>\n",
       "      <td>12.99</td>\n",
       "      <td>2</td>\n",
       "      <td>1</td>\n",
       "      <td>1</td>\n",
       "      <td>1.397000e+08</td>\n",
       "      <td>0</td>\n",
       "    </tr>\n",
       "    <tr>\n",
       "      <th>1</th>\n",
       "      <td>2014</td>\n",
       "      <td>34</td>\n",
       "      <td>7.99</td>\n",
       "      <td>1</td>\n",
       "      <td>1</td>\n",
       "      <td>1</td>\n",
       "      <td>1.562000e+04</td>\n",
       "      <td>1</td>\n",
       "    </tr>\n",
       "    <tr>\n",
       "      <th>2</th>\n",
       "      <td>1981</td>\n",
       "      <td>32</td>\n",
       "      <td>21.99</td>\n",
       "      <td>0</td>\n",
       "      <td>0</td>\n",
       "      <td>1</td>\n",
       "      <td>1.386000e+05</td>\n",
       "      <td>1</td>\n",
       "    </tr>\n",
       "    <tr>\n",
       "      <th>3</th>\n",
       "      <td>2012</td>\n",
       "      <td>32</td>\n",
       "      <td>16.99</td>\n",
       "      <td>0</td>\n",
       "      <td>1</td>\n",
       "      <td>1</td>\n",
       "      <td>5.403860e+03</td>\n",
       "      <td>1</td>\n",
       "    </tr>\n",
       "    <tr>\n",
       "      <th>4</th>\n",
       "      <td>2020</td>\n",
       "      <td>24</td>\n",
       "      <td>8.99</td>\n",
       "      <td>0</td>\n",
       "      <td>0</td>\n",
       "      <td>1</td>\n",
       "      <td>7.037929e+03</td>\n",
       "      <td>1</td>\n",
       "    </tr>\n",
       "  </tbody>\n",
       "</table>\n",
       "</div>"
      ],
      "text/plain": [
       "   Published Year  Page  Price  authorgender(male0fe1team2)  \\\n",
       "0            2018   320  12.99                            2   \n",
       "1            2014    34   7.99                            1   \n",
       "2            1981    32  21.99                            0   \n",
       "3            2012    32  16.99                            0   \n",
       "4            2020    24   8.99                            0   \n",
       "\n",
       "   isFirstBestSeller  변경후Duration3(0=S1=L2=etc)        Impact  \\\n",
       "0                  1                          1  1.397000e+08   \n",
       "1                  1                          1  1.562000e+04   \n",
       "2                  0                          1  1.386000e+05   \n",
       "3                  1                          1  5.403860e+03   \n",
       "4                  0                          1  7.037929e+03   \n",
       "\n",
       "   isGlobal50 of first year(False=0True=1)  \n",
       "0                                        0  \n",
       "1                                        1  \n",
       "2                                        1  \n",
       "3                                        1  \n",
       "4                                        1  "
      ]
     },
     "execution_count": 7,
     "metadata": {},
     "output_type": "execute_result"
    }
   ],
   "source": [
    "book = book[col_names]\n",
    "\n",
    "print(book.shape)\n",
    "book.head()"
   ]
  },
  {
   "cell_type": "markdown",
   "metadata": {},
   "source": [
    "### Encode Sex"
   ]
  },
  {
   "cell_type": "markdown",
   "metadata": {},
   "source": [
    "데이터 값을 수치적으로 변경해줘야 분석에 사용 가능"
   ]
  },
  {
   "cell_type": "code",
   "execution_count": 8,
   "metadata": {},
   "outputs": [],
   "source": [
    "# 성별(Sex) 값이 Male인 열을 0, Female인 열을 1로 수정\n",
    "#titanic.loc[titanic[\"Sex\"] == \"Male\", \"Sex\"] = 0\n",
    "#titanic.loc[titanic[\"Sex\"] == \"Female\", \"Sex\"] = 1\n",
    "\n",
    "#print(titanic.shape)\n",
    "#titanic.head()"
   ]
  },
  {
   "cell_type": "markdown",
   "metadata": {},
   "source": [
    "### Encode Passenger Class"
   ]
  },
  {
   "cell_type": "code",
   "execution_count": 9,
   "metadata": {},
   "outputs": [],
   "source": [
    "# 등급(Passenger Class) 값이 First, Second, Third인 열을 각각 1, 2, 3으로 수정\n",
    "#titanic.loc[titanic[\"Passenger Class\"] == \"First\", \"Passenger Class\"] = 1\n",
    "#titanic.loc[titanic[\"Passenger Class\"] == \"Second\", \"Passenger Class\"] = 2\n",
    "#titanic.loc[titanic[\"Passenger Class\"] == \"Third\", \"Passenger Class\"] = 3\n",
    "\n",
    "#print(titanic.shape)\n",
    "#titanic.head()"
   ]
  },
  {
   "cell_type": "markdown",
   "metadata": {},
   "source": [
    "# Fill in missing values"
   ]
  },
  {
   "cell_type": "code",
   "execution_count": 10,
   "metadata": {},
   "outputs": [],
   "source": [
    "# titanic = pd.concat([titanic, pd.get_dummies(titanic['Port of Embarkation'])], axis=1)\n",
    "\n",
    "# print(titanic.shape)\n",
    "# titanic.head()"
   ]
  },
  {
   "cell_type": "markdown",
   "metadata": {},
   "source": [
    "### Encode Survived"
   ]
  },
  {
   "cell_type": "code",
   "execution_count": 11,
   "metadata": {},
   "outputs": [],
   "source": [
    "#titanic['Survived'] = pd.Categorical(titanic['Survived'], categories=['No', 'Yes'])"
   ]
  },
  {
   "cell_type": "code",
   "execution_count": 12,
   "metadata": {
    "scrolled": true
   },
   "outputs": [],
   "source": [
    "#titanic['Survived']  = titanic['Survived'].cat.codes\n",
    "#titanic['Survived']"
   ]
  },
  {
   "cell_type": "markdown",
   "metadata": {},
   "source": [
    "## Partitioning"
   ]
  },
  {
   "cell_type": "code",
   "execution_count": 13,
   "metadata": {},
   "outputs": [],
   "source": [
    "from sklearn.model_selection import train_test_split"
   ]
  },
  {
   "cell_type": "code",
   "execution_count": 14,
   "metadata": {},
   "outputs": [
    {
     "data": {
      "text/plain": [
       "Index(['Published Year', 'Page', 'Price', 'authorgender(male0fe1team2)',\n",
       "       'isFirstBestSeller', '변경후Duration3(0=S1=L2=etc)', 'Impact',\n",
       "       'isGlobal50 of first year(False=0True=1)'],\n",
       "      dtype='object')"
      ]
     },
     "execution_count": 14,
     "metadata": {},
     "output_type": "execute_result"
    }
   ],
   "source": [
    "book.columns"
   ]
  },
  {
   "cell_type": "code",
   "execution_count": 33,
   "metadata": {},
   "outputs": [
    {
     "name": "stdout",
     "output_type": "stream",
     "text": [
      "0     1.0\n",
      "1     1.0\n",
      "2     1.0\n",
      "3     1.0\n",
      "4     1.0\n",
      "     ... \n",
      "91    0.0\n",
      "92    1.0\n",
      "93    0.0\n",
      "94    0.0\n",
      "95    0.0\n",
      "Name: 변경후Duration3(0=S1=L2=etc), Length: 96, dtype: float64\n"
     ]
    }
   ],
   "source": [
    "cols_for_train = ['Published Year', 'Page', 'Price',\n",
    "       'authorgender(male0fe1team2)', 'isFirstBestSeller', 'Impact',\n",
    "       'isGlobal50 of first year(False=0True=1)']\n",
    "\n",
    "\n",
    "X = book[cols_for_train]\n",
    "y = book['변경후Duration3(0=S1=L2=etc)']"
   ]
  },
  {
   "cell_type": "code",
   "execution_count": 16,
   "metadata": {},
   "outputs": [],
   "source": [
    "import numpy as np\n",
    "book[:] = np.nan_to_num(book)"
   ]
  },
  {
   "cell_type": "code",
   "execution_count": 17,
   "metadata": {},
   "outputs": [],
   "source": [
    "X_train, X_test, y_train, y_test = train_test_split(X, y, test_size=0.2, random_state=100, stratify=y)"
   ]
  },
  {
   "cell_type": "code",
   "execution_count": 18,
   "metadata": {},
   "outputs": [],
   "source": [
    "#X_train, X_test, y_train, y_test = train_test_split(X, y, test_size=0.3, random_state=0, shuffle=False)"
   ]
  },
  {
   "cell_type": "code",
   "execution_count": 19,
   "metadata": {},
   "outputs": [
    {
     "name": "stdout",
     "output_type": "stream",
     "text": [
      "(76, 7)\n"
     ]
    },
    {
     "data": {
      "text/html": [
       "<div>\n",
       "<style scoped>\n",
       "    .dataframe tbody tr th:only-of-type {\n",
       "        vertical-align: middle;\n",
       "    }\n",
       "\n",
       "    .dataframe tbody tr th {\n",
       "        vertical-align: top;\n",
       "    }\n",
       "\n",
       "    .dataframe thead th {\n",
       "        text-align: right;\n",
       "    }\n",
       "</style>\n",
       "<table border=\"1\" class=\"dataframe\">\n",
       "  <thead>\n",
       "    <tr style=\"text-align: right;\">\n",
       "      <th></th>\n",
       "      <th>Published Year</th>\n",
       "      <th>Page</th>\n",
       "      <th>Price</th>\n",
       "      <th>authorgender(male0fe1team2)</th>\n",
       "      <th>isFirstBestSeller</th>\n",
       "      <th>Impact</th>\n",
       "      <th>isGlobal50 of first year(False=0True=1)</th>\n",
       "    </tr>\n",
       "  </thead>\n",
       "  <tbody>\n",
       "    <tr>\n",
       "      <th>12</th>\n",
       "      <td>2013</td>\n",
       "      <td>34</td>\n",
       "      <td>7.99</td>\n",
       "      <td>1</td>\n",
       "      <td>1</td>\n",
       "      <td>1.140000e+05</td>\n",
       "      <td>1</td>\n",
       "    </tr>\n",
       "    <tr>\n",
       "      <th>64</th>\n",
       "      <td>2020</td>\n",
       "      <td>30</td>\n",
       "      <td>8.99</td>\n",
       "      <td>1</td>\n",
       "      <td>0</td>\n",
       "      <td>2.076360e+03</td>\n",
       "      <td>1</td>\n",
       "    </tr>\n",
       "    <tr>\n",
       "      <th>57</th>\n",
       "      <td>2013</td>\n",
       "      <td>128</td>\n",
       "      <td>4.99</td>\n",
       "      <td>0</td>\n",
       "      <td>1</td>\n",
       "      <td>8.632817e+04</td>\n",
       "      <td>0</td>\n",
       "    </tr>\n",
       "    <tr>\n",
       "      <th>77</th>\n",
       "      <td>2014</td>\n",
       "      <td>224</td>\n",
       "      <td>14.99</td>\n",
       "      <td>0</td>\n",
       "      <td>0</td>\n",
       "      <td>6.230000e+04</td>\n",
       "      <td>1</td>\n",
       "    </tr>\n",
       "    <tr>\n",
       "      <th>42</th>\n",
       "      <td>2010</td>\n",
       "      <td>128</td>\n",
       "      <td>4.99</td>\n",
       "      <td>0</td>\n",
       "      <td>0</td>\n",
       "      <td>1.037000e+06</td>\n",
       "      <td>0</td>\n",
       "    </tr>\n",
       "  </tbody>\n",
       "</table>\n",
       "</div>"
      ],
      "text/plain": [
       "    Published Year  Page  Price  authorgender(male0fe1team2)  \\\n",
       "12            2013    34   7.99                            1   \n",
       "64            2020    30   8.99                            1   \n",
       "57            2013   128   4.99                            0   \n",
       "77            2014   224  14.99                            0   \n",
       "42            2010   128   4.99                            0   \n",
       "\n",
       "    isFirstBestSeller        Impact  isGlobal50 of first year(False=0True=1)  \n",
       "12                  1  1.140000e+05                                        1  \n",
       "64                  0  2.076360e+03                                        1  \n",
       "57                  1  8.632817e+04                                        0  \n",
       "77                  0  6.230000e+04                                        1  \n",
       "42                  0  1.037000e+06                                        0  "
      ]
     },
     "execution_count": 19,
     "metadata": {},
     "output_type": "execute_result"
    }
   ],
   "source": [
    "print(X_train.shape)\n",
    "X_train.head()"
   ]
  },
  {
   "cell_type": "code",
   "execution_count": 20,
   "metadata": {},
   "outputs": [
    {
     "name": "stdout",
     "output_type": "stream",
     "text": [
      "(20, 7)\n"
     ]
    },
    {
     "data": {
      "text/html": [
       "<div>\n",
       "<style scoped>\n",
       "    .dataframe tbody tr th:only-of-type {\n",
       "        vertical-align: middle;\n",
       "    }\n",
       "\n",
       "    .dataframe tbody tr th {\n",
       "        vertical-align: top;\n",
       "    }\n",
       "\n",
       "    .dataframe thead th {\n",
       "        text-align: right;\n",
       "    }\n",
       "</style>\n",
       "<table border=\"1\" class=\"dataframe\">\n",
       "  <thead>\n",
       "    <tr style=\"text-align: right;\">\n",
       "      <th></th>\n",
       "      <th>Published Year</th>\n",
       "      <th>Page</th>\n",
       "      <th>Price</th>\n",
       "      <th>authorgender(male0fe1team2)</th>\n",
       "      <th>isFirstBestSeller</th>\n",
       "      <th>Impact</th>\n",
       "      <th>isGlobal50 of first year(False=0True=1)</th>\n",
       "    </tr>\n",
       "  </thead>\n",
       "  <tbody>\n",
       "    <tr>\n",
       "      <th>28</th>\n",
       "      <td>2018</td>\n",
       "      <td>496</td>\n",
       "      <td>14.99</td>\n",
       "      <td>2</td>\n",
       "      <td>0</td>\n",
       "      <td>9.427000e+06</td>\n",
       "      <td>1</td>\n",
       "    </tr>\n",
       "    <tr>\n",
       "      <th>75</th>\n",
       "      <td>2019</td>\n",
       "      <td>46</td>\n",
       "      <td>8.99</td>\n",
       "      <td>0</td>\n",
       "      <td>1</td>\n",
       "      <td>2.163076e+03</td>\n",
       "      <td>0</td>\n",
       "    </tr>\n",
       "    <tr>\n",
       "      <th>61</th>\n",
       "      <td>2014</td>\n",
       "      <td>48</td>\n",
       "      <td>17.99</td>\n",
       "      <td>0</td>\n",
       "      <td>1</td>\n",
       "      <td>6.641690e+04</td>\n",
       "      <td>1</td>\n",
       "    </tr>\n",
       "    <tr>\n",
       "      <th>38</th>\n",
       "      <td>2018</td>\n",
       "      <td>256</td>\n",
       "      <td>9.99</td>\n",
       "      <td>0</td>\n",
       "      <td>0</td>\n",
       "      <td>2.389390e+04</td>\n",
       "      <td>1</td>\n",
       "    </tr>\n",
       "    <tr>\n",
       "      <th>88</th>\n",
       "      <td>2011</td>\n",
       "      <td>200</td>\n",
       "      <td>24.99</td>\n",
       "      <td>0</td>\n",
       "      <td>1</td>\n",
       "      <td>1.065364e+03</td>\n",
       "      <td>1</td>\n",
       "    </tr>\n",
       "  </tbody>\n",
       "</table>\n",
       "</div>"
      ],
      "text/plain": [
       "    Published Year  Page  Price  authorgender(male0fe1team2)  \\\n",
       "28            2018   496  14.99                            2   \n",
       "75            2019    46   8.99                            0   \n",
       "61            2014    48  17.99                            0   \n",
       "38            2018   256   9.99                            0   \n",
       "88            2011   200  24.99                            0   \n",
       "\n",
       "    isFirstBestSeller        Impact  isGlobal50 of first year(False=0True=1)  \n",
       "28                  0  9.427000e+06                                        1  \n",
       "75                  1  2.163076e+03                                        0  \n",
       "61                  1  6.641690e+04                                        1  \n",
       "38                  0  2.389390e+04                                        1  \n",
       "88                  1  1.065364e+03                                        1  "
      ]
     },
     "execution_count": 20,
     "metadata": {},
     "output_type": "execute_result"
    }
   ],
   "source": [
    "print(X_test.shape)\n",
    "X_test.head()"
   ]
  },
  {
   "cell_type": "code",
   "execution_count": 21,
   "metadata": {},
   "outputs": [
    {
     "name": "stdout",
     "output_type": "stream",
     "text": [
      "(76,)\n"
     ]
    },
    {
     "data": {
      "text/plain": [
       "12    1\n",
       "64    1\n",
       "57    1\n",
       "77    0\n",
       "42    1\n",
       "Name: 변경후Duration3(0=S1=L2=etc), dtype: int64"
      ]
     },
     "execution_count": 21,
     "metadata": {},
     "output_type": "execute_result"
    }
   ],
   "source": [
    "print(y_train.shape)\n",
    "y_train.head()"
   ]
  },
  {
   "cell_type": "code",
   "execution_count": 22,
   "metadata": {},
   "outputs": [],
   "source": [
    "from sklearn.preprocessing import StandardScaler\n",
    "scaler = StandardScaler()\n",
    "X_train = scaler.fit_transform(X_train)\n",
    "X_test = scaler.transform(X_test)"
   ]
  },
  {
   "cell_type": "code",
   "execution_count": 23,
   "metadata": {},
   "outputs": [
    {
     "data": {
      "text/plain": [
       "LogisticRegression()"
      ]
     },
     "execution_count": 23,
     "metadata": {},
     "output_type": "execute_result"
    }
   ],
   "source": [
    "X_train[:] = np.nan_to_num(X_train)\n",
    "y_train[:] = np.nan_to_num(y_train)\n",
    "\n",
    "\n",
    "from sklearn.linear_model import LogisticRegression\n",
    "model = LogisticRegression()\n",
    "model.fit(X_train, y_train)"
   ]
  },
  {
   "cell_type": "code",
   "execution_count": 48,
   "metadata": {},
   "outputs": [
    {
     "name": "stdout",
     "output_type": "stream",
     "text": [
      "    Constant:         0         1         2         3         4         5  \\\n",
      "0         1.0 -0.058940 -0.810453 -0.724071  0.449813  0.807573 -0.281961   \n",
      "1         1.0  0.920937 -0.836174 -0.561909  0.449813 -1.238278 -0.285990   \n",
      "2         1.0 -0.058940 -0.206019 -1.210554 -0.816327  0.807573 -0.282957   \n",
      "3         1.0  0.081042  0.411276  0.411057 -0.816327 -1.238278 -0.283822   \n",
      "4         1.0 -0.478887 -0.206019 -1.210554 -0.816327 -1.238278 -0.248735   \n",
      "..        ...       ...       ...       ...       ...       ...       ...   \n",
      "71        1.0 -0.758852 -0.939056 -1.217040  1.715952 -1.238278  2.048203   \n",
      "72        1.0 -0.898834  0.617041 -0.886232  0.449813  0.807573 -0.285427   \n",
      "73        1.0 -0.058940  0.411276 -0.866772  1.715952  0.807573 -0.283108   \n",
      "74        1.0 -1.738729 -0.103136 -0.724071 -0.816327  0.807573  0.221513   \n",
      "75        1.0  0.500990 -0.000254 -0.399748  0.449813  0.807573  0.081119   \n",
      "\n",
      "           6  \n",
      "0   0.829993  \n",
      "1   0.829993  \n",
      "2  -1.204829  \n",
      "3   0.829993  \n",
      "4  -1.204829  \n",
      "..       ...  \n",
      "71  0.829993  \n",
      "72  0.829993  \n",
      "73 -1.204829  \n",
      "74 -1.204829  \n",
      "75  0.829993  \n",
      "\n",
      "[76 rows x 8 columns]\n",
      "[0.00309598 0.00347907 0.00441799 0.00372704 0.00541475 0.00478095\n",
      " 0.00415    0.00381159] \n",
      " [0.05564149 0.0589836  0.06646797 0.06104949 0.07358496 0.06914438\n",
      " 0.06442047 0.0617381 ] \n",
      " [ -7.6673486  -11.4936747  -19.59698713   1.43974731  -5.97408402\n",
      "  -2.29727942   9.43363784  -5.00626476]\n",
      "nan\n",
      "nan\n",
      "nan\n",
      "nan\n",
      "nan\n",
      "nan\n",
      "nan\n",
      "nan\n",
      "[nan, nan, nan, nan, nan, nan, nan, nan]\n"
     ]
    }
   ],
   "source": [
    "# print(model.intercept_)\n",
    "# print(model.coef_)\n",
    "params = np.append(model.intercept_,model.coef_)\n",
    "predictions = model.predict(X_train)\n",
    "\n",
    "newX = pd.DataFrame({\"Constant:\":np.ones(len(X_train))}).join(pd.DataFrame(X_train))\n",
    "print(len(newX))\n",
    "# print(y_train)\n",
    "# print(\"---\")\n",
    "# print(predictions)\n",
    "MSE = (sum((y_train-predictions)**2))/(len(newX)-len(newX.columns))\n",
    "\n",
    "# Note if you don't want to use a DataFrame replace the two lines above with\n",
    "# newX = np.append(np.ones((len(X),1)), X, axis=1)\n",
    "# MSE = (sum((y-predictions)**2))/(len(newX)-len(newX[0]))\n",
    "\n",
    "var_b = MSE*(np.linalg.inv(np.dot(newX.T,newX)).diagonal())\n",
    "sd_b = np.sqrt(var_b)\n",
    "ts_b = params/ sd_b\n",
    "print(var_b,'\\n',sd_b,'\\n',ts_b)\n",
    "\n",
    "for i in ts_b:\n",
    "    print(stats.t.cdf(np.abs(i),(len(newX)-len(newX[0]))))\n",
    "p_values =[2*(1-stats.t.cdf(np.abs(i),(len(newX)-len(newX[0])))) for i in ts_b]\n",
    "print(p_values)"
   ]
  },
  {
   "cell_type": "code",
   "execution_count": 24,
   "metadata": {},
   "outputs": [
    {
     "name": "stdout",
     "output_type": "stream",
     "text": [
      "0.7894736842105263\n"
     ]
    }
   ],
   "source": [
    "print(model.score(X_train, y_train))"
   ]
  },
  {
   "cell_type": "code",
   "execution_count": 25,
   "metadata": {},
   "outputs": [
    {
     "name": "stdout",
     "output_type": "stream",
     "text": [
      "(20,)\n"
     ]
    },
    {
     "data": {
      "text/plain": [
       "array([0, 1, 1, 0, 0, 0, 0, 1, 1, 0, 0, 0, 0, 1, 1, 1, 1, 1, 1, 0])"
      ]
     },
     "execution_count": 25,
     "metadata": {},
     "output_type": "execute_result"
    }
   ],
   "source": [
    "X_test[:] = np.nan_to_num(X_test)\n",
    "\n",
    "print(predictions.shape)\n",
    "predictions[0:93]"
   ]
  },
  {
   "cell_type": "code",
   "execution_count": 26,
   "metadata": {},
   "outputs": [
    {
     "name": "stdout",
     "output_type": "stream",
     "text": [
      "0.6\n"
     ]
    }
   ],
   "source": [
    "print(model.score(X_test, y_test))"
   ]
  },
  {
   "cell_type": "code",
   "execution_count": 27,
   "metadata": {},
   "outputs": [
    {
     "name": "stdout",
     "output_type": "stream",
     "text": [
      "[[-0.67793836 -1.30257197  0.08789584 -0.43960271 -0.15884396  0.60771943\n",
      "  -0.30907726]]\n"
     ]
    }
   ],
   "source": [
    "print(model.coef_)\n",
    "\n",
    "#'Published Year', 'Page', 'Price','authorgender(male0fe1team2)', 'isFirstBestSeller', 'Impact', 'isGlobal50 of first year(False=0True=1)']\n"
   ]
  },
  {
   "cell_type": "code",
   "execution_count": null,
   "metadata": {},
   "outputs": [],
   "source": []
  },
  {
   "cell_type": "code",
   "execution_count": 28,
   "metadata": {},
   "outputs": [
    {
     "data": {
      "text/html": [
       "<div>\n",
       "<style scoped>\n",
       "    .dataframe tbody tr th:only-of-type {\n",
       "        vertical-align: middle;\n",
       "    }\n",
       "\n",
       "    .dataframe tbody tr th {\n",
       "        vertical-align: top;\n",
       "    }\n",
       "\n",
       "    .dataframe thead th {\n",
       "        text-align: right;\n",
       "    }\n",
       "</style>\n",
       "<table border=\"1\" class=\"dataframe\">\n",
       "  <thead>\n",
       "    <tr style=\"text-align: right;\">\n",
       "      <th></th>\n",
       "      <th>pred_No</th>\n",
       "      <th>pred_yes</th>\n",
       "    </tr>\n",
       "  </thead>\n",
       "  <tbody>\n",
       "    <tr>\n",
       "      <th>true_No</th>\n",
       "      <td>7</td>\n",
       "      <td>5</td>\n",
       "    </tr>\n",
       "    <tr>\n",
       "      <th>true_yes</th>\n",
       "      <td>3</td>\n",
       "      <td>5</td>\n",
       "    </tr>\n",
       "  </tbody>\n",
       "</table>\n",
       "</div>"
      ],
      "text/plain": [
       "          pred_No  pred_yes\n",
       "true_No         7         5\n",
       "true_yes        3         5"
      ]
     },
     "execution_count": 28,
     "metadata": {},
     "output_type": "execute_result"
    }
   ],
   "source": [
    "from sklearn.metrics import confusion_matrix\n",
    "\n",
    "conf_matrix = pd.DataFrame(confusion_matrix(y_test, predictions), \n",
    "                          columns=['pred_No', 'pred_yes'],\n",
    "                          index=['true_No', 'true_yes'])\n",
    "\n",
    "conf_matrix"
   ]
  },
  {
   "cell_type": "markdown",
   "metadata": {},
   "source": [
    "### ROC curve"
   ]
  },
  {
   "cell_type": "code",
   "execution_count": 29,
   "metadata": {},
   "outputs": [],
   "source": [
    "from sklearn.metrics import roc_curve, auc\n",
    "from matplotlib import pyplot as plt"
   ]
  },
  {
   "cell_type": "code",
   "execution_count": 30,
   "metadata": {},
   "outputs": [
    {
     "data": {
      "text/plain": [
       "array([[9.88117549e-01, 1.18824506e-02],\n",
       "       [4.06396994e-01, 5.93603006e-01],\n",
       "       [4.16442670e-01, 5.83557330e-01],\n",
       "       [8.28401862e-01, 1.71598138e-01],\n",
       "       [6.34756417e-01, 3.65243583e-01],\n",
       "       [5.53445987e-01, 4.46554013e-01],\n",
       "       [9.03796039e-01, 9.62039607e-02],\n",
       "       [2.36536838e-08, 9.99999976e-01],\n",
       "       [2.17589800e-01, 7.82410200e-01],\n",
       "       [6.81291027e-01, 3.18708973e-01],\n",
       "       [6.78645106e-01, 3.21354894e-01],\n",
       "       [5.86148411e-01, 4.13851589e-01],\n",
       "       [9.41445955e-01, 5.85540452e-02],\n",
       "       [4.58990450e-01, 5.41009550e-01],\n",
       "       [4.39654027e-01, 5.60345973e-01],\n",
       "       [4.73496110e-02, 9.52650389e-01],\n",
       "       [2.51826783e-01, 7.48173217e-01],\n",
       "       [2.47526234e-01, 7.52473766e-01],\n",
       "       [4.74215557e-01, 5.25784443e-01],\n",
       "       [8.60653228e-01, 1.39346772e-01]])"
      ]
     },
     "execution_count": 30,
     "metadata": {},
     "output_type": "execute_result"
    }
   ],
   "source": [
    "model.predict_proba(X_test)"
   ]
  },
  {
   "cell_type": "code",
   "execution_count": 31,
   "metadata": {
    "scrolled": true
   },
   "outputs": [
    {
     "name": "stdout",
     "output_type": "stream",
     "text": [
      "ROC AUC: 0.719\n"
     ]
    },
    {
     "data": {
      "image/png": "[encoded data removed]",
      "text/plain": [
       "<Figure size 432x288 with 1 Axes>"
      ]
     },
     "metadata": {
      "needs_background": "light"
     },
     "output_type": "display_data"
    }
   ],
   "source": [
    "fpr, tpr, _ = roc_curve(y_test, model.predict_proba(X_test)[:,1])\n",
    "\n",
    "# Calculate the AUC\n",
    "roc_auc = auc(fpr, tpr)\n",
    "print('ROC AUC: %0.3f' % roc_auc)\n",
    "\n",
    "# Plot of a ROC curve for a specific class\n",
    "plt.figure()\n",
    "plt.plot(fpr, tpr, color='darkorange', label='ROC curve (area = %0.2f)' % roc_auc)\n",
    "plt.plot([0, 1], [0, 1], color='navy', lw=2, linestyle='--')\n",
    "plt.xlim([0.0, 1.0])\n",
    "plt.ylim([0.0, 1.05])\n",
    "plt.xlabel('False Positive Rate')\n",
    "plt.ylabel('True Positive Rate')\n",
    "plt.title('ROC Curve')\n",
    "plt.legend(loc=\"lower right\")\n",
    "plt.show()"
   ]
  },
  {
   "cell_type": "code",
   "execution_count": 32,
   "metadata": {},
   "outputs": [
    {
     "data": {
      "text/plain": [
       "array([0.        , 0.08333333, 0.08333333, 0.16666667, 0.16666667,\n",
       "       0.25      , 0.25      , 0.33333333, 0.33333333, 0.41666667,\n",
       "       0.41666667, 1.        ])"
      ]
     },
     "execution_count": 32,
     "metadata": {},
     "output_type": "execute_result"
    }
   ],
   "source": [
    "fpr"
   ]
  },
  {
   "cell_type": "code",
   "execution_count": 33,
   "metadata": {},
   "outputs": [
    {
     "data": {
      "text/plain": [
       "array([0.   , 0.   , 0.125, 0.125, 0.375, 0.375, 0.5  , 0.5  , 0.625,\n",
       "       0.625, 1.   , 1.   ])"
      ]
     },
     "execution_count": 33,
     "metadata": {},
     "output_type": "execute_result"
    }
   ],
   "source": [
    "tpr"
   ]
  },
  {
   "cell_type": "markdown",
   "metadata": {},
   "source": [
    "### Accuracy"
   ]
  },
  {
   "cell_type": "code",
   "execution_count": 34,
   "metadata": {},
   "outputs": [],
   "source": [
    "from sklearn.metrics import accuracy_score, precision_score, recall_score, f1_score"
   ]
  },
  {
   "cell_type": "code",
   "execution_count": 35,
   "metadata": {
    "scrolled": true
   },
   "outputs": [
    {
     "name": "stdout",
     "output_type": "stream",
     "text": [
      "Accuracy: 0.600\n",
      "Precision: 0.500\n",
      "Recall: 0.625\n",
      "f1: 0.556\n"
     ]
    }
   ],
   "source": [
    "print(f'Accuracy: {accuracy_score(y_test, predictions):0.3f}')\n",
    "print(f'Precision: {precision_score(y_test, predictions):0.3f}')\n",
    "print(f'Recall: {recall_score(y_test, predictions):0.3f}')\n",
    "print(f'f1: {f1_score(y_test, predictions):0.3f}')"
   ]
  },
  {
   "cell_type": "code",
   "execution_count": 36,
   "metadata": {},
   "outputs": [
    {
     "name": "stderr",
     "output_type": "stream",
     "text": [
      "<ipython-input-36-672599b064c5>:6: SettingWithCopyWarning: \n",
      "A value is trying to be set on a copy of a slice from a DataFrame.\n",
      "Try using .loc[row_indexer,col_indexer] = value instead\n",
      "\n",
      "See the caveats in the documentation: https://pandas.pydata.org/pandas-docs/stable/user_guide/indexing.html#returning-a-view-versus-a-copy\n",
      "  X[:] = np.nan_to_num(X)\n",
      "/Users/Koh/opt/anaconda3/lib/python3.8/site-packages/pandas/core/indexing.py:966: SettingWithCopyWarning: \n",
      "A value is trying to be set on a copy of a slice from a DataFrame.\n",
      "Try using .loc[row_indexer,col_indexer] = value instead\n",
      "\n",
      "See the caveats in the documentation: https://pandas.pydata.org/pandas-docs/stable/user_guide/indexing.html#returning-a-view-versus-a-copy\n",
      "  self.obj[item] = s\n"
     ]
    },
    {
     "data": {
      "text/plain": [
       "array([0.6       , 0.57894737, 0.57894737, 0.57894737, 0.57894737])"
      ]
     },
     "execution_count": 36,
     "metadata": {},
     "output_type": "execute_result"
    }
   ],
   "source": [
    "from sklearn.model_selection import StratifiedKFold \n",
    "from sklearn.model_selection import KFold \n",
    "from sklearn.model_selection import cross_val_score \n",
    "import numpy\n",
    "\n",
    "X[:] = np.nan_to_num(X)\n",
    "y[:] = np.nan_to_num(y)\n",
    "\n",
    "kfold = StratifiedKFold(n_splits=5)\n",
    "cross_val_score(model, X, y, scoring=\"accuracy\", cv=kfold)"
   ]
  },
  {
   "cell_type": "code",
   "execution_count": 182,
   "metadata": {},
   "outputs": [
    {
     "name": "stderr",
     "output_type": "stream",
     "text": [
      "C:\\Anaconda3\\lib\\site-packages\\sklearn\\metrics\\_classification.py:1221: UndefinedMetricWarning: Precision is ill-defined and being set to 0.0 due to no predicted samples. Use `zero_division` parameter to control this behavior.\n",
      "  _warn_prf(average, modifier, msg_start, len(result))\n",
      "C:\\Anaconda3\\lib\\site-packages\\sklearn\\metrics\\_classification.py:1221: UndefinedMetricWarning: Precision is ill-defined and being set to 0.0 due to no predicted samples. Use `zero_division` parameter to control this behavior.\n",
      "  _warn_prf(average, modifier, msg_start, len(result))\n",
      "C:\\Anaconda3\\lib\\site-packages\\sklearn\\metrics\\_classification.py:1221: UndefinedMetricWarning: Precision is ill-defined and being set to 0.0 due to no predicted samples. Use `zero_division` parameter to control this behavior.\n",
      "  _warn_prf(average, modifier, msg_start, len(result))\n",
      "C:\\Anaconda3\\lib\\site-packages\\sklearn\\metrics\\_classification.py:1221: UndefinedMetricWarning: Precision is ill-defined and being set to 0.0 due to no predicted samples. Use `zero_division` parameter to control this behavior.\n",
      "  _warn_prf(average, modifier, msg_start, len(result))\n"
     ]
    },
    {
     "data": {
      "text/plain": [
       "array([0.5, 0. , 0. , 0. , 0. ])"
      ]
     },
     "execution_count": 182,
     "metadata": {},
     "output_type": "execute_result"
    }
   ],
   "source": [
    "cross_val_score(model, X, y, scoring=\"precision\", cv=kfold)"
   ]
  },
  {
   "cell_type": "code",
   "execution_count": 183,
   "metadata": {},
   "outputs": [
    {
     "data": {
      "text/plain": [
       "array([0.125, 0.   , 0.   , 0.   , 0.   ])"
      ]
     },
     "execution_count": 183,
     "metadata": {},
     "output_type": "execute_result"
    }
   ],
   "source": [
    "cross_val_score(model, X, y, scoring=\"recall\", cv=kfold)"
   ]
  },
  {
   "cell_type": "code",
   "execution_count": 184,
   "metadata": {},
   "outputs": [
    {
     "data": {
      "text/plain": [
       "array([0.2, 0. , 0. , 0. , 0. ])"
      ]
     },
     "execution_count": 184,
     "metadata": {},
     "output_type": "execute_result"
    }
   ],
   "source": [
    "cross_val_score(model, X, y, scoring=\"f1\", cv=kfold)"
   ]
  },
  {
   "cell_type": "code",
   "execution_count": null,
   "metadata": {},
   "outputs": [],
   "source": []
  },
  {
   "cell_type": "code",
   "execution_count": null,
   "metadata": {},
   "outputs": [],
   "source": []
  }
 ],
 "metadata": {
  "kernelspec": {
   "display_name": "Python 3",
   "language": "python",
   "name": "python3"
  },
  "language_info": {
   "codemirror_mode": {
    "name": "ipython",
    "version": 3
   },
   "file_extension": ".py",
   "mimetype": "text/x-python",
   "name": "python",
   "nbconvert_exporter": "python",
   "pygments_lexer": "ipython3",
   "version": "3.8.3"
  }
 },
 "nbformat": 4,
 "nbformat_minor": 2
}
