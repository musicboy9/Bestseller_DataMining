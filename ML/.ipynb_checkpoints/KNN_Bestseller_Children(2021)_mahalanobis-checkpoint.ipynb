{
 "cells": [
  {
   "cell_type": "code",
   "execution_count": 1,
   "metadata": {},
   "outputs": [],
   "source": [
    "import numpy as np\n",
    "import pandas as pd\n",
    "import matplotlib.pyplot as plt\n",
    "from sklearn.neighbors import KNeighborsClassifier \n",
    "from sklearn.model_selection import train_test_split \n",
    "from sklearn.metrics import confusion_matrix \n",
    "from sklearn.preprocessing import StandardScaler\n",
    "from sklearn.metrics import confusion_matrix, classification_report\n",
    "from sklearn.neighbors import NearestNeighbors"
   ]
  },
  {
   "cell_type": "code",
   "execution_count": 2,
   "metadata": {},
   "outputs": [],
   "source": [
    "df = pd.read_csv('/Users/Koh/Documents/2017-_SNU/Research/DM/data/ML/Bestseller_Children.csv', encoding=\"cp949\")"
   ]
  },
  {
   "cell_type": "code",
   "execution_count": 3,
   "metadata": {},
   "outputs": [
    {
     "data": {
      "text/html": [
       "<div>\n",
       "<style scoped>\n",
       "    .dataframe tbody tr th:only-of-type {\n",
       "        vertical-align: middle;\n",
       "    }\n",
       "\n",
       "    .dataframe tbody tr th {\n",
       "        vertical-align: top;\n",
       "    }\n",
       "\n",
       "    .dataframe thead th {\n",
       "        text-align: right;\n",
       "    }\n",
       "</style>\n",
       "<table border=\"1\" class=\"dataframe\">\n",
       "  <thead>\n",
       "    <tr style=\"text-align: right;\">\n",
       "      <th></th>\n",
       "      <th>BestsellerChildren</th>\n",
       "      <th>Genre</th>\n",
       "      <th>GenreBin</th>\n",
       "      <th>Title</th>\n",
       "      <th>Author</th>\n",
       "      <th>Published Year</th>\n",
       "      <th>Publisher</th>\n",
       "      <th>Page</th>\n",
       "      <th>Price</th>\n",
       "      <th>authorgender(male0fe1team2)</th>\n",
       "      <th>isFirstBestSeller</th>\n",
       "      <th>Duration</th>\n",
       "      <th>변경전Duration</th>\n",
       "      <th>변경후Duration3(0=S1=L2=etc)</th>\n",
       "      <th>Impact</th>\n",
       "      <th>year_rank</th>\n",
       "      <th>isGlobal50 of first year(False=0True=1)</th>\n",
       "    </tr>\n",
       "  </thead>\n",
       "  <tbody>\n",
       "    <tr>\n",
       "      <th>0</th>\n",
       "      <td>2020</td>\n",
       "      <td>Children'sBooks</td>\n",
       "      <td>3</td>\n",
       "      <td>School Zone - Big Preschool Workbook - Ages 4…</td>\n",
       "      <td>School Zone</td>\n",
       "      <td>2018</td>\n",
       "      <td>School Zone Publishing</td>\n",
       "      <td>320</td>\n",
       "      <td>12.99</td>\n",
       "      <td>2</td>\n",
       "      <td>1</td>\n",
       "      <td>3</td>\n",
       "      <td>1</td>\n",
       "      <td>1</td>\n",
       "      <td>1.397000e+08</td>\n",
       "      <td>2019_09</td>\n",
       "      <td>0</td>\n",
       "    </tr>\n",
       "    <tr>\n",
       "      <th>1</th>\n",
       "      <td>2020</td>\n",
       "      <td>Children'sBooks</td>\n",
       "      <td>3</td>\n",
       "      <td>If Animals Kissed Good Night</td>\n",
       "      <td>Ann Whitford Paul</td>\n",
       "      <td>2014</td>\n",
       "      <td>Farrar Straus and Giroux</td>\n",
       "      <td>34</td>\n",
       "      <td>7.99</td>\n",
       "      <td>1</td>\n",
       "      <td>1</td>\n",
       "      <td>4</td>\n",
       "      <td>1</td>\n",
       "      <td>1</td>\n",
       "      <td>1.562000e+04</td>\n",
       "      <td>2019_24</td>\n",
       "      <td>1</td>\n",
       "    </tr>\n",
       "    <tr>\n",
       "      <th>2</th>\n",
       "      <td>2020</td>\n",
       "      <td>Children'sBooks</td>\n",
       "      <td>3</td>\n",
       "      <td>The Very Hungry Caterpillar</td>\n",
       "      <td>Eric Carle</td>\n",
       "      <td>1981</td>\n",
       "      <td>World of Eric Carle</td>\n",
       "      <td>32</td>\n",
       "      <td>21.99</td>\n",
       "      <td>0</td>\n",
       "      <td>0</td>\n",
       "      <td>8</td>\n",
       "      <td>1</td>\n",
       "      <td>1</td>\n",
       "      <td>1.386000e+05</td>\n",
       "      <td>2019_16</td>\n",
       "      <td>1</td>\n",
       "    </tr>\n",
       "    <tr>\n",
       "      <th>3</th>\n",
       "      <td>2020</td>\n",
       "      <td>Children'sBooks</td>\n",
       "      <td>3</td>\n",
       "      <td>Giraffes Can't Dance</td>\n",
       "      <td>Giles Andreae</td>\n",
       "      <td>2012</td>\n",
       "      <td>Cartwheel Books</td>\n",
       "      <td>32</td>\n",
       "      <td>16.99</td>\n",
       "      <td>0</td>\n",
       "      <td>1</td>\n",
       "      <td>7</td>\n",
       "      <td>1</td>\n",
       "      <td>1</td>\n",
       "      <td>5.403860e+03</td>\n",
       "      <td>2019_23</td>\n",
       "      <td>1</td>\n",
       "    </tr>\n",
       "    <tr>\n",
       "      <th>4</th>\n",
       "      <td>2020</td>\n",
       "      <td>Children'sBooks</td>\n",
       "      <td>3</td>\n",
       "      <td>Brown Bear Brown Bear What Do You See?</td>\n",
       "      <td>Bill Martin Jr. and Eric Carle</td>\n",
       "      <td>2020</td>\n",
       "      <td>Henry Holt and Co. (BYR)</td>\n",
       "      <td>24</td>\n",
       "      <td>8.99</td>\n",
       "      <td>0</td>\n",
       "      <td>0</td>\n",
       "      <td>6</td>\n",
       "      <td>1</td>\n",
       "      <td>1</td>\n",
       "      <td>7.037929e+03</td>\n",
       "      <td>2019_48</td>\n",
       "      <td>1</td>\n",
       "    </tr>\n",
       "    <tr>\n",
       "      <th>...</th>\n",
       "      <td>...</td>\n",
       "      <td>...</td>\n",
       "      <td>...</td>\n",
       "      <td>...</td>\n",
       "      <td>...</td>\n",
       "      <td>...</td>\n",
       "      <td>...</td>\n",
       "      <td>...</td>\n",
       "      <td>...</td>\n",
       "      <td>...</td>\n",
       "      <td>...</td>\n",
       "      <td>...</td>\n",
       "      <td>...</td>\n",
       "      <td>...</td>\n",
       "      <td>...</td>\n",
       "      <td>...</td>\n",
       "      <td>...</td>\n",
       "    </tr>\n",
       "    <tr>\n",
       "      <th>91</th>\n",
       "      <td>2012</td>\n",
       "      <td>Children'sBooks</td>\n",
       "      <td>3</td>\n",
       "      <td>LEGO NINJAGO: Character Encyclopedia</td>\n",
       "      <td>DK</td>\n",
       "      <td>2016</td>\n",
       "      <td>DK Children</td>\n",
       "      <td>224</td>\n",
       "      <td>18.99</td>\n",
       "      <td>2</td>\n",
       "      <td>1</td>\n",
       "      <td>1</td>\n",
       "      <td>0</td>\n",
       "      <td>0</td>\n",
       "      <td>6.988100e+07</td>\n",
       "      <td>NaN</td>\n",
       "      <td>1</td>\n",
       "    </tr>\n",
       "    <tr>\n",
       "      <th>92</th>\n",
       "      <td>2012</td>\n",
       "      <td>Children'sBooks</td>\n",
       "      <td>3</td>\n",
       "      <td>Cabin Fever (Diary of a Wimpy Kid Book 6)</td>\n",
       "      <td>Jeff Kinney</td>\n",
       "      <td>2011</td>\n",
       "      <td>Harry N. Abrams</td>\n",
       "      <td>224</td>\n",
       "      <td>14.99</td>\n",
       "      <td>0</td>\n",
       "      <td>0</td>\n",
       "      <td>2</td>\n",
       "      <td>0</td>\n",
       "      <td>1</td>\n",
       "      <td>6.000000e+04</td>\n",
       "      <td>NaN</td>\n",
       "      <td>1</td>\n",
       "    </tr>\n",
       "    <tr>\n",
       "      <th>93</th>\n",
       "      <td>2011</td>\n",
       "      <td>Children'sBooks</td>\n",
       "      <td>3</td>\n",
       "      <td>Every Thing On It</td>\n",
       "      <td>Shel Silverstein</td>\n",
       "      <td>2011</td>\n",
       "      <td>HarperCollins</td>\n",
       "      <td>208</td>\n",
       "      <td>7.30</td>\n",
       "      <td>0</td>\n",
       "      <td>1</td>\n",
       "      <td>1</td>\n",
       "      <td>0</td>\n",
       "      <td>0</td>\n",
       "      <td>1.700000e+04</td>\n",
       "      <td>NaN</td>\n",
       "      <td>1</td>\n",
       "    </tr>\n",
       "    <tr>\n",
       "      <th>94</th>\n",
       "      <td>2011</td>\n",
       "      <td>Children'sBooks</td>\n",
       "      <td>3</td>\n",
       "      <td>Guinness World Records 2012</td>\n",
       "      <td>Guinness World Records</td>\n",
       "      <td>2011</td>\n",
       "      <td>Guinness World Records</td>\n",
       "      <td>288</td>\n",
       "      <td>28.95</td>\n",
       "      <td>2</td>\n",
       "      <td>1</td>\n",
       "      <td>1</td>\n",
       "      <td>0</td>\n",
       "      <td>0</td>\n",
       "      <td>2.090000e+05</td>\n",
       "      <td>NaN</td>\n",
       "      <td>0</td>\n",
       "    </tr>\n",
       "    <tr>\n",
       "      <th>95</th>\n",
       "      <td>2011</td>\n",
       "      <td>Children'sBooks</td>\n",
       "      <td>3</td>\n",
       "      <td>The Invention of Hugo Cabret</td>\n",
       "      <td>Brian Selznick</td>\n",
       "      <td>2007</td>\n",
       "      <td>Scholastic Press</td>\n",
       "      <td>533</td>\n",
       "      <td>24.99</td>\n",
       "      <td>0</td>\n",
       "      <td>1</td>\n",
       "      <td>1</td>\n",
       "      <td>0</td>\n",
       "      <td>0</td>\n",
       "      <td>1.344030e+04</td>\n",
       "      <td>NaN</td>\n",
       "      <td>0</td>\n",
       "    </tr>\n",
       "  </tbody>\n",
       "</table>\n",
       "<p>96 rows × 17 columns</p>\n",
       "</div>"
      ],
      "text/plain": [
       "    BestsellerChildren            Genre  GenreBin  \\\n",
       "0                 2020  Children'sBooks         3   \n",
       "1                 2020  Children'sBooks         3   \n",
       "2                 2020  Children'sBooks         3   \n",
       "3                 2020  Children'sBooks         3   \n",
       "4                 2020  Children'sBooks         3   \n",
       "..                 ...              ...       ...   \n",
       "91                2012  Children'sBooks         3   \n",
       "92                2012  Children'sBooks         3   \n",
       "93                2011  Children'sBooks         3   \n",
       "94                2011  Children'sBooks         3   \n",
       "95                2011  Children'sBooks         3   \n",
       "\n",
       "                                             Title  \\\n",
       "0   School Zone - Big Preschool Workbook - Ages 4…   \n",
       "1                     If Animals Kissed Good Night   \n",
       "2                      The Very Hungry Caterpillar   \n",
       "3                             Giraffes Can't Dance   \n",
       "4           Brown Bear Brown Bear What Do You See?   \n",
       "..                                             ...   \n",
       "91            LEGO NINJAGO: Character Encyclopedia   \n",
       "92       Cabin Fever (Diary of a Wimpy Kid Book 6)   \n",
       "93                               Every Thing On It   \n",
       "94                     Guinness World Records 2012   \n",
       "95                    The Invention of Hugo Cabret   \n",
       "\n",
       "                            Author  Published Year                  Publisher  \\\n",
       "0                      School Zone            2018     School Zone Publishing   \n",
       "1                Ann Whitford Paul            2014  Farrar Straus and Giroux    \n",
       "2                       Eric Carle            1981       World of Eric Carle    \n",
       "3                    Giles Andreae            2012            Cartwheel Books   \n",
       "4   Bill Martin Jr. and Eric Carle            2020   Henry Holt and Co. (BYR)   \n",
       "..                             ...             ...                        ...   \n",
       "91                              DK            2016                DK Children   \n",
       "92                     Jeff Kinney            2011            Harry N. Abrams   \n",
       "93                Shel Silverstein            2011              HarperCollins   \n",
       "94          Guinness World Records            2011    Guinness World Records    \n",
       "95                  Brian Selznick            2007           Scholastic Press   \n",
       "\n",
       "    Page  Price  authorgender(male0fe1team2)  isFirstBestSeller Duration  \\\n",
       "0    320  12.99                            2                  1        3   \n",
       "1     34   7.99                            1                  1        4   \n",
       "2     32  21.99                            0                  0        8   \n",
       "3     32  16.99                            0                  1        7   \n",
       "4     24   8.99                            0                  0        6   \n",
       "..   ...    ...                          ...                ...      ...   \n",
       "91   224  18.99                            2                  1        1   \n",
       "92   224  14.99                            0                  0        2   \n",
       "93   208   7.30                            0                  1        1   \n",
       "94   288  28.95                            2                  1        1   \n",
       "95   533  24.99                            0                  1        1   \n",
       "\n",
       "    변경전Duration  변경후Duration3(0=S1=L2=etc)        Impact year_rank  \\\n",
       "0             1                          1  1.397000e+08   2019_09   \n",
       "1             1                          1  1.562000e+04   2019_24   \n",
       "2             1                          1  1.386000e+05   2019_16   \n",
       "3             1                          1  5.403860e+03   2019_23   \n",
       "4             1                          1  7.037929e+03   2019_48   \n",
       "..          ...                        ...           ...       ...   \n",
       "91            0                          0  6.988100e+07       NaN   \n",
       "92            0                          1  6.000000e+04       NaN   \n",
       "93            0                          0  1.700000e+04       NaN   \n",
       "94            0                          0  2.090000e+05       NaN   \n",
       "95            0                          0  1.344030e+04       NaN   \n",
       "\n",
       "    isGlobal50 of first year(False=0True=1)  \n",
       "0                                         0  \n",
       "1                                         1  \n",
       "2                                         1  \n",
       "3                                         1  \n",
       "4                                         1  \n",
       "..                                      ...  \n",
       "91                                        1  \n",
       "92                                        1  \n",
       "93                                        1  \n",
       "94                                        0  \n",
       "95                                        0  \n",
       "\n",
       "[96 rows x 17 columns]"
      ]
     },
     "execution_count": 3,
     "metadata": {},
     "output_type": "execute_result"
    }
   ],
   "source": [
    "df"
   ]
  },
  {
   "cell_type": "code",
   "execution_count": 608,
   "metadata": {},
   "outputs": [],
   "source": [
    "df_x = df[['Published Year', 'Page', 'Price','authorgender(male0fe1team2)', 'isFirstBestSeller','Impact', 'isGlobal50 of first year(False=0True=1)']]\n",
    "df_y = df['변경후Duration3(0=S1=L2=etc)']"
   ]
  },
  {
   "cell_type": "code",
   "execution_count": 609,
   "metadata": {},
   "outputs": [],
   "source": [
    "x_train, x_test, y_train, y_test = train_test_split(df_x, df_y, test_size=0.2, random_state = 100)"
   ]
  },
  {
   "cell_type": "code",
   "execution_count": 610,
   "metadata": {},
   "outputs": [],
   "source": [
    "scaler = StandardScaler()\n",
    "x_train = scaler.fit_transform(x_train)\n",
    "x_test = scaler.transform(x_test)\n",
    "\n",
    "x_train[:] = np.nan_to_num(x_train)\n",
    "y_train[:] = np.nan_to_num(y_train)\n"
   ]
  },
  {
   "cell_type": "code",
   "execution_count": 718,
   "metadata": {},
   "outputs": [],
   "source": [
    "cov = np.cov(x_train, rowvar=False)\n",
    "kNN = KNeighborsClassifier(algorithm='brute', n_neighbors = 9, metric = 'mahalanobis', metric_params=dict(V=cov))"
   ]
  },
  {
   "cell_type": "code",
   "execution_count": 719,
   "metadata": {},
   "outputs": [
    {
     "data": {
      "text/plain": [
       "KNeighborsClassifier(algorithm='brute', metric='mahalanobis',\n",
       "                     metric_params={'V': array([[ 1.01333333e+00,  2.99227859e-01, -5.74415646e-02,\n",
       "         9.83122047e-03, -1.22884249e-01,  3.62235356e-02,\n",
       "        -1.12288173e-01],\n",
       "       [ 2.99227859e-01,  1.01333333e+00,  2.48666286e-01,\n",
       "        -2.36185138e-01, -2.90624947e-01, -5.71642114e-02,\n",
       "        -2.84354698e-01],\n",
       "       [-5.74415646e-02,  2.48666286e-01,  1.01333333e...\n",
       "         1.00841668e-03],\n",
       "       [-1.22884249e-01, -2.90624947e-01, -1.13601198e-01,\n",
       "         3.96690872e-01,  1.01333333e+00, -5.62316371e-04,\n",
       "        -9.18022614e-02],\n",
       "       [ 3.62235356e-02, -5.71642114e-02, -1.19251035e-01,\n",
       "         4.94424240e-01, -5.62316371e-04,  1.01333333e+00,\n",
       "         4.17169936e-02],\n",
       "       [-1.12288173e-01, -2.84354698e-01,  2.42787150e-01,\n",
       "         1.00841668e-03, -9.18022614e-02,  4.17169936e-02,\n",
       "         1.01333333e+00]])},\n",
       "                     n_neighbors=9)"
      ]
     },
     "execution_count": 719,
     "metadata": {},
     "output_type": "execute_result"
    }
   ],
   "source": [
    "kNN.fit(x_train, y_train)"
   ]
  },
  {
   "cell_type": "code",
   "execution_count": 720,
   "metadata": {},
   "outputs": [
    {
     "name": "stdout",
     "output_type": "stream",
     "text": [
      "0.7368421052631579\n"
     ]
    }
   ],
   "source": [
    "print(kNN.score(x_train, y_train))"
   ]
  },
  {
   "cell_type": "code",
   "execution_count": 721,
   "metadata": {},
   "outputs": [
    {
     "name": "stdout",
     "output_type": "stream",
     "text": [
      "0.65\n"
     ]
    },
    {
     "name": "stderr",
     "output_type": "stream",
     "text": [
      "C:\\Anaconda3\\lib\\site-packages\\sklearn\\metrics\\pairwise.py:1456: FutureWarning: from version 0.25, pairwise_distances for metric='mahalanobis' will require VI to be specified if Y is passed.\n",
      "  warnings.warn(\"from version 0.25, pairwise_distances for \"\n"
     ]
    }
   ],
   "source": [
    "print(kNN.score(x_test, y_test))"
   ]
  },
  {
   "cell_type": "code",
   "execution_count": 722,
   "metadata": {},
   "outputs": [
    {
     "name": "stderr",
     "output_type": "stream",
     "text": [
      "C:\\Anaconda3\\lib\\site-packages\\sklearn\\metrics\\pairwise.py:1456: FutureWarning: from version 0.25, pairwise_distances for metric='mahalanobis' will require VI to be specified if Y is passed.\n",
      "  warnings.warn(\"from version 0.25, pairwise_distances for \"\n"
     ]
    }
   ],
   "source": [
    "y_pred = kNN.predict(x_test)"
   ]
  },
  {
   "cell_type": "code",
   "execution_count": 723,
   "metadata": {},
   "outputs": [
    {
     "data": {
      "text/plain": [
       "array([1, 0, 0, 1, 1, 0, 0, 0, 0, 1, 0, 1, 0, 0, 0, 0, 0, 0, 0, 0],\n",
       "      dtype=int64)"
      ]
     },
     "execution_count": 723,
     "metadata": {},
     "output_type": "execute_result"
    }
   ],
   "source": [
    "y_pred"
   ]
  },
  {
   "cell_type": "code",
   "execution_count": 724,
   "metadata": {},
   "outputs": [
    {
     "data": {
      "text/plain": [
       "array([[ 3,  5],\n",
       "       [ 2, 10]], dtype=int64)"
      ]
     },
     "execution_count": 724,
     "metadata": {},
     "output_type": "execute_result"
    }
   ],
   "source": [
    "confusion_matrix(y_test, y_pred, labels = [1, 0])"
   ]
  },
  {
   "cell_type": "code",
   "execution_count": 725,
   "metadata": {},
   "outputs": [],
   "source": [
    "conf_matrix = pd.DataFrame(confusion_matrix(y_test, y_pred), columns=['pred_0', 'pred_1'], index=['true_0', 'true_1'])"
   ]
  },
  {
   "cell_type": "code",
   "execution_count": 726,
   "metadata": {},
   "outputs": [
    {
     "data": {
      "text/html": [
       "<div>\n",
       "<style scoped>\n",
       "    .dataframe tbody tr th:only-of-type {\n",
       "        vertical-align: middle;\n",
       "    }\n",
       "\n",
       "    .dataframe tbody tr th {\n",
       "        vertical-align: top;\n",
       "    }\n",
       "\n",
       "    .dataframe thead th {\n",
       "        text-align: right;\n",
       "    }\n",
       "</style>\n",
       "<table border=\"1\" class=\"dataframe\">\n",
       "  <thead>\n",
       "    <tr style=\"text-align: right;\">\n",
       "      <th></th>\n",
       "      <th>pred_0</th>\n",
       "      <th>pred_1</th>\n",
       "    </tr>\n",
       "  </thead>\n",
       "  <tbody>\n",
       "    <tr>\n",
       "      <th>true_0</th>\n",
       "      <td>10</td>\n",
       "      <td>2</td>\n",
       "    </tr>\n",
       "    <tr>\n",
       "      <th>true_1</th>\n",
       "      <td>5</td>\n",
       "      <td>3</td>\n",
       "    </tr>\n",
       "  </tbody>\n",
       "</table>\n",
       "</div>"
      ],
      "text/plain": [
       "        pred_0  pred_1\n",
       "true_0      10       2\n",
       "true_1       5       3"
      ]
     },
     "execution_count": 726,
     "metadata": {},
     "output_type": "execute_result"
    }
   ],
   "source": [
    "conf_matrix"
   ]
  },
  {
   "cell_type": "code",
   "execution_count": 727,
   "metadata": {},
   "outputs": [],
   "source": [
    "from sklearn.metrics import roc_curve, auc\n",
    "from matplotlib import pyplot as plt"
   ]
  },
  {
   "cell_type": "code",
   "execution_count": 728,
   "metadata": {},
   "outputs": [
    {
     "name": "stderr",
     "output_type": "stream",
     "text": [
      "C:\\Anaconda3\\lib\\site-packages\\sklearn\\metrics\\pairwise.py:1456: FutureWarning: from version 0.25, pairwise_distances for metric='mahalanobis' will require VI to be specified if Y is passed.\n",
      "  warnings.warn(\"from version 0.25, pairwise_distances for \"\n"
     ]
    },
    {
     "data": {
      "text/plain": [
       "array([[0.44444444, 0.55555556],\n",
       "       [0.55555556, 0.44444444],\n",
       "       [0.77777778, 0.22222222],\n",
       "       [0.44444444, 0.55555556],\n",
       "       [0.55555556, 0.44444444],\n",
       "       [0.33333333, 0.66666667],\n",
       "       [0.55555556, 0.44444444],\n",
       "       [0.66666667, 0.33333333],\n",
       "       [0.55555556, 0.44444444],\n",
       "       [0.55555556, 0.44444444],\n",
       "       [0.44444444, 0.55555556],\n",
       "       [0.66666667, 0.33333333],\n",
       "       [0.33333333, 0.66666667],\n",
       "       [0.44444444, 0.55555556],\n",
       "       [0.66666667, 0.33333333],\n",
       "       [0.66666667, 0.33333333],\n",
       "       [0.66666667, 0.33333333],\n",
       "       [0.44444444, 0.55555556],\n",
       "       [0.33333333, 0.66666667],\n",
       "       [0.77777778, 0.22222222]])"
      ]
     },
     "execution_count": 728,
     "metadata": {},
     "output_type": "execute_result"
    }
   ],
   "source": [
    "kNN.predict_proba(x_valid)"
   ]
  },
  {
   "cell_type": "code",
   "execution_count": 736,
   "metadata": {},
   "outputs": [
    {
     "name": "stdout",
     "output_type": "stream",
     "text": [
      "ROC AUC: 0.854\n"
     ]
    },
    {
     "name": "stderr",
     "output_type": "stream",
     "text": [
      "C:\\Anaconda3\\lib\\site-packages\\sklearn\\metrics\\pairwise.py:1456: FutureWarning: from version 0.25, pairwise_distances for metric='mahalanobis' will require VI to be specified if Y is passed.\n",
      "  warnings.warn(\"from version 0.25, pairwise_distances for \"\n"
     ]
    },
    {
     "data": {
      "image/png": "[encoded data removed]",
      "text/plain": [
       "<Figure size 432x288 with 1 Axes>"
      ]
     },
     "metadata": {
      "needs_background": "light"
     },
     "output_type": "display_data"
    }
   ],
   "source": [
    "fpr, tpr, _ = roc_curve(y_test, kNN.predict_proba(x_valid)[:,1])\n",
    "\n",
    "# Calculate the AUC\n",
    "roc_auc = auc(fpr, tpr)\n",
    "print('ROC AUC: %0.3f' % roc_auc)\n",
    "\n",
    "# Plot of a ROC curve for a specific class\n",
    "plt.figure()\n",
    "plt.plot(fpr, tpr, color='darkorange', label='ROC curve (area = %0.2f)' % roc_auc)\n",
    "plt.plot([0, 1], [0, 1], color='navy', lw=2, linestyle='--')\n",
    "plt.xlim([0.0, 1.0])\n",
    "plt.ylim([0.0, 1.05])\n",
    "plt.xlabel('False Positive Rate')\n",
    "plt.ylabel('True Positive Rate')\n",
    "plt.title('ROC Curve')\n",
    "plt.legend(loc=\"lower right\")\n",
    "plt.show()"
   ]
  },
  {
   "cell_type": "code",
   "execution_count": 730,
   "metadata": {},
   "outputs": [
    {
     "data": {
      "text/plain": [
       "array([0.        , 0.08333333, 0.16666667, 0.41666667, 0.83333333,\n",
       "       1.        ])"
      ]
     },
     "execution_count": 730,
     "metadata": {},
     "output_type": "execute_result"
    }
   ],
   "source": [
    "fpr"
   ]
  },
  {
   "cell_type": "code",
   "execution_count": 731,
   "metadata": {},
   "outputs": [
    {
     "data": {
      "text/plain": [
       "array([0.  , 0.25, 0.75, 1.  , 1.  , 1.  ])"
      ]
     },
     "execution_count": 731,
     "metadata": {},
     "output_type": "execute_result"
    }
   ],
   "source": [
    "tpr"
   ]
  },
  {
   "cell_type": "code",
   "execution_count": 732,
   "metadata": {},
   "outputs": [
    {
     "name": "stderr",
     "output_type": "stream",
     "text": [
      "C:\\Anaconda3\\lib\\site-packages\\sklearn\\metrics\\pairwise.py:1456: FutureWarning: from version 0.25, pairwise_distances for metric='mahalanobis' will require VI to be specified if Y is passed.\n",
      "  warnings.warn(\"from version 0.25, pairwise_distances for \"\n"
     ]
    }
   ],
   "source": [
    "predictions = kNN.predict(x_valid)"
   ]
  },
  {
   "cell_type": "code",
   "execution_count": 733,
   "metadata": {},
   "outputs": [],
   "source": [
    "from sklearn.metrics import accuracy_score, precision_score, recall_score, f1_score"
   ]
  },
  {
   "cell_type": "code",
   "execution_count": 734,
   "metadata": {},
   "outputs": [
    {
     "name": "stdout",
     "output_type": "stream",
     "text": [
      "Accuracy: 0.800\n",
      "Precision: 0.750\n",
      "Recall: 0.750\n",
      "f1: 0.750\n"
     ]
    }
   ],
   "source": [
    "print(f'Accuracy: {accuracy_score(y_valid, predictions):0.3f}')\n",
    "print(f'Precision: {precision_score(y_valid, predictions):0.3f}')\n",
    "print(f'Recall: {recall_score(y_valid, predictions):0.3f}')\n",
    "print(f'f1: {f1_score(y_valid, predictions):0.3f}')"
   ]
  },
  {
   "cell_type": "code",
   "execution_count": 735,
   "metadata": {},
   "outputs": [],
   "source": [
    "Accuracy: 0.400\n",
    "Precision: 0.333\n",
    "Recall: 0.500\n",
    "f1: 0.400"
   ]
  },
  {
   "cell_type": "code",
   "execution_count": null,
   "metadata": {},
   "outputs": [],
   "source": []
  },
  {
   "cell_type": "code",
   "execution_count": null,
   "metadata": {},
   "outputs": [],
   "source": []
  }
 ],
 "metadata": {
  "kernelspec": {
   "display_name": "Python 3",
   "language": "python",
   "name": "python3"
  },
  "language_info": {
   "codemirror_mode": {
    "name": "ipython",
    "version": 3
   },
   "file_extension": ".py",
   "mimetype": "text/x-python",
   "name": "python",
   "nbconvert_exporter": "python",
   "pygments_lexer": "ipython3",
   "version": "3.8.3"
  }
 },
 "nbformat": 4,
 "nbformat_minor": 4
}
