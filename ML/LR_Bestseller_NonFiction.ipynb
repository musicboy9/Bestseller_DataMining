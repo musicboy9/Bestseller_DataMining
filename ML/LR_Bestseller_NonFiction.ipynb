{
 "cells": [
  {
   "cell_type": "code",
   "execution_count": 2,
   "metadata": {},
   "outputs": [],
   "source": [
    "import pandas as pd"
   ]
  },
  {
   "cell_type": "markdown",
   "metadata": {},
   "source": [
    "## Load Dataset"
   ]
  },
  {
   "cell_type": "code",
   "execution_count": 3,
   "metadata": {
    "scrolled": true
   },
   "outputs": [
    {
     "name": "stdout",
     "output_type": "stream",
     "text": [
      "(262, 17)\n"
     ]
    },
    {
     "data": {
      "text/html": [
       "<div>\n",
       "<style scoped>\n",
       "    .dataframe tbody tr th:only-of-type {\n",
       "        vertical-align: middle;\n",
       "    }\n",
       "\n",
       "    .dataframe tbody tr th {\n",
       "        vertical-align: top;\n",
       "    }\n",
       "\n",
       "    .dataframe thead th {\n",
       "        text-align: right;\n",
       "    }\n",
       "</style>\n",
       "<table border=\"1\" class=\"dataframe\">\n",
       "  <thead>\n",
       "    <tr style=\"text-align: right;\">\n",
       "      <th></th>\n",
       "      <th>BestsellerNonfic</th>\n",
       "      <th>Genre</th>\n",
       "      <th>GenreBin</th>\n",
       "      <th>Title</th>\n",
       "      <th>Author</th>\n",
       "      <th>Published Year</th>\n",
       "      <th>Publisher</th>\n",
       "      <th>Page</th>\n",
       "      <th>Price</th>\n",
       "      <th>authorgender(male0fe1team2)</th>\n",
       "      <th>isFirstBestSeller</th>\n",
       "      <th>Duration</th>\n",
       "      <th>변경전Duration</th>\n",
       "      <th>변경후Duration3(0=S1=L2=etc)</th>\n",
       "      <th>Impact</th>\n",
       "      <th>year_rank</th>\n",
       "      <th>isGlobal50 of first year(False=0True=1)</th>\n",
       "    </tr>\n",
       "  </thead>\n",
       "  <tbody>\n",
       "    <tr>\n",
       "      <th>0</th>\n",
       "      <td>2020</td>\n",
       "      <td>Religion&amp;Spirituality</td>\n",
       "      <td>0</td>\n",
       "      <td>The Four Agreements: A Practical Guide to…</td>\n",
       "      <td>Don Miguel Ruiz</td>\n",
       "      <td>1997</td>\n",
       "      <td>Amber-Allen Publishing Incorporated</td>\n",
       "      <td>160</td>\n",
       "      <td>6.48</td>\n",
       "      <td>0</td>\n",
       "      <td>0</td>\n",
       "      <td>9</td>\n",
       "      <td>1</td>\n",
       "      <td>1</td>\n",
       "      <td>2.255000e+05</td>\n",
       "      <td>2019_20</td>\n",
       "      <td>0</td>\n",
       "    </tr>\n",
       "    <tr>\n",
       "      <th>1</th>\n",
       "      <td>2020</td>\n",
       "      <td>Religion&amp;Spirituality</td>\n",
       "      <td>0</td>\n",
       "      <td>The 5 Love Languages: The Secret to Love that…</td>\n",
       "      <td>Gary Chapman</td>\n",
       "      <td>2015</td>\n",
       "      <td>Northfield Publishing</td>\n",
       "      <td>208</td>\n",
       "      <td>17.99</td>\n",
       "      <td>0</td>\n",
       "      <td>0</td>\n",
       "      <td>10</td>\n",
       "      <td>1</td>\n",
       "      <td>1</td>\n",
       "      <td>1.558974e+05</td>\n",
       "      <td>2019_10</td>\n",
       "      <td>0</td>\n",
       "    </tr>\n",
       "    <tr>\n",
       "      <th>2</th>\n",
       "      <td>2020</td>\n",
       "      <td>Reference</td>\n",
       "      <td>0</td>\n",
       "      <td>Publication Manual of the American…</td>\n",
       "      <td>American Psychological Association</td>\n",
       "      <td>2019</td>\n",
       "      <td>American Psychological Association</td>\n",
       "      <td>428</td>\n",
       "      <td>26.70</td>\n",
       "      <td>2</td>\n",
       "      <td>0</td>\n",
       "      <td>10</td>\n",
       "      <td>1</td>\n",
       "      <td>1</td>\n",
       "      <td>2.300000e+08</td>\n",
       "      <td>2019_66</td>\n",
       "      <td>0</td>\n",
       "    </tr>\n",
       "    <tr>\n",
       "      <th>3</th>\n",
       "      <td>2020</td>\n",
       "      <td>Religion&amp;Spirituality</td>\n",
       "      <td>0</td>\n",
       "      <td>The Alchemist 25th Anniversary: A Fable About…</td>\n",
       "      <td>Paulo Coelho</td>\n",
       "      <td>2003</td>\n",
       "      <td>HarperOne</td>\n",
       "      <td>208</td>\n",
       "      <td>25.99</td>\n",
       "      <td>0</td>\n",
       "      <td>0</td>\n",
       "      <td>6</td>\n",
       "      <td>1</td>\n",
       "      <td>1</td>\n",
       "      <td>9.876020e+06</td>\n",
       "      <td>2019_65</td>\n",
       "      <td>1</td>\n",
       "    </tr>\n",
       "    <tr>\n",
       "      <th>4</th>\n",
       "      <td>2020</td>\n",
       "      <td>Religion&amp;Spirituality</td>\n",
       "      <td>0</td>\n",
       "      <td>The Gifts of Imperfection: Let Go of Who You…</td>\n",
       "      <td>Bren? Brown</td>\n",
       "      <td>2012</td>\n",
       "      <td>Brilliance Audio</td>\n",
       "      <td>160</td>\n",
       "      <td>16.95</td>\n",
       "      <td>1</td>\n",
       "      <td>1</td>\n",
       "      <td>8</td>\n",
       "      <td>1</td>\n",
       "      <td>1</td>\n",
       "      <td>1.087900e+05</td>\n",
       "      <td>2019_60</td>\n",
       "      <td>0</td>\n",
       "    </tr>\n",
       "  </tbody>\n",
       "</table>\n",
       "</div>"
      ],
      "text/plain": [
       "   BestsellerNonfic                  Genre  GenreBin  \\\n",
       "0              2020  Religion&Spirituality         0   \n",
       "1              2020  Religion&Spirituality         0   \n",
       "2              2020              Reference         0   \n",
       "3              2020  Religion&Spirituality         0   \n",
       "4              2020  Religion&Spirituality         0   \n",
       "\n",
       "                                            Title  \\\n",
       "0      The Four Agreements: A Practical Guide to…   \n",
       "1  The 5 Love Languages: The Secret to Love that…   \n",
       "2             Publication Manual of the American…   \n",
       "3  The Alchemist 25th Anniversary: A Fable About…   \n",
       "4   The Gifts of Imperfection: Let Go of Who You…   \n",
       "\n",
       "                               Author  Published Year  \\\n",
       "0                     Don Miguel Ruiz            1997   \n",
       "1                        Gary Chapman            2015   \n",
       "2  American Psychological Association            2019   \n",
       "3                        Paulo Coelho            2003   \n",
       "4                         Bren? Brown            2012   \n",
       "\n",
       "                              Publisher  Page  Price  \\\n",
       "0  Amber-Allen Publishing Incorporated    160   6.48   \n",
       "1                 Northfield Publishing   208  17.99   \n",
       "2    American Psychological Association   428  26.70   \n",
       "3                             HarperOne   208  25.99   \n",
       "4                      Brilliance Audio   160  16.95   \n",
       "\n",
       "   authorgender(male0fe1team2)  isFirstBestSeller Duration  변경전Duration  \\\n",
       "0                            0                  0        9            1   \n",
       "1                            0                  0       10            1   \n",
       "2                            2                  0       10            1   \n",
       "3                            0                  0        6            1   \n",
       "4                            1                  1        8            1   \n",
       "\n",
       "   변경후Duration3(0=S1=L2=etc)        Impact year_rank  \\\n",
       "0                          1  2.255000e+05   2019_20   \n",
       "1                          1  1.558974e+05   2019_10   \n",
       "2                          1  2.300000e+08   2019_66   \n",
       "3                          1  9.876020e+06   2019_65   \n",
       "4                          1  1.087900e+05   2019_60   \n",
       "\n",
       "   isGlobal50 of first year(False=0True=1)  \n",
       "0                                        0  \n",
       "1                                        0  \n",
       "2                                        0  \n",
       "3                                        1  \n",
       "4                                        0  "
      ]
     },
     "execution_count": 3,
     "metadata": {},
     "output_type": "execute_result"
    }
   ],
   "source": [
    "book = pd.read_csv(\"C:/Users/GC/Desktop/2021/연구/장기베스트셀러/데이터/Bestseller_Nonfiction.csv\", encoding=\"cp949\")\n",
    "\n",
    "print(book.shape)\n",
    "book.head()"
   ]
  },
  {
   "cell_type": "markdown",
   "metadata": {},
   "source": [
    "## Preprocessing"
   ]
  },
  {
   "cell_type": "markdown",
   "metadata": {},
   "source": [
    "### column filter"
   ]
  },
  {
   "cell_type": "markdown",
   "metadata": {},
   "source": [
    "사용할 columns을 선정"
   ]
  },
  {
   "cell_type": "code",
   "execution_count": 4,
   "metadata": {},
   "outputs": [
    {
     "data": {
      "text/plain": [
       "Index(['BestsellerNonfic', 'Genre', 'GenreBin', 'Title', 'Author',\n",
       "       'Published Year', 'Publisher', 'Page', 'Price',\n",
       "       'authorgender(male0fe1team2)', 'isFirstBestSeller', 'Duration',\n",
       "       '변경전Duration', '변경후Duration3(0=S1=L2=etc)', 'Impact', 'year_rank',\n",
       "       'isGlobal50 of first year(False=0True=1)'],\n",
       "      dtype='object')"
      ]
     },
     "execution_count": 4,
     "metadata": {},
     "output_type": "execute_result"
    }
   ],
   "source": [
    "book.columns"
   ]
  },
  {
   "cell_type": "code",
   "execution_count": 6,
   "metadata": {},
   "outputs": [],
   "source": [
    "col_names = ['Published Year', 'Page', 'Price',\n",
    "       'authorgender(male0fe1team2)', 'isFirstBestSeller', '변경후Duration3(0=S1=L2=etc)', 'Impact', 'isGlobal50 of first year(False=0True=1)']"
   ]
  },
  {
   "cell_type": "code",
   "execution_count": 7,
   "metadata": {},
   "outputs": [
    {
     "name": "stdout",
     "output_type": "stream",
     "text": [
      "(262, 8)\n"
     ]
    },
    {
     "data": {
      "text/html": [
       "<div>\n",
       "<style scoped>\n",
       "    .dataframe tbody tr th:only-of-type {\n",
       "        vertical-align: middle;\n",
       "    }\n",
       "\n",
       "    .dataframe tbody tr th {\n",
       "        vertical-align: top;\n",
       "    }\n",
       "\n",
       "    .dataframe thead th {\n",
       "        text-align: right;\n",
       "    }\n",
       "</style>\n",
       "<table border=\"1\" class=\"dataframe\">\n",
       "  <thead>\n",
       "    <tr style=\"text-align: right;\">\n",
       "      <th></th>\n",
       "      <th>Published Year</th>\n",
       "      <th>Page</th>\n",
       "      <th>Price</th>\n",
       "      <th>authorgender(male0fe1team2)</th>\n",
       "      <th>isFirstBestSeller</th>\n",
       "      <th>변경후Duration3(0=S1=L2=etc)</th>\n",
       "      <th>Impact</th>\n",
       "      <th>isGlobal50 of first year(False=0True=1)</th>\n",
       "    </tr>\n",
       "  </thead>\n",
       "  <tbody>\n",
       "    <tr>\n",
       "      <th>0</th>\n",
       "      <td>1997</td>\n",
       "      <td>160</td>\n",
       "      <td>6.48</td>\n",
       "      <td>0</td>\n",
       "      <td>0</td>\n",
       "      <td>1</td>\n",
       "      <td>2.255000e+05</td>\n",
       "      <td>0</td>\n",
       "    </tr>\n",
       "    <tr>\n",
       "      <th>1</th>\n",
       "      <td>2015</td>\n",
       "      <td>208</td>\n",
       "      <td>17.99</td>\n",
       "      <td>0</td>\n",
       "      <td>0</td>\n",
       "      <td>1</td>\n",
       "      <td>1.558974e+05</td>\n",
       "      <td>0</td>\n",
       "    </tr>\n",
       "    <tr>\n",
       "      <th>2</th>\n",
       "      <td>2019</td>\n",
       "      <td>428</td>\n",
       "      <td>26.70</td>\n",
       "      <td>2</td>\n",
       "      <td>0</td>\n",
       "      <td>1</td>\n",
       "      <td>2.300000e+08</td>\n",
       "      <td>0</td>\n",
       "    </tr>\n",
       "    <tr>\n",
       "      <th>3</th>\n",
       "      <td>2003</td>\n",
       "      <td>208</td>\n",
       "      <td>25.99</td>\n",
       "      <td>0</td>\n",
       "      <td>0</td>\n",
       "      <td>1</td>\n",
       "      <td>9.876020e+06</td>\n",
       "      <td>1</td>\n",
       "    </tr>\n",
       "    <tr>\n",
       "      <th>4</th>\n",
       "      <td>2012</td>\n",
       "      <td>160</td>\n",
       "      <td>16.95</td>\n",
       "      <td>1</td>\n",
       "      <td>1</td>\n",
       "      <td>1</td>\n",
       "      <td>1.087900e+05</td>\n",
       "      <td>0</td>\n",
       "    </tr>\n",
       "  </tbody>\n",
       "</table>\n",
       "</div>"
      ],
      "text/plain": [
       "   Published Year  Page  Price  authorgender(male0fe1team2)  \\\n",
       "0            1997   160   6.48                            0   \n",
       "1            2015   208  17.99                            0   \n",
       "2            2019   428  26.70                            2   \n",
       "3            2003   208  25.99                            0   \n",
       "4            2012   160  16.95                            1   \n",
       "\n",
       "   isFirstBestSeller  변경후Duration3(0=S1=L2=etc)        Impact  \\\n",
       "0                  0                          1  2.255000e+05   \n",
       "1                  0                          1  1.558974e+05   \n",
       "2                  0                          1  2.300000e+08   \n",
       "3                  0                          1  9.876020e+06   \n",
       "4                  1                          1  1.087900e+05   \n",
       "\n",
       "   isGlobal50 of first year(False=0True=1)  \n",
       "0                                        0  \n",
       "1                                        0  \n",
       "2                                        0  \n",
       "3                                        1  \n",
       "4                                        0  "
      ]
     },
     "execution_count": 7,
     "metadata": {},
     "output_type": "execute_result"
    }
   ],
   "source": [
    "book = book[col_names]\n",
    "\n",
    "print(book.shape)\n",
    "book.head()"
   ]
  },
  {
   "cell_type": "markdown",
   "metadata": {},
   "source": [
    "### Encode Sex"
   ]
  },
  {
   "cell_type": "markdown",
   "metadata": {},
   "source": [
    "데이터 값을 수치적으로 변경해줘야 분석에 사용 가능"
   ]
  },
  {
   "cell_type": "code",
   "execution_count": 6,
   "metadata": {},
   "outputs": [
    {
     "name": "stdout",
     "output_type": "stream",
     "text": [
      "(1309, 8)\n"
     ]
    },
    {
     "data": {
      "text/html": [
       "<div>\n",
       "<style scoped>\n",
       "    .dataframe tbody tr th:only-of-type {\n",
       "        vertical-align: middle;\n",
       "    }\n",
       "\n",
       "    .dataframe tbody tr th {\n",
       "        vertical-align: top;\n",
       "    }\n",
       "\n",
       "    .dataframe thead th {\n",
       "        text-align: right;\n",
       "    }\n",
       "</style>\n",
       "<table border=\"1\" class=\"dataframe\">\n",
       "  <thead>\n",
       "    <tr style=\"text-align: right;\">\n",
       "      <th></th>\n",
       "      <th>Passenger Class</th>\n",
       "      <th>Sex</th>\n",
       "      <th>Age</th>\n",
       "      <th>No of Siblings or Spouses on Board</th>\n",
       "      <th>No of Parents or Children on Board</th>\n",
       "      <th>Passenger Fare</th>\n",
       "      <th>Port of Embarkation</th>\n",
       "      <th>Survived</th>\n",
       "    </tr>\n",
       "  </thead>\n",
       "  <tbody>\n",
       "    <tr>\n",
       "      <th>0</th>\n",
       "      <td>First</td>\n",
       "      <td>1</td>\n",
       "      <td>29.0</td>\n",
       "      <td>0.0</td>\n",
       "      <td>0.0</td>\n",
       "      <td>211.3</td>\n",
       "      <td>Southampton</td>\n",
       "      <td>Yes</td>\n",
       "    </tr>\n",
       "    <tr>\n",
       "      <th>1</th>\n",
       "      <td>First</td>\n",
       "      <td>0</td>\n",
       "      <td>0.9</td>\n",
       "      <td>1.0</td>\n",
       "      <td>2.0</td>\n",
       "      <td>151.6</td>\n",
       "      <td>Southampton</td>\n",
       "      <td>Yes</td>\n",
       "    </tr>\n",
       "    <tr>\n",
       "      <th>2</th>\n",
       "      <td>First</td>\n",
       "      <td>1</td>\n",
       "      <td>2.0</td>\n",
       "      <td>1.0</td>\n",
       "      <td>2.0</td>\n",
       "      <td>151.6</td>\n",
       "      <td>Southampton</td>\n",
       "      <td>No</td>\n",
       "    </tr>\n",
       "    <tr>\n",
       "      <th>3</th>\n",
       "      <td>First</td>\n",
       "      <td>0</td>\n",
       "      <td>30.0</td>\n",
       "      <td>1.0</td>\n",
       "      <td>2.0</td>\n",
       "      <td>151.6</td>\n",
       "      <td>Southampton</td>\n",
       "      <td>No</td>\n",
       "    </tr>\n",
       "    <tr>\n",
       "      <th>4</th>\n",
       "      <td>First</td>\n",
       "      <td>1</td>\n",
       "      <td>25.0</td>\n",
       "      <td>1.0</td>\n",
       "      <td>2.0</td>\n",
       "      <td>151.6</td>\n",
       "      <td>Southampton</td>\n",
       "      <td>No</td>\n",
       "    </tr>\n",
       "  </tbody>\n",
       "</table>\n",
       "</div>"
      ],
      "text/plain": [
       "  Passenger Class Sex   Age  No of Siblings or Spouses on Board  \\\n",
       "0           First   1  29.0                                 0.0   \n",
       "1           First   0   0.9                                 1.0   \n",
       "2           First   1   2.0                                 1.0   \n",
       "3           First   0  30.0                                 1.0   \n",
       "4           First   1  25.0                                 1.0   \n",
       "\n",
       "   No of Parents or Children on Board  Passenger Fare Port of Embarkation  \\\n",
       "0                                 0.0           211.3         Southampton   \n",
       "1                                 2.0           151.6         Southampton   \n",
       "2                                 2.0           151.6         Southampton   \n",
       "3                                 2.0           151.6         Southampton   \n",
       "4                                 2.0           151.6         Southampton   \n",
       "\n",
       "  Survived  \n",
       "0      Yes  \n",
       "1      Yes  \n",
       "2       No  \n",
       "3       No  \n",
       "4       No  "
      ]
     },
     "execution_count": 6,
     "metadata": {},
     "output_type": "execute_result"
    }
   ],
   "source": [
    "# 성별(Sex) 값이 Male인 열을 0, Female인 열을 1로 수정\n",
    "#titanic.loc[titanic[\"Sex\"] == \"Male\", \"Sex\"] = 0\n",
    "#titanic.loc[titanic[\"Sex\"] == \"Female\", \"Sex\"] = 1\n",
    "\n",
    "#print(titanic.shape)\n",
    "#titanic.head()"
   ]
  },
  {
   "cell_type": "markdown",
   "metadata": {},
   "source": [
    "### Encode Passenger Class"
   ]
  },
  {
   "cell_type": "code",
   "execution_count": 7,
   "metadata": {
    "collapsed": true
   },
   "outputs": [
    {
     "name": "stdout",
     "output_type": "stream",
     "text": [
      "(1309, 8)\n"
     ]
    },
    {
     "data": {
      "text/html": [
       "<div>\n",
       "<style scoped>\n",
       "    .dataframe tbody tr th:only-of-type {\n",
       "        vertical-align: middle;\n",
       "    }\n",
       "\n",
       "    .dataframe tbody tr th {\n",
       "        vertical-align: top;\n",
       "    }\n",
       "\n",
       "    .dataframe thead th {\n",
       "        text-align: right;\n",
       "    }\n",
       "</style>\n",
       "<table border=\"1\" class=\"dataframe\">\n",
       "  <thead>\n",
       "    <tr style=\"text-align: right;\">\n",
       "      <th></th>\n",
       "      <th>Passenger Class</th>\n",
       "      <th>Sex</th>\n",
       "      <th>Age</th>\n",
       "      <th>No of Siblings or Spouses on Board</th>\n",
       "      <th>No of Parents or Children on Board</th>\n",
       "      <th>Passenger Fare</th>\n",
       "      <th>Port of Embarkation</th>\n",
       "      <th>Survived</th>\n",
       "    </tr>\n",
       "  </thead>\n",
       "  <tbody>\n",
       "    <tr>\n",
       "      <th>0</th>\n",
       "      <td>1</td>\n",
       "      <td>1</td>\n",
       "      <td>29.0</td>\n",
       "      <td>0.0</td>\n",
       "      <td>0.0</td>\n",
       "      <td>211.3</td>\n",
       "      <td>Southampton</td>\n",
       "      <td>Yes</td>\n",
       "    </tr>\n",
       "    <tr>\n",
       "      <th>1</th>\n",
       "      <td>1</td>\n",
       "      <td>0</td>\n",
       "      <td>0.9</td>\n",
       "      <td>1.0</td>\n",
       "      <td>2.0</td>\n",
       "      <td>151.6</td>\n",
       "      <td>Southampton</td>\n",
       "      <td>Yes</td>\n",
       "    </tr>\n",
       "    <tr>\n",
       "      <th>2</th>\n",
       "      <td>1</td>\n",
       "      <td>1</td>\n",
       "      <td>2.0</td>\n",
       "      <td>1.0</td>\n",
       "      <td>2.0</td>\n",
       "      <td>151.6</td>\n",
       "      <td>Southampton</td>\n",
       "      <td>No</td>\n",
       "    </tr>\n",
       "    <tr>\n",
       "      <th>3</th>\n",
       "      <td>1</td>\n",
       "      <td>0</td>\n",
       "      <td>30.0</td>\n",
       "      <td>1.0</td>\n",
       "      <td>2.0</td>\n",
       "      <td>151.6</td>\n",
       "      <td>Southampton</td>\n",
       "      <td>No</td>\n",
       "    </tr>\n",
       "    <tr>\n",
       "      <th>4</th>\n",
       "      <td>1</td>\n",
       "      <td>1</td>\n",
       "      <td>25.0</td>\n",
       "      <td>1.0</td>\n",
       "      <td>2.0</td>\n",
       "      <td>151.6</td>\n",
       "      <td>Southampton</td>\n",
       "      <td>No</td>\n",
       "    </tr>\n",
       "  </tbody>\n",
       "</table>\n",
       "</div>"
      ],
      "text/plain": [
       "  Passenger Class Sex   Age  No of Siblings or Spouses on Board  \\\n",
       "0               1   1  29.0                                 0.0   \n",
       "1               1   0   0.9                                 1.0   \n",
       "2               1   1   2.0                                 1.0   \n",
       "3               1   0  30.0                                 1.0   \n",
       "4               1   1  25.0                                 1.0   \n",
       "\n",
       "   No of Parents or Children on Board  Passenger Fare Port of Embarkation  \\\n",
       "0                                 0.0           211.3         Southampton   \n",
       "1                                 2.0           151.6         Southampton   \n",
       "2                                 2.0           151.6         Southampton   \n",
       "3                                 2.0           151.6         Southampton   \n",
       "4                                 2.0           151.6         Southampton   \n",
       "\n",
       "  Survived  \n",
       "0      Yes  \n",
       "1      Yes  \n",
       "2       No  \n",
       "3       No  \n",
       "4       No  "
      ]
     },
     "execution_count": 7,
     "metadata": {},
     "output_type": "execute_result"
    }
   ],
   "source": [
    "# 등급(Passenger Class) 값이 First, Second, Third인 열을 각각 1, 2, 3으로 수정\n",
    "#titanic.loc[titanic[\"Passenger Class\"] == \"First\", \"Passenger Class\"] = 1\n",
    "#titanic.loc[titanic[\"Passenger Class\"] == \"Second\", \"Passenger Class\"] = 2\n",
    "#titanic.loc[titanic[\"Passenger Class\"] == \"Third\", \"Passenger Class\"] = 3\n",
    "\n",
    "#print(titanic.shape)\n",
    "#titanic.head()"
   ]
  },
  {
   "cell_type": "markdown",
   "metadata": {},
   "source": [
    "# Fill in missing values"
   ]
  },
  {
   "cell_type": "code",
   "execution_count": 17,
   "metadata": {},
   "outputs": [
    {
     "name": "stdout",
     "output_type": "stream",
     "text": [
      "(1307, 11)\n"
     ]
    },
    {
     "data": {
      "text/html": [
       "<div>\n",
       "<style scoped>\n",
       "    .dataframe tbody tr th:only-of-type {\n",
       "        vertical-align: middle;\n",
       "    }\n",
       "\n",
       "    .dataframe tbody tr th {\n",
       "        vertical-align: top;\n",
       "    }\n",
       "\n",
       "    .dataframe thead th {\n",
       "        text-align: right;\n",
       "    }\n",
       "</style>\n",
       "<table border=\"1\" class=\"dataframe\">\n",
       "  <thead>\n",
       "    <tr style=\"text-align: right;\">\n",
       "      <th></th>\n",
       "      <th>Passenger Class</th>\n",
       "      <th>Sex</th>\n",
       "      <th>Age</th>\n",
       "      <th>No of Siblings or Spouses on Board</th>\n",
       "      <th>No of Parents or Children on Board</th>\n",
       "      <th>Passenger Fare</th>\n",
       "      <th>Port of Embarkation</th>\n",
       "      <th>Survived</th>\n",
       "      <th>Cherbourg</th>\n",
       "      <th>Queenstown</th>\n",
       "      <th>Southampton</th>\n",
       "    </tr>\n",
       "  </thead>\n",
       "  <tbody>\n",
       "    <tr>\n",
       "      <th>0</th>\n",
       "      <td>1</td>\n",
       "      <td>1</td>\n",
       "      <td>29.0</td>\n",
       "      <td>0.0</td>\n",
       "      <td>0.0</td>\n",
       "      <td>211.3</td>\n",
       "      <td>Southampton</td>\n",
       "      <td>Yes</td>\n",
       "      <td>0</td>\n",
       "      <td>0</td>\n",
       "      <td>1</td>\n",
       "    </tr>\n",
       "    <tr>\n",
       "      <th>1</th>\n",
       "      <td>1</td>\n",
       "      <td>0</td>\n",
       "      <td>0.9</td>\n",
       "      <td>1.0</td>\n",
       "      <td>2.0</td>\n",
       "      <td>151.6</td>\n",
       "      <td>Southampton</td>\n",
       "      <td>Yes</td>\n",
       "      <td>0</td>\n",
       "      <td>0</td>\n",
       "      <td>1</td>\n",
       "    </tr>\n",
       "    <tr>\n",
       "      <th>2</th>\n",
       "      <td>1</td>\n",
       "      <td>1</td>\n",
       "      <td>2.0</td>\n",
       "      <td>1.0</td>\n",
       "      <td>2.0</td>\n",
       "      <td>151.6</td>\n",
       "      <td>Southampton</td>\n",
       "      <td>No</td>\n",
       "      <td>0</td>\n",
       "      <td>0</td>\n",
       "      <td>1</td>\n",
       "    </tr>\n",
       "    <tr>\n",
       "      <th>3</th>\n",
       "      <td>1</td>\n",
       "      <td>0</td>\n",
       "      <td>30.0</td>\n",
       "      <td>1.0</td>\n",
       "      <td>2.0</td>\n",
       "      <td>151.6</td>\n",
       "      <td>Southampton</td>\n",
       "      <td>No</td>\n",
       "      <td>0</td>\n",
       "      <td>0</td>\n",
       "      <td>1</td>\n",
       "    </tr>\n",
       "    <tr>\n",
       "      <th>4</th>\n",
       "      <td>1</td>\n",
       "      <td>1</td>\n",
       "      <td>25.0</td>\n",
       "      <td>1.0</td>\n",
       "      <td>2.0</td>\n",
       "      <td>151.6</td>\n",
       "      <td>Southampton</td>\n",
       "      <td>No</td>\n",
       "      <td>0</td>\n",
       "      <td>0</td>\n",
       "      <td>1</td>\n",
       "    </tr>\n",
       "  </tbody>\n",
       "</table>\n",
       "</div>"
      ],
      "text/plain": [
       "  Passenger Class Sex   Age  No of Siblings or Spouses on Board  \\\n",
       "0               1   1  29.0                                 0.0   \n",
       "1               1   0   0.9                                 1.0   \n",
       "2               1   1   2.0                                 1.0   \n",
       "3               1   0  30.0                                 1.0   \n",
       "4               1   1  25.0                                 1.0   \n",
       "\n",
       "   No of Parents or Children on Board  Passenger Fare Port of Embarkation  \\\n",
       "0                                 0.0           211.3         Southampton   \n",
       "1                                 2.0           151.6         Southampton   \n",
       "2                                 2.0           151.6         Southampton   \n",
       "3                                 2.0           151.6         Southampton   \n",
       "4                                 2.0           151.6         Southampton   \n",
       "\n",
       "  Survived  Cherbourg  Queenstown  Southampton  \n",
       "0      Yes          0           0            1  \n",
       "1      Yes          0           0            1  \n",
       "2       No          0           0            1  \n",
       "3       No          0           0            1  \n",
       "4       No          0           0            1  "
      ]
     },
     "execution_count": 17,
     "metadata": {},
     "output_type": "execute_result"
    }
   ],
   "source": [
    "titanic = pd.concat([titanic, pd.get_dummies(titanic['Port of Embarkation'])], axis=1)\n",
    "\n",
    "print(titanic.shape)\n",
    "titanic.head()"
   ]
  },
  {
   "cell_type": "markdown",
   "metadata": {},
   "source": [
    "### Encode Survived"
   ]
  },
  {
   "cell_type": "code",
   "execution_count": 18,
   "metadata": {},
   "outputs": [],
   "source": [
    "#titanic['Survived'] = pd.Categorical(titanic['Survived'], categories=['No', 'Yes'])"
   ]
  },
  {
   "cell_type": "code",
   "execution_count": 19,
   "metadata": {
    "scrolled": true
   },
   "outputs": [
    {
     "data": {
      "text/plain": [
       "0       1\n",
       "1       1\n",
       "2       0\n",
       "3       0\n",
       "4       0\n",
       "       ..\n",
       "1302    0\n",
       "1303    0\n",
       "1304    0\n",
       "1305    0\n",
       "1306    0\n",
       "Name: Survived, Length: 1307, dtype: int8"
      ]
     },
     "execution_count": 19,
     "metadata": {},
     "output_type": "execute_result"
    }
   ],
   "source": [
    "#titanic['Survived']  = titanic['Survived'].cat.codes\n",
    "#titanic['Survived']"
   ]
  },
  {
   "cell_type": "markdown",
   "metadata": {},
   "source": [
    "## Partitioning"
   ]
  },
  {
   "cell_type": "code",
   "execution_count": 8,
   "metadata": {},
   "outputs": [],
   "source": [
    "from sklearn.model_selection import train_test_split"
   ]
  },
  {
   "cell_type": "code",
   "execution_count": 9,
   "metadata": {},
   "outputs": [
    {
     "data": {
      "text/plain": [
       "Index(['Published Year', 'Page', 'Price', 'authorgender(male0fe1team2)',\n",
       "       'isFirstBestSeller', '변경후Duration3(0=S1=L2=etc)', 'Impact',\n",
       "       'isGlobal50 of first year(False=0True=1)'],\n",
       "      dtype='object')"
      ]
     },
     "execution_count": 9,
     "metadata": {},
     "output_type": "execute_result"
    }
   ],
   "source": [
    "book.columns"
   ]
  },
  {
   "cell_type": "code",
   "execution_count": 10,
   "metadata": {},
   "outputs": [],
   "source": [
    "cols_for_train = ['Published Year', 'Page', 'Price',\n",
    "       'authorgender(male0fe1team2)', 'isFirstBestSeller', 'Impact',\n",
    "       'isGlobal50 of first year(False=0True=1)']\n",
    "\n",
    "\n",
    "X = book[cols_for_train]\n",
    "y = book['변경후Duration3(0=S1=L2=etc)']"
   ]
  },
  {
   "cell_type": "code",
   "execution_count": 11,
   "metadata": {},
   "outputs": [],
   "source": [
    "import numpy as np\n",
    "book[:] = np.nan_to_num(book)"
   ]
  },
  {
   "cell_type": "code",
   "execution_count": 78,
   "metadata": {},
   "outputs": [],
   "source": [
    "X_train, X_test, y_train, y_test = train_test_split(X, y, test_size=0.2, random_state=100, stratify=y)"
   ]
  },
  {
   "cell_type": "code",
   "execution_count": 34,
   "metadata": {},
   "outputs": [],
   "source": [
    "X_train, X_test, y_train, y_test = train_test_split(X, y, test_size=0.3, random_state=0, shuffle=False)"
   ]
  },
  {
   "cell_type": "code",
   "execution_count": 79,
   "metadata": {},
   "outputs": [
    {
     "name": "stdout",
     "output_type": "stream",
     "text": [
      "(209, 7)\n"
     ]
    },
    {
     "data": {
      "text/html": [
       "<div>\n",
       "<style scoped>\n",
       "    .dataframe tbody tr th:only-of-type {\n",
       "        vertical-align: middle;\n",
       "    }\n",
       "\n",
       "    .dataframe tbody tr th {\n",
       "        vertical-align: top;\n",
       "    }\n",
       "\n",
       "    .dataframe thead th {\n",
       "        text-align: right;\n",
       "    }\n",
       "</style>\n",
       "<table border=\"1\" class=\"dataframe\">\n",
       "  <thead>\n",
       "    <tr style=\"text-align: right;\">\n",
       "      <th></th>\n",
       "      <th>Published Year</th>\n",
       "      <th>Page</th>\n",
       "      <th>Price</th>\n",
       "      <th>authorgender(male0fe1team2)</th>\n",
       "      <th>isFirstBestSeller</th>\n",
       "      <th>Impact</th>\n",
       "      <th>isGlobal50 of first year(False=0True=1)</th>\n",
       "    </tr>\n",
       "  </thead>\n",
       "  <tbody>\n",
       "    <tr>\n",
       "      <th>65</th>\n",
       "      <td>2015.0</td>\n",
       "      <td>336.0</td>\n",
       "      <td>30.00</td>\n",
       "      <td>0.0</td>\n",
       "      <td>0.0</td>\n",
       "      <td>1.039511e+05</td>\n",
       "      <td>1.0</td>\n",
       "    </tr>\n",
       "    <tr>\n",
       "      <th>53</th>\n",
       "      <td>2020.0</td>\n",
       "      <td>384.0</td>\n",
       "      <td>19.99</td>\n",
       "      <td>0.0</td>\n",
       "      <td>1.0</td>\n",
       "      <td>1.080000e+07</td>\n",
       "      <td>1.0</td>\n",
       "    </tr>\n",
       "    <tr>\n",
       "      <th>251</th>\n",
       "      <td>2014.0</td>\n",
       "      <td>253.0</td>\n",
       "      <td>16.99</td>\n",
       "      <td>0.0</td>\n",
       "      <td>1.0</td>\n",
       "      <td>4.304893e+04</td>\n",
       "      <td>1.0</td>\n",
       "    </tr>\n",
       "    <tr>\n",
       "      <th>82</th>\n",
       "      <td>2011.0</td>\n",
       "      <td>272.0</td>\n",
       "      <td>16.99</td>\n",
       "      <td>1.0</td>\n",
       "      <td>1.0</td>\n",
       "      <td>7.020000e+04</td>\n",
       "      <td>1.0</td>\n",
       "    </tr>\n",
       "    <tr>\n",
       "      <th>30</th>\n",
       "      <td>2020.0</td>\n",
       "      <td>976.0</td>\n",
       "      <td>38.95</td>\n",
       "      <td>2.0</td>\n",
       "      <td>1.0</td>\n",
       "      <td>4.522475e+08</td>\n",
       "      <td>1.0</td>\n",
       "    </tr>\n",
       "  </tbody>\n",
       "</table>\n",
       "</div>"
      ],
      "text/plain": [
       "     Published Year   Page  Price  authorgender(male0fe1team2)  \\\n",
       "65           2015.0  336.0  30.00                          0.0   \n",
       "53           2020.0  384.0  19.99                          0.0   \n",
       "251          2014.0  253.0  16.99                          0.0   \n",
       "82           2011.0  272.0  16.99                          1.0   \n",
       "30           2020.0  976.0  38.95                          2.0   \n",
       "\n",
       "     isFirstBestSeller        Impact  isGlobal50 of first year(False=0True=1)  \n",
       "65                 0.0  1.039511e+05                                      1.0  \n",
       "53                 1.0  1.080000e+07                                      1.0  \n",
       "251                1.0  4.304893e+04                                      1.0  \n",
       "82                 1.0  7.020000e+04                                      1.0  \n",
       "30                 1.0  4.522475e+08                                      1.0  "
      ]
     },
     "execution_count": 79,
     "metadata": {},
     "output_type": "execute_result"
    }
   ],
   "source": [
    "print(X_train.shape)\n",
    "X_train.head()"
   ]
  },
  {
   "cell_type": "code",
   "execution_count": 80,
   "metadata": {},
   "outputs": [
    {
     "name": "stdout",
     "output_type": "stream",
     "text": [
      "(53, 7)\n"
     ]
    },
    {
     "data": {
      "text/html": [
       "<div>\n",
       "<style scoped>\n",
       "    .dataframe tbody tr th:only-of-type {\n",
       "        vertical-align: middle;\n",
       "    }\n",
       "\n",
       "    .dataframe tbody tr th {\n",
       "        vertical-align: top;\n",
       "    }\n",
       "\n",
       "    .dataframe thead th {\n",
       "        text-align: right;\n",
       "    }\n",
       "</style>\n",
       "<table border=\"1\" class=\"dataframe\">\n",
       "  <thead>\n",
       "    <tr style=\"text-align: right;\">\n",
       "      <th></th>\n",
       "      <th>Published Year</th>\n",
       "      <th>Page</th>\n",
       "      <th>Price</th>\n",
       "      <th>authorgender(male0fe1team2)</th>\n",
       "      <th>isFirstBestSeller</th>\n",
       "      <th>Impact</th>\n",
       "      <th>isGlobal50 of first year(False=0True=1)</th>\n",
       "    </tr>\n",
       "  </thead>\n",
       "  <tbody>\n",
       "    <tr>\n",
       "      <th>242</th>\n",
       "      <td>2014.0</td>\n",
       "      <td>404.0</td>\n",
       "      <td>9.99</td>\n",
       "      <td>0.0</td>\n",
       "      <td>1.0</td>\n",
       "      <td>2.435730e+07</td>\n",
       "      <td>1.0</td>\n",
       "    </tr>\n",
       "    <tr>\n",
       "      <th>27</th>\n",
       "      <td>2020.0</td>\n",
       "      <td>448.0</td>\n",
       "      <td>35.00</td>\n",
       "      <td>0.0</td>\n",
       "      <td>1.0</td>\n",
       "      <td>4.482050e+04</td>\n",
       "      <td>1.0</td>\n",
       "    </tr>\n",
       "    <tr>\n",
       "      <th>80</th>\n",
       "      <td>2013.0</td>\n",
       "      <td>1016.0</td>\n",
       "      <td>22.00</td>\n",
       "      <td>0.0</td>\n",
       "      <td>0.0</td>\n",
       "      <td>8.680649e+03</td>\n",
       "      <td>1.0</td>\n",
       "    </tr>\n",
       "    <tr>\n",
       "      <th>85</th>\n",
       "      <td>2011.0</td>\n",
       "      <td>356.0</td>\n",
       "      <td>5.99</td>\n",
       "      <td>2.0</td>\n",
       "      <td>1.0</td>\n",
       "      <td>6.430766e+04</td>\n",
       "      <td>1.0</td>\n",
       "    </tr>\n",
       "    <tr>\n",
       "      <th>227</th>\n",
       "      <td>2019.0</td>\n",
       "      <td>448.0</td>\n",
       "      <td>18.00</td>\n",
       "      <td>0.0</td>\n",
       "      <td>0.0</td>\n",
       "      <td>1.364000e+05</td>\n",
       "      <td>1.0</td>\n",
       "    </tr>\n",
       "  </tbody>\n",
       "</table>\n",
       "</div>"
      ],
      "text/plain": [
       "     Published Year    Page  Price  authorgender(male0fe1team2)  \\\n",
       "242          2014.0   404.0   9.99                          0.0   \n",
       "27           2020.0   448.0  35.00                          0.0   \n",
       "80           2013.0  1016.0  22.00                          0.0   \n",
       "85           2011.0   356.0   5.99                          2.0   \n",
       "227          2019.0   448.0  18.00                          0.0   \n",
       "\n",
       "     isFirstBestSeller        Impact  isGlobal50 of first year(False=0True=1)  \n",
       "242                1.0  2.435730e+07                                      1.0  \n",
       "27                 1.0  4.482050e+04                                      1.0  \n",
       "80                 0.0  8.680649e+03                                      1.0  \n",
       "85                 1.0  6.430766e+04                                      1.0  \n",
       "227                0.0  1.364000e+05                                      1.0  "
      ]
     },
     "execution_count": 80,
     "metadata": {},
     "output_type": "execute_result"
    }
   ],
   "source": [
    "print(X_test.shape)\n",
    "X_test.head()"
   ]
  },
  {
   "cell_type": "code",
   "execution_count": 81,
   "metadata": {},
   "outputs": [
    {
     "name": "stdout",
     "output_type": "stream",
     "text": [
      "(209,)\n"
     ]
    },
    {
     "data": {
      "text/plain": [
       "65     0\n",
       "53     0\n",
       "251    0\n",
       "82     0\n",
       "30     0\n",
       "Name: 변경후Duration3(0=S1=L2=etc), dtype: int64"
      ]
     },
     "execution_count": 81,
     "metadata": {},
     "output_type": "execute_result"
    }
   ],
   "source": [
    "print(y_train.shape)\n",
    "y_train.head()"
   ]
  },
  {
   "cell_type": "code",
   "execution_count": 82,
   "metadata": {},
   "outputs": [],
   "source": [
    "from sklearn.preprocessing import StandardScaler\n",
    "scaler = StandardScaler()\n",
    "X_train = scaler.fit_transform(X_train)\n",
    "X_test = scaler.transform(X_test)"
   ]
  },
  {
   "cell_type": "code",
   "execution_count": 83,
   "metadata": {},
   "outputs": [
    {
     "data": {
      "text/plain": [
       "LogisticRegression()"
      ]
     },
     "execution_count": 83,
     "metadata": {},
     "output_type": "execute_result"
    }
   ],
   "source": [
    "X_train[:] = np.nan_to_num(X_train)\n",
    "y_train[:] = np.nan_to_num(y_train)\n",
    "\n",
    "\n",
    "from sklearn.linear_model import LogisticRegression\n",
    "model = LogisticRegression()\n",
    "model.fit(X_train, y_train)"
   ]
  },
  {
   "cell_type": "code",
   "execution_count": 84,
   "metadata": {},
   "outputs": [
    {
     "name": "stdout",
     "output_type": "stream",
     "text": [
      "0.6650717703349283\n"
     ]
    }
   ],
   "source": [
    "print(model.score(X_train, y_train))"
   ]
  },
  {
   "cell_type": "code",
   "execution_count": 85,
   "metadata": {},
   "outputs": [
    {
     "name": "stdout",
     "output_type": "stream",
     "text": [
      "(53,)\n"
     ]
    },
    {
     "data": {
      "text/plain": [
       "array([0, 0, 0, 0, 0, 0, 0, 0, 0, 0, 0, 0, 1, 0, 0, 0, 0, 1, 0, 0, 0, 0,\n",
       "       0, 0, 1, 0, 0, 0, 1, 1, 0, 0, 0, 0, 0, 0, 0, 0, 0, 1, 0, 1, 0, 1,\n",
       "       0, 1, 1, 0, 0, 0, 1, 0, 0], dtype=int64)"
      ]
     },
     "execution_count": 85,
     "metadata": {},
     "output_type": "execute_result"
    }
   ],
   "source": [
    "X_test[:] = np.nan_to_num(X_test)\n",
    "\n",
    "predictions = model.predict(X_test)\n",
    "\n",
    "print(predictions.shape)\n",
    "predictions[0:93]"
   ]
  },
  {
   "cell_type": "code",
   "execution_count": 86,
   "metadata": {},
   "outputs": [
    {
     "name": "stdout",
     "output_type": "stream",
     "text": [
      "0.6415094339622641\n"
     ]
    }
   ],
   "source": [
    "print(model.score(X_test, y_test))"
   ]
  },
  {
   "cell_type": "code",
   "execution_count": 87,
   "metadata": {},
   "outputs": [
    {
     "name": "stdout",
     "output_type": "stream",
     "text": [
      "[[-0.36720179 -0.07694227  0.07732582  0.05972657 -0.02045221  0.04931565\n",
      "  -0.31060976]]\n"
     ]
    }
   ],
   "source": [
    "print(model.coef_)\n",
    "\n",
    "#'Published Year', 'Page', 'Price','authorgender(male0fe1team2)', 'isFirstBestSeller', 'Impact', 'isGlobal50 of first year(False=0True=1)']\n"
   ]
  },
  {
   "cell_type": "code",
   "execution_count": 88,
   "metadata": {},
   "outputs": [
    {
     "data": {
      "text/html": [
       "<div>\n",
       "<style scoped>\n",
       "    .dataframe tbody tr th:only-of-type {\n",
       "        vertical-align: middle;\n",
       "    }\n",
       "\n",
       "    .dataframe tbody tr th {\n",
       "        vertical-align: top;\n",
       "    }\n",
       "\n",
       "    .dataframe thead th {\n",
       "        text-align: right;\n",
       "    }\n",
       "</style>\n",
       "<table border=\"1\" class=\"dataframe\">\n",
       "  <thead>\n",
       "    <tr style=\"text-align: right;\">\n",
       "      <th></th>\n",
       "      <th>pred_No</th>\n",
       "      <th>pred_yes</th>\n",
       "    </tr>\n",
       "  </thead>\n",
       "  <tbody>\n",
       "    <tr>\n",
       "      <th>true_No</th>\n",
       "      <td>28</td>\n",
       "      <td>5</td>\n",
       "    </tr>\n",
       "    <tr>\n",
       "      <th>true_yes</th>\n",
       "      <td>14</td>\n",
       "      <td>6</td>\n",
       "    </tr>\n",
       "  </tbody>\n",
       "</table>\n",
       "</div>"
      ],
      "text/plain": [
       "          pred_No  pred_yes\n",
       "true_No        28         5\n",
       "true_yes       14         6"
      ]
     },
     "execution_count": 88,
     "metadata": {},
     "output_type": "execute_result"
    }
   ],
   "source": [
    "from sklearn.metrics import confusion_matrix\n",
    "\n",
    "conf_matrix = pd.DataFrame(confusion_matrix(y_test, predictions), \n",
    "                          columns=['pred_No', 'pred_yes'],\n",
    "                          index=['true_No', 'true_yes'])\n",
    "\n",
    "conf_matrix"
   ]
  },
  {
   "cell_type": "markdown",
   "metadata": {},
   "source": [
    "### ROC curve"
   ]
  },
  {
   "cell_type": "code",
   "execution_count": 89,
   "metadata": {},
   "outputs": [],
   "source": [
    "from sklearn.metrics import roc_curve, auc\n",
    "from matplotlib import pyplot as plt"
   ]
  },
  {
   "cell_type": "code",
   "execution_count": 90,
   "metadata": {},
   "outputs": [
    {
     "data": {
      "text/plain": [
       "array([[0.70373469, 0.29626531],\n",
       "       [0.76003461, 0.23996539],\n",
       "       [0.72246321, 0.27753679],\n",
       "       [0.63330019, 0.36669981],\n",
       "       [0.75708104, 0.24291896],\n",
       "       [0.67667955, 0.32332045],\n",
       "       [0.54856368, 0.45143632],\n",
       "       [0.73600711, 0.26399289],\n",
       "       [0.76184864, 0.23815136],\n",
       "       [0.69553097, 0.30446903],\n",
       "       [0.729428  , 0.270572  ],\n",
       "       [0.73664919, 0.26335081],\n",
       "       [0.47281601, 0.52718399],\n",
       "       [0.54002312, 0.45997688],\n",
       "       [0.6609578 , 0.3390422 ],\n",
       "       [0.54749895, 0.45250105],\n",
       "       [0.52527622, 0.47472378],\n",
       "       [0.47665195, 0.52334805],\n",
       "       [0.73415884, 0.26584116],\n",
       "       [0.56870041, 0.43129959],\n",
       "       [0.64705956, 0.35294044],\n",
       "       [0.64265418, 0.35734582],\n",
       "       [0.75127967, 0.24872033],\n",
       "       [0.71848063, 0.28151937],\n",
       "       [0.48207925, 0.51792075],\n",
       "       [0.62469253, 0.37530747],\n",
       "       [0.70235266, 0.29764734],\n",
       "       [0.68415959, 0.31584041],\n",
       "       [0.48491616, 0.51508384],\n",
       "       [0.4997444 , 0.5002556 ],\n",
       "       [0.72567457, 0.27432543],\n",
       "       [0.56541402, 0.43458598],\n",
       "       [0.50149603, 0.49850397],\n",
       "       [0.55633814, 0.44366186],\n",
       "       [0.57202264, 0.42797736],\n",
       "       [0.66195513, 0.33804487],\n",
       "       [0.65458849, 0.34541151],\n",
       "       [0.65255878, 0.34744122],\n",
       "       [0.70741808, 0.29258192],\n",
       "       [0.43371367, 0.56628633],\n",
       "       [0.71266271, 0.28733729],\n",
       "       [0.04587841, 0.95412159],\n",
       "       [0.74590329, 0.25409671],\n",
       "       [0.40628576, 0.59371424],\n",
       "       [0.61767634, 0.38232366],\n",
       "       [0.46511273, 0.53488727],\n",
       "       [0.40924955, 0.59075045],\n",
       "       [0.6914963 , 0.3085037 ],\n",
       "       [0.73825372, 0.26174628],\n",
       "       [0.64921445, 0.35078555],\n",
       "       [0.46639913, 0.53360087],\n",
       "       [0.64820131, 0.35179869],\n",
       "       [0.72905818, 0.27094182]])"
      ]
     },
     "execution_count": 90,
     "metadata": {},
     "output_type": "execute_result"
    }
   ],
   "source": [
    "model.predict_proba(X_test)"
   ]
  },
  {
   "cell_type": "code",
   "execution_count": 91,
   "metadata": {
    "scrolled": true
   },
   "outputs": [
    {
     "name": "stdout",
     "output_type": "stream",
     "text": [
      "ROC AUC: 0.573\n"
     ]
    },
    {
     "data": {
      "image/png": "[encoded data removed]",
      "text/plain": [
       "<Figure size 432x288 with 1 Axes>"
      ]
     },
     "metadata": {
      "needs_background": "light"
     },
     "output_type": "display_data"
    }
   ],
   "source": [
    "fpr, tpr, _ = roc_curve(y_test, model.predict_proba(X_test)[:,1])\n",
    "\n",
    "# Calculate the AUC\n",
    "roc_auc = auc(fpr, tpr)\n",
    "print('ROC AUC: %0.3f' % roc_auc)\n",
    "\n",
    "# Plot of a ROC curve for a specific class\n",
    "plt.figure()\n",
    "plt.plot(fpr, tpr, color='darkorange', label='ROC curve (area = %0.2f)' % roc_auc)\n",
    "plt.plot([0, 1], [0, 1], color='navy', lw=2, linestyle='--')\n",
    "plt.xlim([0.0, 1.0])\n",
    "plt.ylim([0.0, 1.05])\n",
    "plt.xlabel('False Positive Rate')\n",
    "plt.ylabel('True Positive Rate')\n",
    "plt.title('ROC Curve')\n",
    "plt.legend(loc=\"lower right\")\n",
    "plt.show()"
   ]
  },
  {
   "cell_type": "code",
   "execution_count": 92,
   "metadata": {},
   "outputs": [
    {
     "data": {
      "text/plain": [
       "array([0.        , 0.        , 0.        , 0.12121212, 0.12121212,\n",
       "       0.15151515, 0.15151515, 0.18181818, 0.18181818, 0.3030303 ,\n",
       "       0.3030303 , 0.48484848, 0.48484848, 0.57575758, 0.57575758,\n",
       "       0.63636364, 0.63636364, 0.66666667, 0.66666667, 0.6969697 ,\n",
       "       0.6969697 , 0.78787879, 0.78787879, 0.90909091, 0.90909091,\n",
       "       0.96969697, 0.96969697, 1.        ])"
      ]
     },
     "execution_count": 92,
     "metadata": {},
     "output_type": "execute_result"
    }
   ],
   "source": [
    "fpr"
   ]
  },
  {
   "cell_type": "code",
   "execution_count": 93,
   "metadata": {},
   "outputs": [
    {
     "data": {
      "text/plain": [
       "array([0.  , 0.05, 0.1 , 0.1 , 0.2 , 0.2 , 0.3 , 0.3 , 0.4 , 0.4 , 0.5 ,\n",
       "       0.5 , 0.55, 0.55, 0.6 , 0.6 , 0.7 , 0.7 , 0.8 , 0.8 , 0.85, 0.85,\n",
       "       0.9 , 0.9 , 0.95, 0.95, 1.  , 1.  ])"
      ]
     },
     "execution_count": 93,
     "metadata": {},
     "output_type": "execute_result"
    }
   ],
   "source": [
    "tpr"
   ]
  },
  {
   "cell_type": "markdown",
   "metadata": {},
   "source": [
    "### Accuracy"
   ]
  },
  {
   "cell_type": "code",
   "execution_count": 94,
   "metadata": {},
   "outputs": [],
   "source": [
    "from sklearn.metrics import accuracy_score, precision_score, recall_score, f1_score"
   ]
  },
  {
   "cell_type": "code",
   "execution_count": 95,
   "metadata": {
    "scrolled": true
   },
   "outputs": [
    {
     "name": "stdout",
     "output_type": "stream",
     "text": [
      "Accuracy: 0.642\n",
      "Precision: 0.545\n",
      "Recall: 0.300\n",
      "f1: 0.387\n"
     ]
    }
   ],
   "source": [
    "print(f'Accuracy: {accuracy_score(y_test, predictions):0.3f}')\n",
    "print(f'Precision: {precision_score(y_test, predictions):0.3f}')\n",
    "print(f'Recall: {recall_score(y_test, predictions):0.3f}')\n",
    "print(f'f1: {f1_score(y_test, predictions):0.3f}')"
   ]
  },
  {
   "cell_type": "code",
   "execution_count": 96,
   "metadata": {},
   "outputs": [
    {
     "name": "stderr",
     "output_type": "stream",
     "text": [
      "<ipython-input-96-672599b064c5>:6: SettingWithCopyWarning: \n",
      "A value is trying to be set on a copy of a slice from a DataFrame.\n",
      "Try using .loc[row_indexer,col_indexer] = value instead\n",
      "\n",
      "See the caveats in the documentation: https://pandas.pydata.org/pandas-docs/stable/user_guide/indexing.html#returning-a-view-versus-a-copy\n",
      "  X[:] = np.nan_to_num(X)\n",
      "C:\\Anaconda3\\lib\\site-packages\\pandas\\core\\frame.py:2945: SettingWithCopyWarning: \n",
      "A value is trying to be set on a copy of a slice from a DataFrame\n",
      "\n",
      "See the caveats in the documentation: https://pandas.pydata.org/pandas-docs/stable/user_guide/indexing.html#returning-a-view-versus-a-copy\n",
      "  self.loc._setitem_with_indexer(key, value)\n",
      "C:\\Anaconda3\\lib\\site-packages\\pandas\\core\\frame.py:2930: SettingWithCopyWarning: \n",
      "A value is trying to be set on a copy of a slice from a DataFrame\n",
      "\n",
      "See the caveats in the documentation: https://pandas.pydata.org/pandas-docs/stable/user_guide/indexing.html#returning-a-view-versus-a-copy\n",
      "  return self._setitem_slice(indexer, value)\n"
     ]
    },
    {
     "data": {
      "text/plain": [
       "array([0.62264151, 0.62264151, 0.61538462, 0.61538462, 0.61538462])"
      ]
     },
     "execution_count": 96,
     "metadata": {},
     "output_type": "execute_result"
    }
   ],
   "source": [
    "from sklearn.model_selection import StratifiedKFold \n",
    "from sklearn.model_selection import KFold \n",
    "from sklearn.model_selection import cross_val_score \n",
    "import numpy\n",
    "\n",
    "X[:] = np.nan_to_num(X)\n",
    "y[:] = np.nan_to_num(y)\n",
    "\n",
    "kfold = StratifiedKFold(n_splits=5)\n",
    "cross_val_score(model, X, y, scoring=\"accuracy\", cv=kfold)"
   ]
  },
  {
   "cell_type": "code",
   "execution_count": 97,
   "metadata": {},
   "outputs": [
    {
     "name": "stderr",
     "output_type": "stream",
     "text": [
      "C:\\Anaconda3\\lib\\site-packages\\sklearn\\metrics\\_classification.py:1221: UndefinedMetricWarning: Precision is ill-defined and being set to 0.0 due to no predicted samples. Use `zero_division` parameter to control this behavior.\n",
      "  _warn_prf(average, modifier, msg_start, len(result))\n",
      "C:\\Anaconda3\\lib\\site-packages\\sklearn\\metrics\\_classification.py:1221: UndefinedMetricWarning: Precision is ill-defined and being set to 0.0 due to no predicted samples. Use `zero_division` parameter to control this behavior.\n",
      "  _warn_prf(average, modifier, msg_start, len(result))\n",
      "C:\\Anaconda3\\lib\\site-packages\\sklearn\\metrics\\_classification.py:1221: UndefinedMetricWarning: Precision is ill-defined and being set to 0.0 due to no predicted samples. Use `zero_division` parameter to control this behavior.\n",
      "  _warn_prf(average, modifier, msg_start, len(result))\n",
      "C:\\Anaconda3\\lib\\site-packages\\sklearn\\metrics\\_classification.py:1221: UndefinedMetricWarning: Precision is ill-defined and being set to 0.0 due to no predicted samples. Use `zero_division` parameter to control this behavior.\n",
      "  _warn_prf(average, modifier, msg_start, len(result))\n",
      "C:\\Anaconda3\\lib\\site-packages\\sklearn\\metrics\\_classification.py:1221: UndefinedMetricWarning: Precision is ill-defined and being set to 0.0 due to no predicted samples. Use `zero_division` parameter to control this behavior.\n",
      "  _warn_prf(average, modifier, msg_start, len(result))\n"
     ]
    },
    {
     "data": {
      "text/plain": [
       "array([0., 0., 0., 0., 0.])"
      ]
     },
     "execution_count": 97,
     "metadata": {},
     "output_type": "execute_result"
    }
   ],
   "source": [
    "cross_val_score(model, X, y, scoring=\"precision\", cv=kfold)"
   ]
  },
  {
   "cell_type": "code",
   "execution_count": 98,
   "metadata": {},
   "outputs": [
    {
     "data": {
      "text/plain": [
       "array([0., 0., 0., 0., 0.])"
      ]
     },
     "execution_count": 98,
     "metadata": {},
     "output_type": "execute_result"
    }
   ],
   "source": [
    "cross_val_score(model, X, y, scoring=\"recall\", cv=kfold)"
   ]
  },
  {
   "cell_type": "code",
   "execution_count": 99,
   "metadata": {},
   "outputs": [
    {
     "data": {
      "text/plain": [
       "array([0., 0., 0., 0., 0.])"
      ]
     },
     "execution_count": 99,
     "metadata": {},
     "output_type": "execute_result"
    }
   ],
   "source": [
    "cross_val_score(model, X, y, scoring=\"f1\", cv=kfold)"
   ]
  },
  {
   "cell_type": "code",
   "execution_count": null,
   "metadata": {},
   "outputs": [],
   "source": []
  },
  {
   "cell_type": "code",
   "execution_count": null,
   "metadata": {},
   "outputs": [],
   "source": []
  },
  {
   "cell_type": "code",
   "execution_count": null,
   "metadata": {},
   "outputs": [],
   "source": []
  }
 ],
 "metadata": {
  "kernelspec": {
   "display_name": "Python 3",
   "language": "python",
   "name": "python3"
  },
  "language_info": {
   "codemirror_mode": {
    "name": "ipython",
    "version": 3
   },
   "file_extension": ".py",
   "mimetype": "text/x-python",
   "name": "python",
   "nbconvert_exporter": "python",
   "pygments_lexer": "ipython3",
   "version": "3.8.3"
  }
 },
 "nbformat": 4,
 "nbformat_minor": 2
}
