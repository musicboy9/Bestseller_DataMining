{
 "cells": [
  {
   "cell_type": "code",
   "execution_count": 659,
   "metadata": {},
   "outputs": [],
   "source": [
    "import numpy as np\n",
    "import pandas as pd\n",
    "import matplotlib.pyplot as plt\n",
    "from sklearn.neighbors import KNeighborsClassifier \n",
    "from sklearn.model_selection import train_test_split \n",
    "from sklearn.metrics import confusion_matrix \n",
    "from sklearn.preprocessing import StandardScaler\n",
    "from sklearn.metrics import confusion_matrix, classification_report"
   ]
  },
  {
   "cell_type": "code",
   "execution_count": 660,
   "metadata": {},
   "outputs": [],
   "source": [
    "df = pd.read_csv('C:/Users/GC/Desktop/2021/연구/장기베스트셀러/데이터/Bestseller_Nonfiction.csv', encoding=\"cp949\")"
   ]
  },
  {
   "cell_type": "code",
   "execution_count": 661,
   "metadata": {},
   "outputs": [
    {
     "data": {
      "text/html": [
       "<div>\n",
       "<style scoped>\n",
       "    .dataframe tbody tr th:only-of-type {\n",
       "        vertical-align: middle;\n",
       "    }\n",
       "\n",
       "    .dataframe tbody tr th {\n",
       "        vertical-align: top;\n",
       "    }\n",
       "\n",
       "    .dataframe thead th {\n",
       "        text-align: right;\n",
       "    }\n",
       "</style>\n",
       "<table border=\"1\" class=\"dataframe\">\n",
       "  <thead>\n",
       "    <tr style=\"text-align: right;\">\n",
       "      <th></th>\n",
       "      <th>BestsellerNonfic</th>\n",
       "      <th>Genre</th>\n",
       "      <th>GenreBin</th>\n",
       "      <th>Title</th>\n",
       "      <th>Author</th>\n",
       "      <th>Published Year</th>\n",
       "      <th>Publisher</th>\n",
       "      <th>Page</th>\n",
       "      <th>Price</th>\n",
       "      <th>authorgender(male0fe1team2)</th>\n",
       "      <th>isFirstBestSeller</th>\n",
       "      <th>Duration</th>\n",
       "      <th>변경전Duration</th>\n",
       "      <th>변경후Duration3(0=S1=L2=etc)</th>\n",
       "      <th>Impact</th>\n",
       "      <th>year_rank</th>\n",
       "      <th>isGlobal50 of first year(False=0True=1)</th>\n",
       "    </tr>\n",
       "  </thead>\n",
       "  <tbody>\n",
       "    <tr>\n",
       "      <th>0</th>\n",
       "      <td>2020</td>\n",
       "      <td>Religion&amp;Spirituality</td>\n",
       "      <td>0</td>\n",
       "      <td>The Four Agreements: A Practical Guide to…</td>\n",
       "      <td>Don Miguel Ruiz</td>\n",
       "      <td>1997</td>\n",
       "      <td>Amber-Allen Publishing Incorporated</td>\n",
       "      <td>160</td>\n",
       "      <td>6.48</td>\n",
       "      <td>0</td>\n",
       "      <td>0</td>\n",
       "      <td>9</td>\n",
       "      <td>1</td>\n",
       "      <td>1</td>\n",
       "      <td>2.255000e+05</td>\n",
       "      <td>2019_20</td>\n",
       "      <td>0</td>\n",
       "    </tr>\n",
       "    <tr>\n",
       "      <th>1</th>\n",
       "      <td>2020</td>\n",
       "      <td>Religion&amp;Spirituality</td>\n",
       "      <td>0</td>\n",
       "      <td>The 5 Love Languages: The Secret to Love that…</td>\n",
       "      <td>Gary Chapman</td>\n",
       "      <td>2015</td>\n",
       "      <td>Northfield Publishing</td>\n",
       "      <td>208</td>\n",
       "      <td>17.99</td>\n",
       "      <td>0</td>\n",
       "      <td>0</td>\n",
       "      <td>10</td>\n",
       "      <td>1</td>\n",
       "      <td>1</td>\n",
       "      <td>1.558974e+05</td>\n",
       "      <td>2019_10</td>\n",
       "      <td>0</td>\n",
       "    </tr>\n",
       "    <tr>\n",
       "      <th>2</th>\n",
       "      <td>2020</td>\n",
       "      <td>Reference</td>\n",
       "      <td>0</td>\n",
       "      <td>Publication Manual of the American…</td>\n",
       "      <td>American Psychological Association</td>\n",
       "      <td>2019</td>\n",
       "      <td>American Psychological Association</td>\n",
       "      <td>428</td>\n",
       "      <td>26.70</td>\n",
       "      <td>2</td>\n",
       "      <td>0</td>\n",
       "      <td>10</td>\n",
       "      <td>1</td>\n",
       "      <td>1</td>\n",
       "      <td>2.300000e+08</td>\n",
       "      <td>2019_66</td>\n",
       "      <td>0</td>\n",
       "    </tr>\n",
       "    <tr>\n",
       "      <th>3</th>\n",
       "      <td>2020</td>\n",
       "      <td>Religion&amp;Spirituality</td>\n",
       "      <td>0</td>\n",
       "      <td>The Alchemist 25th Anniversary: A Fable About…</td>\n",
       "      <td>Paulo Coelho</td>\n",
       "      <td>2003</td>\n",
       "      <td>HarperOne</td>\n",
       "      <td>208</td>\n",
       "      <td>25.99</td>\n",
       "      <td>0</td>\n",
       "      <td>0</td>\n",
       "      <td>6</td>\n",
       "      <td>1</td>\n",
       "      <td>1</td>\n",
       "      <td>9.876020e+06</td>\n",
       "      <td>2019_65</td>\n",
       "      <td>1</td>\n",
       "    </tr>\n",
       "    <tr>\n",
       "      <th>4</th>\n",
       "      <td>2020</td>\n",
       "      <td>Religion&amp;Spirituality</td>\n",
       "      <td>0</td>\n",
       "      <td>The Gifts of Imperfection: Let Go of Who You…</td>\n",
       "      <td>Bren? Brown</td>\n",
       "      <td>2012</td>\n",
       "      <td>Brilliance Audio</td>\n",
       "      <td>160</td>\n",
       "      <td>16.95</td>\n",
       "      <td>1</td>\n",
       "      <td>1</td>\n",
       "      <td>8</td>\n",
       "      <td>1</td>\n",
       "      <td>1</td>\n",
       "      <td>1.087900e+05</td>\n",
       "      <td>2019_60</td>\n",
       "      <td>0</td>\n",
       "    </tr>\n",
       "    <tr>\n",
       "      <th>...</th>\n",
       "      <td>...</td>\n",
       "      <td>...</td>\n",
       "      <td>...</td>\n",
       "      <td>...</td>\n",
       "      <td>...</td>\n",
       "      <td>...</td>\n",
       "      <td>...</td>\n",
       "      <td>...</td>\n",
       "      <td>...</td>\n",
       "      <td>...</td>\n",
       "      <td>...</td>\n",
       "      <td>...</td>\n",
       "      <td>...</td>\n",
       "      <td>...</td>\n",
       "      <td>...</td>\n",
       "      <td>...</td>\n",
       "      <td>...</td>\n",
       "    </tr>\n",
       "    <tr>\n",
       "      <th>257</th>\n",
       "      <td>2012</td>\n",
       "      <td>History</td>\n",
       "      <td>7</td>\n",
       "      <td>Behind the Beautiful Forevers: Life Death and…</td>\n",
       "      <td>Katherine Boo</td>\n",
       "      <td>2014</td>\n",
       "      <td>Random House Trade Paperbacks</td>\n",
       "      <td>288</td>\n",
       "      <td>17.99</td>\n",
       "      <td>1</td>\n",
       "      <td>1</td>\n",
       "      <td>1</td>\n",
       "      <td>0</td>\n",
       "      <td>0</td>\n",
       "      <td>2.272204e+04</td>\n",
       "      <td>NaN</td>\n",
       "      <td>1</td>\n",
       "    </tr>\n",
       "    <tr>\n",
       "      <th>258</th>\n",
       "      <td>2012</td>\n",
       "      <td>History</td>\n",
       "      <td>7</td>\n",
       "      <td>The Passage of Power: The Years of Lyndon…</td>\n",
       "      <td>Robert A. Caro</td>\n",
       "      <td>2012</td>\n",
       "      <td>Vintage</td>\n",
       "      <td>768</td>\n",
       "      <td>18.95</td>\n",
       "      <td>0</td>\n",
       "      <td>0</td>\n",
       "      <td>1</td>\n",
       "      <td>0</td>\n",
       "      <td>0</td>\n",
       "      <td>2.490000e+05</td>\n",
       "      <td>NaN</td>\n",
       "      <td>1</td>\n",
       "    </tr>\n",
       "    <tr>\n",
       "      <th>259</th>\n",
       "      <td>2011</td>\n",
       "      <td>Politics&amp;SocialSciences</td>\n",
       "      <td>7</td>\n",
       "      <td>Boomerang: Travels in the New Third World</td>\n",
       "      <td>Michael Lewis</td>\n",
       "      <td>2011</td>\n",
       "      <td>W. W. Norton &amp; Company</td>\n",
       "      <td>224</td>\n",
       "      <td>16.95</td>\n",
       "      <td>0</td>\n",
       "      <td>0</td>\n",
       "      <td>1</td>\n",
       "      <td>0</td>\n",
       "      <td>0</td>\n",
       "      <td>1.007487e+07</td>\n",
       "      <td>NaN</td>\n",
       "      <td>0</td>\n",
       "    </tr>\n",
       "    <tr>\n",
       "      <th>260</th>\n",
       "      <td>2011</td>\n",
       "      <td>Politics&amp;SocialSciences</td>\n",
       "      <td>7</td>\n",
       "      <td>The Social Animal: The Hidden Sources of Love…</td>\n",
       "      <td>David Brooks</td>\n",
       "      <td>2011</td>\n",
       "      <td>Random Hous</td>\n",
       "      <td>468</td>\n",
       "      <td>18.00</td>\n",
       "      <td>1</td>\n",
       "      <td>1</td>\n",
       "      <td>1</td>\n",
       "      <td>0</td>\n",
       "      <td>0</td>\n",
       "      <td>4.995802e+05</td>\n",
       "      <td>NaN</td>\n",
       "      <td>1</td>\n",
       "    </tr>\n",
       "    <tr>\n",
       "      <th>261</th>\n",
       "      <td>2011</td>\n",
       "      <td>Politics&amp;SocialSciences</td>\n",
       "      <td>7</td>\n",
       "      <td>The Big Short: Inside the Doomsday Machine</td>\n",
       "      <td>Michael Lewis</td>\n",
       "      <td>2011</td>\n",
       "      <td>W. W. Norton &amp; Company</td>\n",
       "      <td>291</td>\n",
       "      <td>15.95</td>\n",
       "      <td>0</td>\n",
       "      <td>0</td>\n",
       "      <td>1</td>\n",
       "      <td>0</td>\n",
       "      <td>0</td>\n",
       "      <td>6.432481e+07</td>\n",
       "      <td>NaN</td>\n",
       "      <td>0</td>\n",
       "    </tr>\n",
       "  </tbody>\n",
       "</table>\n",
       "<p>262 rows × 17 columns</p>\n",
       "</div>"
      ],
      "text/plain": [
       "     BestsellerNonfic                    Genre  GenreBin  \\\n",
       "0                2020    Religion&Spirituality         0   \n",
       "1                2020    Religion&Spirituality         0   \n",
       "2                2020                Reference         0   \n",
       "3                2020    Religion&Spirituality         0   \n",
       "4                2020    Religion&Spirituality         0   \n",
       "..                ...                      ...       ...   \n",
       "257              2012                  History         7   \n",
       "258              2012                  History         7   \n",
       "259              2011  Politics&SocialSciences         7   \n",
       "260              2011  Politics&SocialSciences         7   \n",
       "261              2011  Politics&SocialSciences         7   \n",
       "\n",
       "                                              Title  \\\n",
       "0        The Four Agreements: A Practical Guide to…   \n",
       "1    The 5 Love Languages: The Secret to Love that…   \n",
       "2               Publication Manual of the American…   \n",
       "3    The Alchemist 25th Anniversary: A Fable About…   \n",
       "4     The Gifts of Imperfection: Let Go of Who You…   \n",
       "..                                              ...   \n",
       "257  Behind the Beautiful Forevers: Life Death and…   \n",
       "258      The Passage of Power: The Years of Lyndon…   \n",
       "259       Boomerang: Travels in the New Third World   \n",
       "260  The Social Animal: The Hidden Sources of Love…   \n",
       "261      The Big Short: Inside the Doomsday Machine   \n",
       "\n",
       "                                 Author  Published Year  \\\n",
       "0                       Don Miguel Ruiz            1997   \n",
       "1                          Gary Chapman            2015   \n",
       "2    American Psychological Association            2019   \n",
       "3                          Paulo Coelho            2003   \n",
       "4                           Bren? Brown            2012   \n",
       "..                                  ...             ...   \n",
       "257                       Katherine Boo            2014   \n",
       "258                      Robert A. Caro            2012   \n",
       "259                       Michael Lewis            2011   \n",
       "260                        David Brooks            2011   \n",
       "261                       Michael Lewis            2011   \n",
       "\n",
       "                                Publisher  Page  Price  \\\n",
       "0    Amber-Allen Publishing Incorporated    160   6.48   \n",
       "1                   Northfield Publishing   208  17.99   \n",
       "2      American Psychological Association   428  26.70   \n",
       "3                               HarperOne   208  25.99   \n",
       "4                        Brilliance Audio   160  16.95   \n",
       "..                                    ...   ...    ...   \n",
       "257         Random House Trade Paperbacks   288  17.99   \n",
       "258                               Vintage   768  18.95   \n",
       "259                W. W. Norton & Company   224  16.95   \n",
       "260                           Random Hous   468  18.00   \n",
       "261                W. W. Norton & Company   291  15.95   \n",
       "\n",
       "     authorgender(male0fe1team2)  isFirstBestSeller Duration  변경전Duration  \\\n",
       "0                              0                  0        9            1   \n",
       "1                              0                  0       10            1   \n",
       "2                              2                  0       10            1   \n",
       "3                              0                  0        6            1   \n",
       "4                              1                  1        8            1   \n",
       "..                           ...                ...      ...          ...   \n",
       "257                            1                  1        1            0   \n",
       "258                            0                  0        1            0   \n",
       "259                            0                  0        1            0   \n",
       "260                            1                  1        1            0   \n",
       "261                            0                  0        1            0   \n",
       "\n",
       "     변경후Duration3(0=S1=L2=etc)        Impact year_rank  \\\n",
       "0                            1  2.255000e+05   2019_20   \n",
       "1                            1  1.558974e+05   2019_10   \n",
       "2                            1  2.300000e+08   2019_66   \n",
       "3                            1  9.876020e+06   2019_65   \n",
       "4                            1  1.087900e+05   2019_60   \n",
       "..                         ...           ...       ...   \n",
       "257                          0  2.272204e+04       NaN   \n",
       "258                          0  2.490000e+05       NaN   \n",
       "259                          0  1.007487e+07       NaN   \n",
       "260                          0  4.995802e+05       NaN   \n",
       "261                          0  6.432481e+07       NaN   \n",
       "\n",
       "     isGlobal50 of first year(False=0True=1)  \n",
       "0                                          0  \n",
       "1                                          0  \n",
       "2                                          0  \n",
       "3                                          1  \n",
       "4                                          0  \n",
       "..                                       ...  \n",
       "257                                        1  \n",
       "258                                        1  \n",
       "259                                        0  \n",
       "260                                        1  \n",
       "261                                        0  \n",
       "\n",
       "[262 rows x 17 columns]"
      ]
     },
     "execution_count": 661,
     "metadata": {},
     "output_type": "execute_result"
    }
   ],
   "source": [
    "df"
   ]
  },
  {
   "cell_type": "code",
   "execution_count": 662,
   "metadata": {},
   "outputs": [],
   "source": [
    "df_x = df[['Published Year', 'Page', 'Price','authorgender(male0fe1team2)', 'isFirstBestSeller','Impact', 'isGlobal50 of first year(False=0True=1)']]\n",
    "df_y = df['변경후Duration3(0=S1=L2=etc)']"
   ]
  },
  {
   "cell_type": "code",
   "execution_count": 907,
   "metadata": {},
   "outputs": [],
   "source": [
    "x_train, x_test, y_train, y_test = train_test_split(df_x, df_y, test_size=0.2, random_state = 100)"
   ]
  },
  {
   "cell_type": "code",
   "execution_count": 908,
   "metadata": {},
   "outputs": [],
   "source": [
    "scaler = StandardScaler()\n",
    "x_train = scaler.fit_transform(x_train)\n",
    "x_test = scaler.transform(x_test)"
   ]
  },
  {
   "cell_type": "code",
   "execution_count": 909,
   "metadata": {},
   "outputs": [],
   "source": [
    "from sklearn.neighbors import KNeighborsClassifier"
   ]
  },
  {
   "cell_type": "code",
   "execution_count": 927,
   "metadata": {},
   "outputs": [],
   "source": [
    "#kNN = KNeighborsClassifier(n_neighbors = 7, metric = 'euclidean')\n",
    "cov = np.cov(x_test, rowvar=False)\n",
    "kNN = KNeighborsClassifier(algorithm='brute', n_neighbors = 11, metric = 'mahalanobis', metric_params=dict(V=cov))"
   ]
  },
  {
   "cell_type": "code",
   "execution_count": 928,
   "metadata": {},
   "outputs": [
    {
     "data": {
      "text/plain": [
       "KNeighborsClassifier(algorithm='brute', metric='mahalanobis',\n",
       "                     metric_params={'V': array([[ 0.50927327,  0.09260139, -0.062264  ,  0.04356789,  0.22910679,\n",
       "        -0.00592223, -0.0901568 ],\n",
       "       [ 0.09260139,  0.58003738,  0.84755968, -0.00957186, -0.04893579,\n",
       "        -0.00468647,  0.11046128],\n",
       "       [-0.062264  ,  0.84755968,  3.4064701 ,  0.48792447,  0.07046294,\n",
       "        -0.00602166, -0.23982511],\n",
       "       [ 0.04356789, -0.00957186,  0.48792447,  1.0656935 ,  0.32079224,\n",
       "         0.00524772, -0.21858727],\n",
       "       [ 0.22910679, -0.04893579,  0.07046294,  0.32079224,  1.06938109,\n",
       "        -0.00917344, -0.18424853],\n",
       "       [-0.00592223, -0.00468647, -0.00602166,  0.00524772, -0.00917344,\n",
       "         0.00650209, -0.00730799],\n",
       "       [-0.0901568 ,  0.11046128, -0.23982511, -0.21858727, -0.18424853,\n",
       "        -0.00730799,  0.71633912]])},\n",
       "                     n_neighbors=11)"
      ]
     },
     "execution_count": 928,
     "metadata": {},
     "output_type": "execute_result"
    }
   ],
   "source": [
    "kNN.fit(x_train, y_train)"
   ]
  },
  {
   "cell_type": "code",
   "execution_count": 929,
   "metadata": {},
   "outputs": [
    {
     "name": "stderr",
     "output_type": "stream",
     "text": [
      "C:\\Anaconda3\\lib\\site-packages\\sklearn\\metrics\\pairwise.py:1456: FutureWarning: from version 0.25, pairwise_distances for metric='mahalanobis' will require VI to be specified if Y is passed.\n",
      "  warnings.warn(\"from version 0.25, pairwise_distances for \"\n"
     ]
    }
   ],
   "source": [
    "y_pred = kNN.predict(x_test)"
   ]
  },
  {
   "cell_type": "code",
   "execution_count": 930,
   "metadata": {},
   "outputs": [
    {
     "data": {
      "text/plain": [
       "array([1, 0, 0, 0, 0, 1, 0, 1, 0, 0, 0, 0, 0, 1, 0, 0, 0, 0, 0, 0, 0, 0,\n",
       "       1, 0, 0, 0, 0, 0, 0, 0, 0, 1, 1, 1, 0, 0, 1, 0, 1, 0, 0, 0, 0, 0,\n",
       "       1, 0, 0, 0, 0, 0, 0, 0, 0], dtype=int64)"
      ]
     },
     "execution_count": 930,
     "metadata": {},
     "output_type": "execute_result"
    }
   ],
   "source": [
    "y_pred"
   ]
  },
  {
   "cell_type": "code",
   "execution_count": 931,
   "metadata": {},
   "outputs": [
    {
     "data": {
      "text/plain": [
       "array([[ 7, 13],\n",
       "       [ 4, 29]], dtype=int64)"
      ]
     },
     "execution_count": 931,
     "metadata": {},
     "output_type": "execute_result"
    }
   ],
   "source": [
    "confusion_matrix(y_test, y_pred, labels = [1, 0])"
   ]
  },
  {
   "cell_type": "code",
   "execution_count": 932,
   "metadata": {},
   "outputs": [],
   "source": [
    "conf_matrix = pd.DataFrame(confusion_matrix(y_test, y_pred), columns=['pred_0', 'pred_1'], index=['true_0', 'true_1'])"
   ]
  },
  {
   "cell_type": "code",
   "execution_count": 933,
   "metadata": {},
   "outputs": [
    {
     "data": {
      "text/html": [
       "<div>\n",
       "<style scoped>\n",
       "    .dataframe tbody tr th:only-of-type {\n",
       "        vertical-align: middle;\n",
       "    }\n",
       "\n",
       "    .dataframe tbody tr th {\n",
       "        vertical-align: top;\n",
       "    }\n",
       "\n",
       "    .dataframe thead th {\n",
       "        text-align: right;\n",
       "    }\n",
       "</style>\n",
       "<table border=\"1\" class=\"dataframe\">\n",
       "  <thead>\n",
       "    <tr style=\"text-align: right;\">\n",
       "      <th></th>\n",
       "      <th>pred_0</th>\n",
       "      <th>pred_1</th>\n",
       "    </tr>\n",
       "  </thead>\n",
       "  <tbody>\n",
       "    <tr>\n",
       "      <th>true_0</th>\n",
       "      <td>29</td>\n",
       "      <td>4</td>\n",
       "    </tr>\n",
       "    <tr>\n",
       "      <th>true_1</th>\n",
       "      <td>13</td>\n",
       "      <td>7</td>\n",
       "    </tr>\n",
       "  </tbody>\n",
       "</table>\n",
       "</div>"
      ],
      "text/plain": [
       "        pred_0  pred_1\n",
       "true_0      29       4\n",
       "true_1      13       7"
      ]
     },
     "execution_count": 933,
     "metadata": {},
     "output_type": "execute_result"
    }
   ],
   "source": [
    "conf_matrix"
   ]
  },
  {
   "cell_type": "code",
   "execution_count": 934,
   "metadata": {},
   "outputs": [],
   "source": [
    "from sklearn.metrics import roc_curve, auc\n",
    "from matplotlib import pyplot as plt"
   ]
  },
  {
   "cell_type": "code",
   "execution_count": 935,
   "metadata": {},
   "outputs": [
    {
     "name": "stderr",
     "output_type": "stream",
     "text": [
      "C:\\Anaconda3\\lib\\site-packages\\sklearn\\metrics\\pairwise.py:1456: FutureWarning: from version 0.25, pairwise_distances for metric='mahalanobis' will require VI to be specified if Y is passed.\n",
      "  warnings.warn(\"from version 0.25, pairwise_distances for \"\n"
     ]
    },
    {
     "data": {
      "text/plain": [
       "array([[0.81818182, 0.18181818],\n",
       "       [0.54545455, 0.45454545],\n",
       "       [0.72727273, 0.27272727],\n",
       "       [0.63636364, 0.36363636],\n",
       "       [0.81818182, 0.18181818],\n",
       "       [0.81818182, 0.18181818],\n",
       "       [0.81818182, 0.18181818],\n",
       "       [0.36363636, 0.63636364],\n",
       "       [0.45454545, 0.54545455],\n",
       "       [0.45454545, 0.54545455],\n",
       "       [0.72727273, 0.27272727],\n",
       "       [0.90909091, 0.09090909],\n",
       "       [0.81818182, 0.18181818],\n",
       "       [0.54545455, 0.45454545],\n",
       "       [0.72727273, 0.27272727],\n",
       "       [0.81818182, 0.18181818],\n",
       "       [0.45454545, 0.54545455],\n",
       "       [0.54545455, 0.45454545],\n",
       "       [0.81818182, 0.18181818],\n",
       "       [0.45454545, 0.54545455],\n",
       "       [0.63636364, 0.36363636],\n",
       "       [0.81818182, 0.18181818],\n",
       "       [0.54545455, 0.45454545],\n",
       "       [0.63636364, 0.36363636],\n",
       "       [0.90909091, 0.09090909],\n",
       "       [0.63636364, 0.36363636],\n",
       "       [0.45454545, 0.54545455],\n",
       "       [0.45454545, 0.54545455],\n",
       "       [0.81818182, 0.18181818],\n",
       "       [0.81818182, 0.18181818],\n",
       "       [0.72727273, 0.27272727],\n",
       "       [0.27272727, 0.72727273],\n",
       "       [0.54545455, 0.45454545],\n",
       "       [0.90909091, 0.09090909],\n",
       "       [0.54545455, 0.45454545],\n",
       "       [0.81818182, 0.18181818],\n",
       "       [0.63636364, 0.36363636],\n",
       "       [0.90909091, 0.09090909],\n",
       "       [0.54545455, 0.45454545],\n",
       "       [0.54545455, 0.45454545],\n",
       "       [0.81818182, 0.18181818],\n",
       "       [0.45454545, 0.54545455],\n",
       "       [0.72727273, 0.27272727],\n",
       "       [0.81818182, 0.18181818],\n",
       "       [0.45454545, 0.54545455],\n",
       "       [0.81818182, 0.18181818],\n",
       "       [0.36363636, 0.63636364],\n",
       "       [0.90909091, 0.09090909],\n",
       "       [0.72727273, 0.27272727],\n",
       "       [0.81818182, 0.18181818],\n",
       "       [0.72727273, 0.27272727],\n",
       "       [0.45454545, 0.54545455],\n",
       "       [0.81818182, 0.18181818]])"
      ]
     },
     "execution_count": 935,
     "metadata": {},
     "output_type": "execute_result"
    }
   ],
   "source": [
    "kNN.predict_proba(x_valid)"
   ]
  },
  {
   "cell_type": "code",
   "execution_count": 936,
   "metadata": {},
   "outputs": [
    {
     "name": "stdout",
     "output_type": "stream",
     "text": [
      "ROC AUC: 0.502\n"
     ]
    },
    {
     "name": "stderr",
     "output_type": "stream",
     "text": [
      "C:\\Anaconda3\\lib\\site-packages\\sklearn\\metrics\\pairwise.py:1456: FutureWarning: from version 0.25, pairwise_distances for metric='mahalanobis' will require VI to be specified if Y is passed.\n",
      "  warnings.warn(\"from version 0.25, pairwise_distances for \"\n"
     ]
    },
    {
     "data": {
      "image/png": "[encoded data removed]",
      "text/plain": [
       "<Figure size 432x288 with 1 Axes>"
      ]
     },
     "metadata": {
      "needs_background": "light"
     },
     "output_type": "display_data"
    }
   ],
   "source": [
    "fpr, tpr, _ = roc_curve(y_valid, kNN.predict_proba(x_valid)[:,1])\n",
    "\n",
    "# Calculate the AUC\n",
    "roc_auc = auc(fpr, tpr)\n",
    "print('ROC AUC: %0.3f' % roc_auc)\n",
    "\n",
    "# Plot of a ROC curve for a specific class\n",
    "plt.figure()\n",
    "plt.plot(fpr, tpr, color='darkorange', label='ROC curve (area = %0.2f)' % roc_auc)\n",
    "plt.plot([0, 1], [0, 1], color='navy', lw=2, linestyle='--')\n",
    "plt.xlim([0.0, 1.0])\n",
    "plt.ylim([0.0, 1.05])\n",
    "plt.xlabel('False Positive Rate')\n",
    "plt.ylabel('True Positive Rate')\n",
    "plt.title('ROC Curve')\n",
    "plt.legend(loc=\"lower right\")\n",
    "plt.show()"
   ]
  },
  {
   "cell_type": "code",
   "execution_count": 937,
   "metadata": {},
   "outputs": [
    {
     "data": {
      "text/plain": [
       "array([0.        , 0.        , 0.03030303, 0.21212121, 0.39393939,\n",
       "       0.48484848, 0.60606061, 0.90909091, 1.        ])"
      ]
     },
     "execution_count": 937,
     "metadata": {},
     "output_type": "execute_result"
    }
   ],
   "source": [
    "fpr"
   ]
  },
  {
   "cell_type": "code",
   "execution_count": 938,
   "metadata": {},
   "outputs": [
    {
     "data": {
      "text/plain": [
       "array([0.  , 0.05, 0.1 , 0.25, 0.35, 0.45, 0.6 , 0.9 , 1.  ])"
      ]
     },
     "execution_count": 938,
     "metadata": {},
     "output_type": "execute_result"
    }
   ],
   "source": [
    "tpr"
   ]
  },
  {
   "cell_type": "code",
   "execution_count": 939,
   "metadata": {},
   "outputs": [
    {
     "name": "stderr",
     "output_type": "stream",
     "text": [
      "C:\\Anaconda3\\lib\\site-packages\\sklearn\\metrics\\pairwise.py:1456: FutureWarning: from version 0.25, pairwise_distances for metric='mahalanobis' will require VI to be specified if Y is passed.\n",
      "  warnings.warn(\"from version 0.25, pairwise_distances for \"\n"
     ]
    }
   ],
   "source": [
    "predictions = kNN.predict(x_test)"
   ]
  },
  {
   "cell_type": "code",
   "execution_count": 940,
   "metadata": {},
   "outputs": [],
   "source": [
    "\n",
    "from sklearn.metrics import accuracy_score, precision_score, recall_score, f1_score"
   ]
  },
  {
   "cell_type": "code",
   "execution_count": 941,
   "metadata": {},
   "outputs": [
    {
     "name": "stdout",
     "output_type": "stream",
     "text": [
      "Accuracy: 0.679\n",
      "Precision: 0.636\n",
      "Recall: 0.350\n",
      "f1: 0.452\n"
     ]
    }
   ],
   "source": [
    "print(f'Accuracy: {accuracy_score(y_valid, predictions):0.3f}')\n",
    "print(f'Precision: {precision_score(y_valid, predictions):0.3f}')\n",
    "print(f'Recall: {recall_score(y_valid, predictions):0.3f}')\n",
    "print(f'f1: {f1_score(y_valid, predictions):0.3f}')"
   ]
  },
  {
   "cell_type": "code",
   "execution_count": 942,
   "metadata": {},
   "outputs": [
    {
     "name": "stdout",
     "output_type": "stream",
     "text": [
      "0.6411483253588517\n"
     ]
    }
   ],
   "source": [
    "print(kNN.score(x_train, y_train))"
   ]
  },
  {
   "cell_type": "code",
   "execution_count": 943,
   "metadata": {},
   "outputs": [
    {
     "name": "stdout",
     "output_type": "stream",
     "text": [
      "0.6792452830188679\n"
     ]
    },
    {
     "name": "stderr",
     "output_type": "stream",
     "text": [
      "C:\\Anaconda3\\lib\\site-packages\\sklearn\\metrics\\pairwise.py:1456: FutureWarning: from version 0.25, pairwise_distances for metric='mahalanobis' will require VI to be specified if Y is passed.\n",
      "  warnings.warn(\"from version 0.25, pairwise_distances for \"\n"
     ]
    }
   ],
   "source": [
    "print(kNN.score(x_test, y_test))"
   ]
  },
  {
   "cell_type": "code",
   "execution_count": null,
   "metadata": {},
   "outputs": [],
   "source": []
  },
  {
   "cell_type": "code",
   "execution_count": null,
   "metadata": {},
   "outputs": [],
   "source": []
  }
 ],
 "metadata": {
  "kernelspec": {
   "display_name": "Python 3",
   "language": "python",
   "name": "python3"
  },
  "language_info": {
   "codemirror_mode": {
    "name": "ipython",
    "version": 3
   },
   "file_extension": ".py",
   "mimetype": "text/x-python",
   "name": "python",
   "nbconvert_exporter": "python",
   "pygments_lexer": "ipython3",
   "version": "3.8.3"
  }
 },
 "nbformat": 4,
 "nbformat_minor": 4
}
