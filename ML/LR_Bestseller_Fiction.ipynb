{
 "cells": [
  {
   "cell_type": "code",
   "execution_count": 2,
   "metadata": {},
   "outputs": [],
   "source": [
    "import pandas as pd"
   ]
  },
  {
   "cell_type": "markdown",
   "metadata": {},
   "source": [
    "## Load Dataset"
   ]
  },
  {
   "cell_type": "code",
   "execution_count": 5,
   "metadata": {
    "scrolled": false
   },
   "outputs": [
    {
     "name": "stdout",
     "output_type": "stream",
     "text": [
      "(148, 17)\n"
     ]
    },
    {
     "data": {
      "text/html": [
       "<div>\n",
       "<style scoped>\n",
       "    .dataframe tbody tr th:only-of-type {\n",
       "        vertical-align: middle;\n",
       "    }\n",
       "\n",
       "    .dataframe tbody tr th {\n",
       "        vertical-align: top;\n",
       "    }\n",
       "\n",
       "    .dataframe thead th {\n",
       "        text-align: right;\n",
       "    }\n",
       "</style>\n",
       "<table border=\"1\" class=\"dataframe\">\n",
       "  <thead>\n",
       "    <tr style=\"text-align: right;\">\n",
       "      <th></th>\n",
       "      <th>BestsellerFic</th>\n",
       "      <th>Genre</th>\n",
       "      <th>GenreBin</th>\n",
       "      <th>Title</th>\n",
       "      <th>Author</th>\n",
       "      <th>Published Year</th>\n",
       "      <th>Publisher</th>\n",
       "      <th>Page</th>\n",
       "      <th>Price</th>\n",
       "      <th>authorgender(male0fe1team2)</th>\n",
       "      <th>isFirstBestSeller</th>\n",
       "      <th>Duration</th>\n",
       "      <th>변경전Duration</th>\n",
       "      <th>변경후Duration3(0=S1=L2=etc)</th>\n",
       "      <th>Impact</th>\n",
       "      <th>year_rank</th>\n",
       "      <th>isGlobal50 of first year(False=0True=1)</th>\n",
       "    </tr>\n",
       "  </thead>\n",
       "  <tbody>\n",
       "    <tr>\n",
       "      <th>0</th>\n",
       "      <td>2020</td>\n",
       "      <td>Literature&amp;Fiction</td>\n",
       "      <td>6</td>\n",
       "      <td>Where the Crawdads Sing</td>\n",
       "      <td>Delia Owens</td>\n",
       "      <td>2017</td>\n",
       "      <td>G.P. Putnam's Sons</td>\n",
       "      <td>209</td>\n",
       "      <td>26.00</td>\n",
       "      <td>1</td>\n",
       "      <td>1</td>\n",
       "      <td>3</td>\n",
       "      <td>1</td>\n",
       "      <td>1</td>\n",
       "      <td>53800.0000</td>\n",
       "      <td>2019_01</td>\n",
       "      <td>1</td>\n",
       "    </tr>\n",
       "    <tr>\n",
       "      <th>1</th>\n",
       "      <td>2020</td>\n",
       "      <td>Literature&amp;Fiction</td>\n",
       "      <td>6</td>\n",
       "      <td>The Silent Patient</td>\n",
       "      <td>Alex Michaelides</td>\n",
       "      <td>2019</td>\n",
       "      <td>Celadon Books</td>\n",
       "      <td>336</td>\n",
       "      <td>26.99</td>\n",
       "      <td>0</td>\n",
       "      <td>1</td>\n",
       "      <td>2(2019)</td>\n",
       "      <td>2</td>\n",
       "      <td>1</td>\n",
       "      <td>23700.0000</td>\n",
       "      <td>2019_39</td>\n",
       "      <td>1</td>\n",
       "    </tr>\n",
       "    <tr>\n",
       "      <th>2</th>\n",
       "      <td>2020</td>\n",
       "      <td>Literature&amp;Fiction</td>\n",
       "      <td>6</td>\n",
       "      <td>Then She Was Gone</td>\n",
       "      <td>Lisa Jewell</td>\n",
       "      <td>2018</td>\n",
       "      <td>Atria Books</td>\n",
       "      <td>384</td>\n",
       "      <td>16.00</td>\n",
       "      <td>1</td>\n",
       "      <td>1</td>\n",
       "      <td>2(2019)</td>\n",
       "      <td>2</td>\n",
       "      <td>1</td>\n",
       "      <td>38620.0298</td>\n",
       "      <td>2019_90</td>\n",
       "      <td>1</td>\n",
       "    </tr>\n",
       "    <tr>\n",
       "      <th>3</th>\n",
       "      <td>2020</td>\n",
       "      <td>Teen&amp;Youngadult</td>\n",
       "      <td>6</td>\n",
       "      <td>To Kill a Mockingbird</td>\n",
       "      <td>Harper Lee</td>\n",
       "      <td>2005</td>\n",
       "      <td>Harper Perennial</td>\n",
       "      <td>336</td>\n",
       "      <td>15.99</td>\n",
       "      <td>1</td>\n",
       "      <td>0</td>\n",
       "      <td>7</td>\n",
       "      <td>1</td>\n",
       "      <td>1</td>\n",
       "      <td>400958.9970</td>\n",
       "      <td>2019_41</td>\n",
       "      <td>1</td>\n",
       "    </tr>\n",
       "    <tr>\n",
       "      <th>4</th>\n",
       "      <td>2020</td>\n",
       "      <td>Teen&amp;Youngadult</td>\n",
       "      <td>6</td>\n",
       "      <td>The Outsiders</td>\n",
       "      <td>S. E. Hinton</td>\n",
       "      <td>2006</td>\n",
       "      <td>Speak</td>\n",
       "      <td>224</td>\n",
       "      <td>10.99</td>\n",
       "      <td>1</td>\n",
       "      <td>1</td>\n",
       "      <td>5</td>\n",
       "      <td>1</td>\n",
       "      <td>1</td>\n",
       "      <td>133000.0000</td>\n",
       "      <td>2019_99</td>\n",
       "      <td>1</td>\n",
       "    </tr>\n",
       "  </tbody>\n",
       "</table>\n",
       "</div>"
      ],
      "text/plain": [
       "   BestsellerFic               Genre  GenreBin                    Title  \\\n",
       "0           2020  Literature&Fiction         6  Where the Crawdads Sing   \n",
       "1           2020  Literature&Fiction         6       The Silent Patient   \n",
       "2           2020  Literature&Fiction         6        Then She Was Gone   \n",
       "3           2020     Teen&Youngadult         6    To Kill a Mockingbird   \n",
       "4           2020     Teen&Youngadult         6            The Outsiders   \n",
       "\n",
       "             Author  Published Year           Publisher  Page  Price  \\\n",
       "0       Delia Owens            2017  G.P. Putnam's Sons   209  26.00   \n",
       "1  Alex Michaelides            2019       Celadon Books   336  26.99   \n",
       "2       Lisa Jewell            2018         Atria Books   384  16.00   \n",
       "3        Harper Lee            2005   Harper Perennial    336  15.99   \n",
       "4      S. E. Hinton            2006               Speak   224  10.99   \n",
       "\n",
       "   authorgender(male0fe1team2)  isFirstBestSeller Duration  변경전Duration  \\\n",
       "0                            1                  1        3            1   \n",
       "1                            0                  1  2(2019)            2   \n",
       "2                            1                  1  2(2019)            2   \n",
       "3                            1                  0        7            1   \n",
       "4                            1                  1        5            1   \n",
       "\n",
       "   변경후Duration3(0=S1=L2=etc)       Impact year_rank  \\\n",
       "0                          1   53800.0000   2019_01   \n",
       "1                          1   23700.0000   2019_39   \n",
       "2                          1   38620.0298   2019_90   \n",
       "3                          1  400958.9970   2019_41   \n",
       "4                          1  133000.0000   2019_99   \n",
       "\n",
       "   isGlobal50 of first year(False=0True=1)  \n",
       "0                                        1  \n",
       "1                                        1  \n",
       "2                                        1  \n",
       "3                                        1  \n",
       "4                                        1  "
      ]
     },
     "execution_count": 5,
     "metadata": {},
     "output_type": "execute_result"
    }
   ],
   "source": [
    "book = pd.read_csv(\"C:/Users/GC/Desktop/2021/연구/장기베스트셀러/데이터/Bestseller_Fiction.csv\", encoding=\"cp949\")\n",
    "\n",
    "print(book.shape)\n",
    "book.head()"
   ]
  },
  {
   "cell_type": "markdown",
   "metadata": {},
   "source": [
    "## Preprocessing"
   ]
  },
  {
   "cell_type": "markdown",
   "metadata": {},
   "source": [
    "### column filter"
   ]
  },
  {
   "cell_type": "markdown",
   "metadata": {},
   "source": [
    "사용할 columns을 선정"
   ]
  },
  {
   "cell_type": "code",
   "execution_count": 6,
   "metadata": {},
   "outputs": [
    {
     "data": {
      "text/plain": [
       "Index(['BestsellerFic', 'Genre', 'GenreBin', 'Title', 'Author',\n",
       "       'Published Year', 'Publisher', 'Page', 'Price',\n",
       "       'authorgender(male0fe1team2)', 'isFirstBestSeller', 'Duration',\n",
       "       '변경전Duration', '변경후Duration3(0=S1=L2=etc)', 'Impact', 'year_rank',\n",
       "       'isGlobal50 of first year(False=0True=1)'],\n",
       "      dtype='object')"
      ]
     },
     "execution_count": 6,
     "metadata": {},
     "output_type": "execute_result"
    }
   ],
   "source": [
    "book.columns"
   ]
  },
  {
   "cell_type": "code",
   "execution_count": 7,
   "metadata": {},
   "outputs": [],
   "source": [
    "col_names = ['Published Year', 'Publisher', 'Page', 'Price',\n",
    "       'authorgender(male0fe1team2)', 'isFirstBestSeller', '변경후Duration3(0=S1=L2=etc)', 'Impact', 'isGlobal50 of first year(False=0True=1)']"
   ]
  },
  {
   "cell_type": "code",
   "execution_count": 8,
   "metadata": {},
   "outputs": [
    {
     "name": "stdout",
     "output_type": "stream",
     "text": [
      "(148, 9)\n"
     ]
    },
    {
     "data": {
      "text/html": [
       "<div>\n",
       "<style scoped>\n",
       "    .dataframe tbody tr th:only-of-type {\n",
       "        vertical-align: middle;\n",
       "    }\n",
       "\n",
       "    .dataframe tbody tr th {\n",
       "        vertical-align: top;\n",
       "    }\n",
       "\n",
       "    .dataframe thead th {\n",
       "        text-align: right;\n",
       "    }\n",
       "</style>\n",
       "<table border=\"1\" class=\"dataframe\">\n",
       "  <thead>\n",
       "    <tr style=\"text-align: right;\">\n",
       "      <th></th>\n",
       "      <th>Published Year</th>\n",
       "      <th>Publisher</th>\n",
       "      <th>Page</th>\n",
       "      <th>Price</th>\n",
       "      <th>authorgender(male0fe1team2)</th>\n",
       "      <th>isFirstBestSeller</th>\n",
       "      <th>변경후Duration3(0=S1=L2=etc)</th>\n",
       "      <th>Impact</th>\n",
       "      <th>isGlobal50 of first year(False=0True=1)</th>\n",
       "    </tr>\n",
       "  </thead>\n",
       "  <tbody>\n",
       "    <tr>\n",
       "      <th>0</th>\n",
       "      <td>2017</td>\n",
       "      <td>G.P. Putnam's Sons</td>\n",
       "      <td>209</td>\n",
       "      <td>26.00</td>\n",
       "      <td>1</td>\n",
       "      <td>1</td>\n",
       "      <td>1</td>\n",
       "      <td>53800.0000</td>\n",
       "      <td>1</td>\n",
       "    </tr>\n",
       "    <tr>\n",
       "      <th>1</th>\n",
       "      <td>2019</td>\n",
       "      <td>Celadon Books</td>\n",
       "      <td>336</td>\n",
       "      <td>26.99</td>\n",
       "      <td>0</td>\n",
       "      <td>1</td>\n",
       "      <td>1</td>\n",
       "      <td>23700.0000</td>\n",
       "      <td>1</td>\n",
       "    </tr>\n",
       "    <tr>\n",
       "      <th>2</th>\n",
       "      <td>2018</td>\n",
       "      <td>Atria Books</td>\n",
       "      <td>384</td>\n",
       "      <td>16.00</td>\n",
       "      <td>1</td>\n",
       "      <td>1</td>\n",
       "      <td>1</td>\n",
       "      <td>38620.0298</td>\n",
       "      <td>1</td>\n",
       "    </tr>\n",
       "    <tr>\n",
       "      <th>3</th>\n",
       "      <td>2005</td>\n",
       "      <td>Harper Perennial</td>\n",
       "      <td>336</td>\n",
       "      <td>15.99</td>\n",
       "      <td>1</td>\n",
       "      <td>0</td>\n",
       "      <td>1</td>\n",
       "      <td>400958.9970</td>\n",
       "      <td>1</td>\n",
       "    </tr>\n",
       "    <tr>\n",
       "      <th>4</th>\n",
       "      <td>2006</td>\n",
       "      <td>Speak</td>\n",
       "      <td>224</td>\n",
       "      <td>10.99</td>\n",
       "      <td>1</td>\n",
       "      <td>1</td>\n",
       "      <td>1</td>\n",
       "      <td>133000.0000</td>\n",
       "      <td>1</td>\n",
       "    </tr>\n",
       "  </tbody>\n",
       "</table>\n",
       "</div>"
      ],
      "text/plain": [
       "   Published Year           Publisher  Page  Price  \\\n",
       "0            2017  G.P. Putnam's Sons   209  26.00   \n",
       "1            2019       Celadon Books   336  26.99   \n",
       "2            2018         Atria Books   384  16.00   \n",
       "3            2005   Harper Perennial    336  15.99   \n",
       "4            2006               Speak   224  10.99   \n",
       "\n",
       "   authorgender(male0fe1team2)  isFirstBestSeller  변경후Duration3(0=S1=L2=etc)  \\\n",
       "0                            1                  1                          1   \n",
       "1                            0                  1                          1   \n",
       "2                            1                  1                          1   \n",
       "3                            1                  0                          1   \n",
       "4                            1                  1                          1   \n",
       "\n",
       "        Impact  isGlobal50 of first year(False=0True=1)  \n",
       "0   53800.0000                                        1  \n",
       "1   23700.0000                                        1  \n",
       "2   38620.0298                                        1  \n",
       "3  400958.9970                                        1  \n",
       "4  133000.0000                                        1  "
      ]
     },
     "execution_count": 8,
     "metadata": {},
     "output_type": "execute_result"
    }
   ],
   "source": [
    "book = book[col_names]\n",
    "\n",
    "print(book.shape)\n",
    "book.head()"
   ]
  },
  {
   "cell_type": "markdown",
   "metadata": {},
   "source": [
    "### Encode Sex"
   ]
  },
  {
   "cell_type": "markdown",
   "metadata": {},
   "source": [
    "데이터 값을 수치적으로 변경해줘야 분석에 사용 가능"
   ]
  },
  {
   "cell_type": "code",
   "execution_count": 6,
   "metadata": {},
   "outputs": [
    {
     "name": "stdout",
     "output_type": "stream",
     "text": [
      "(1309, 8)\n"
     ]
    },
    {
     "data": {
      "text/html": [
       "<div>\n",
       "<style scoped>\n",
       "    .dataframe tbody tr th:only-of-type {\n",
       "        vertical-align: middle;\n",
       "    }\n",
       "\n",
       "    .dataframe tbody tr th {\n",
       "        vertical-align: top;\n",
       "    }\n",
       "\n",
       "    .dataframe thead th {\n",
       "        text-align: right;\n",
       "    }\n",
       "</style>\n",
       "<table border=\"1\" class=\"dataframe\">\n",
       "  <thead>\n",
       "    <tr style=\"text-align: right;\">\n",
       "      <th></th>\n",
       "      <th>Passenger Class</th>\n",
       "      <th>Sex</th>\n",
       "      <th>Age</th>\n",
       "      <th>No of Siblings or Spouses on Board</th>\n",
       "      <th>No of Parents or Children on Board</th>\n",
       "      <th>Passenger Fare</th>\n",
       "      <th>Port of Embarkation</th>\n",
       "      <th>Survived</th>\n",
       "    </tr>\n",
       "  </thead>\n",
       "  <tbody>\n",
       "    <tr>\n",
       "      <th>0</th>\n",
       "      <td>First</td>\n",
       "      <td>1</td>\n",
       "      <td>29.0</td>\n",
       "      <td>0.0</td>\n",
       "      <td>0.0</td>\n",
       "      <td>211.3</td>\n",
       "      <td>Southampton</td>\n",
       "      <td>Yes</td>\n",
       "    </tr>\n",
       "    <tr>\n",
       "      <th>1</th>\n",
       "      <td>First</td>\n",
       "      <td>0</td>\n",
       "      <td>0.9</td>\n",
       "      <td>1.0</td>\n",
       "      <td>2.0</td>\n",
       "      <td>151.6</td>\n",
       "      <td>Southampton</td>\n",
       "      <td>Yes</td>\n",
       "    </tr>\n",
       "    <tr>\n",
       "      <th>2</th>\n",
       "      <td>First</td>\n",
       "      <td>1</td>\n",
       "      <td>2.0</td>\n",
       "      <td>1.0</td>\n",
       "      <td>2.0</td>\n",
       "      <td>151.6</td>\n",
       "      <td>Southampton</td>\n",
       "      <td>No</td>\n",
       "    </tr>\n",
       "    <tr>\n",
       "      <th>3</th>\n",
       "      <td>First</td>\n",
       "      <td>0</td>\n",
       "      <td>30.0</td>\n",
       "      <td>1.0</td>\n",
       "      <td>2.0</td>\n",
       "      <td>151.6</td>\n",
       "      <td>Southampton</td>\n",
       "      <td>No</td>\n",
       "    </tr>\n",
       "    <tr>\n",
       "      <th>4</th>\n",
       "      <td>First</td>\n",
       "      <td>1</td>\n",
       "      <td>25.0</td>\n",
       "      <td>1.0</td>\n",
       "      <td>2.0</td>\n",
       "      <td>151.6</td>\n",
       "      <td>Southampton</td>\n",
       "      <td>No</td>\n",
       "    </tr>\n",
       "  </tbody>\n",
       "</table>\n",
       "</div>"
      ],
      "text/plain": [
       "  Passenger Class Sex   Age  No of Siblings or Spouses on Board  \\\n",
       "0           First   1  29.0                                 0.0   \n",
       "1           First   0   0.9                                 1.0   \n",
       "2           First   1   2.0                                 1.0   \n",
       "3           First   0  30.0                                 1.0   \n",
       "4           First   1  25.0                                 1.0   \n",
       "\n",
       "   No of Parents or Children on Board  Passenger Fare Port of Embarkation  \\\n",
       "0                                 0.0           211.3         Southampton   \n",
       "1                                 2.0           151.6         Southampton   \n",
       "2                                 2.0           151.6         Southampton   \n",
       "3                                 2.0           151.6         Southampton   \n",
       "4                                 2.0           151.6         Southampton   \n",
       "\n",
       "  Survived  \n",
       "0      Yes  \n",
       "1      Yes  \n",
       "2       No  \n",
       "3       No  \n",
       "4       No  "
      ]
     },
     "execution_count": 6,
     "metadata": {},
     "output_type": "execute_result"
    }
   ],
   "source": [
    "# 성별(Sex) 값이 Male인 열을 0, Female인 열을 1로 수정\n",
    "#titanic.loc[titanic[\"Sex\"] == \"Male\", \"Sex\"] = 0\n",
    "#titanic.loc[titanic[\"Sex\"] == \"Female\", \"Sex\"] = 1\n",
    "\n",
    "#print(titanic.shape)\n",
    "#titanic.head()"
   ]
  },
  {
   "cell_type": "markdown",
   "metadata": {},
   "source": [
    "### Encode Passenger Class"
   ]
  },
  {
   "cell_type": "code",
   "execution_count": 7,
   "metadata": {
    "collapsed": true
   },
   "outputs": [
    {
     "name": "stdout",
     "output_type": "stream",
     "text": [
      "(1309, 8)\n"
     ]
    },
    {
     "data": {
      "text/html": [
       "<div>\n",
       "<style scoped>\n",
       "    .dataframe tbody tr th:only-of-type {\n",
       "        vertical-align: middle;\n",
       "    }\n",
       "\n",
       "    .dataframe tbody tr th {\n",
       "        vertical-align: top;\n",
       "    }\n",
       "\n",
       "    .dataframe thead th {\n",
       "        text-align: right;\n",
       "    }\n",
       "</style>\n",
       "<table border=\"1\" class=\"dataframe\">\n",
       "  <thead>\n",
       "    <tr style=\"text-align: right;\">\n",
       "      <th></th>\n",
       "      <th>Passenger Class</th>\n",
       "      <th>Sex</th>\n",
       "      <th>Age</th>\n",
       "      <th>No of Siblings or Spouses on Board</th>\n",
       "      <th>No of Parents or Children on Board</th>\n",
       "      <th>Passenger Fare</th>\n",
       "      <th>Port of Embarkation</th>\n",
       "      <th>Survived</th>\n",
       "    </tr>\n",
       "  </thead>\n",
       "  <tbody>\n",
       "    <tr>\n",
       "      <th>0</th>\n",
       "      <td>1</td>\n",
       "      <td>1</td>\n",
       "      <td>29.0</td>\n",
       "      <td>0.0</td>\n",
       "      <td>0.0</td>\n",
       "      <td>211.3</td>\n",
       "      <td>Southampton</td>\n",
       "      <td>Yes</td>\n",
       "    </tr>\n",
       "    <tr>\n",
       "      <th>1</th>\n",
       "      <td>1</td>\n",
       "      <td>0</td>\n",
       "      <td>0.9</td>\n",
       "      <td>1.0</td>\n",
       "      <td>2.0</td>\n",
       "      <td>151.6</td>\n",
       "      <td>Southampton</td>\n",
       "      <td>Yes</td>\n",
       "    </tr>\n",
       "    <tr>\n",
       "      <th>2</th>\n",
       "      <td>1</td>\n",
       "      <td>1</td>\n",
       "      <td>2.0</td>\n",
       "      <td>1.0</td>\n",
       "      <td>2.0</td>\n",
       "      <td>151.6</td>\n",
       "      <td>Southampton</td>\n",
       "      <td>No</td>\n",
       "    </tr>\n",
       "    <tr>\n",
       "      <th>3</th>\n",
       "      <td>1</td>\n",
       "      <td>0</td>\n",
       "      <td>30.0</td>\n",
       "      <td>1.0</td>\n",
       "      <td>2.0</td>\n",
       "      <td>151.6</td>\n",
       "      <td>Southampton</td>\n",
       "      <td>No</td>\n",
       "    </tr>\n",
       "    <tr>\n",
       "      <th>4</th>\n",
       "      <td>1</td>\n",
       "      <td>1</td>\n",
       "      <td>25.0</td>\n",
       "      <td>1.0</td>\n",
       "      <td>2.0</td>\n",
       "      <td>151.6</td>\n",
       "      <td>Southampton</td>\n",
       "      <td>No</td>\n",
       "    </tr>\n",
       "  </tbody>\n",
       "</table>\n",
       "</div>"
      ],
      "text/plain": [
       "  Passenger Class Sex   Age  No of Siblings or Spouses on Board  \\\n",
       "0               1   1  29.0                                 0.0   \n",
       "1               1   0   0.9                                 1.0   \n",
       "2               1   1   2.0                                 1.0   \n",
       "3               1   0  30.0                                 1.0   \n",
       "4               1   1  25.0                                 1.0   \n",
       "\n",
       "   No of Parents or Children on Board  Passenger Fare Port of Embarkation  \\\n",
       "0                                 0.0           211.3         Southampton   \n",
       "1                                 2.0           151.6         Southampton   \n",
       "2                                 2.0           151.6         Southampton   \n",
       "3                                 2.0           151.6         Southampton   \n",
       "4                                 2.0           151.6         Southampton   \n",
       "\n",
       "  Survived  \n",
       "0      Yes  \n",
       "1      Yes  \n",
       "2       No  \n",
       "3       No  \n",
       "4       No  "
      ]
     },
     "execution_count": 7,
     "metadata": {},
     "output_type": "execute_result"
    }
   ],
   "source": [
    "# 등급(Passenger Class) 값이 First, Second, Third인 열을 각각 1, 2, 3으로 수정\n",
    "#titanic.loc[titanic[\"Passenger Class\"] == \"First\", \"Passenger Class\"] = 1\n",
    "#titanic.loc[titanic[\"Passenger Class\"] == \"Second\", \"Passenger Class\"] = 2\n",
    "#titanic.loc[titanic[\"Passenger Class\"] == \"Third\", \"Passenger Class\"] = 3\n",
    "\n",
    "#print(titanic.shape)\n",
    "#titanic.head()"
   ]
  },
  {
   "cell_type": "markdown",
   "metadata": {},
   "source": [
    "# Fill in missing values"
   ]
  },
  {
   "cell_type": "code",
   "execution_count": 17,
   "metadata": {},
   "outputs": [
    {
     "name": "stdout",
     "output_type": "stream",
     "text": [
      "(1307, 11)\n"
     ]
    },
    {
     "data": {
      "text/html": [
       "<div>\n",
       "<style scoped>\n",
       "    .dataframe tbody tr th:only-of-type {\n",
       "        vertical-align: middle;\n",
       "    }\n",
       "\n",
       "    .dataframe tbody tr th {\n",
       "        vertical-align: top;\n",
       "    }\n",
       "\n",
       "    .dataframe thead th {\n",
       "        text-align: right;\n",
       "    }\n",
       "</style>\n",
       "<table border=\"1\" class=\"dataframe\">\n",
       "  <thead>\n",
       "    <tr style=\"text-align: right;\">\n",
       "      <th></th>\n",
       "      <th>Passenger Class</th>\n",
       "      <th>Sex</th>\n",
       "      <th>Age</th>\n",
       "      <th>No of Siblings or Spouses on Board</th>\n",
       "      <th>No of Parents or Children on Board</th>\n",
       "      <th>Passenger Fare</th>\n",
       "      <th>Port of Embarkation</th>\n",
       "      <th>Survived</th>\n",
       "      <th>Cherbourg</th>\n",
       "      <th>Queenstown</th>\n",
       "      <th>Southampton</th>\n",
       "    </tr>\n",
       "  </thead>\n",
       "  <tbody>\n",
       "    <tr>\n",
       "      <th>0</th>\n",
       "      <td>1</td>\n",
       "      <td>1</td>\n",
       "      <td>29.0</td>\n",
       "      <td>0.0</td>\n",
       "      <td>0.0</td>\n",
       "      <td>211.3</td>\n",
       "      <td>Southampton</td>\n",
       "      <td>Yes</td>\n",
       "      <td>0</td>\n",
       "      <td>0</td>\n",
       "      <td>1</td>\n",
       "    </tr>\n",
       "    <tr>\n",
       "      <th>1</th>\n",
       "      <td>1</td>\n",
       "      <td>0</td>\n",
       "      <td>0.9</td>\n",
       "      <td>1.0</td>\n",
       "      <td>2.0</td>\n",
       "      <td>151.6</td>\n",
       "      <td>Southampton</td>\n",
       "      <td>Yes</td>\n",
       "      <td>0</td>\n",
       "      <td>0</td>\n",
       "      <td>1</td>\n",
       "    </tr>\n",
       "    <tr>\n",
       "      <th>2</th>\n",
       "      <td>1</td>\n",
       "      <td>1</td>\n",
       "      <td>2.0</td>\n",
       "      <td>1.0</td>\n",
       "      <td>2.0</td>\n",
       "      <td>151.6</td>\n",
       "      <td>Southampton</td>\n",
       "      <td>No</td>\n",
       "      <td>0</td>\n",
       "      <td>0</td>\n",
       "      <td>1</td>\n",
       "    </tr>\n",
       "    <tr>\n",
       "      <th>3</th>\n",
       "      <td>1</td>\n",
       "      <td>0</td>\n",
       "      <td>30.0</td>\n",
       "      <td>1.0</td>\n",
       "      <td>2.0</td>\n",
       "      <td>151.6</td>\n",
       "      <td>Southampton</td>\n",
       "      <td>No</td>\n",
       "      <td>0</td>\n",
       "      <td>0</td>\n",
       "      <td>1</td>\n",
       "    </tr>\n",
       "    <tr>\n",
       "      <th>4</th>\n",
       "      <td>1</td>\n",
       "      <td>1</td>\n",
       "      <td>25.0</td>\n",
       "      <td>1.0</td>\n",
       "      <td>2.0</td>\n",
       "      <td>151.6</td>\n",
       "      <td>Southampton</td>\n",
       "      <td>No</td>\n",
       "      <td>0</td>\n",
       "      <td>0</td>\n",
       "      <td>1</td>\n",
       "    </tr>\n",
       "  </tbody>\n",
       "</table>\n",
       "</div>"
      ],
      "text/plain": [
       "  Passenger Class Sex   Age  No of Siblings or Spouses on Board  \\\n",
       "0               1   1  29.0                                 0.0   \n",
       "1               1   0   0.9                                 1.0   \n",
       "2               1   1   2.0                                 1.0   \n",
       "3               1   0  30.0                                 1.0   \n",
       "4               1   1  25.0                                 1.0   \n",
       "\n",
       "   No of Parents or Children on Board  Passenger Fare Port of Embarkation  \\\n",
       "0                                 0.0           211.3         Southampton   \n",
       "1                                 2.0           151.6         Southampton   \n",
       "2                                 2.0           151.6         Southampton   \n",
       "3                                 2.0           151.6         Southampton   \n",
       "4                                 2.0           151.6         Southampton   \n",
       "\n",
       "  Survived  Cherbourg  Queenstown  Southampton  \n",
       "0      Yes          0           0            1  \n",
       "1      Yes          0           0            1  \n",
       "2       No          0           0            1  \n",
       "3       No          0           0            1  \n",
       "4       No          0           0            1  "
      ]
     },
     "execution_count": 17,
     "metadata": {},
     "output_type": "execute_result"
    }
   ],
   "source": [
    "titanic = pd.concat([titanic, pd.get_dummies(titanic['Port of Embarkation'])], axis=1)\n",
    "\n",
    "print(titanic.shape)\n",
    "titanic.head()"
   ]
  },
  {
   "cell_type": "markdown",
   "metadata": {},
   "source": [
    "### Encode Survived"
   ]
  },
  {
   "cell_type": "code",
   "execution_count": 18,
   "metadata": {},
   "outputs": [],
   "source": [
    "#titanic['Survived'] = pd.Categorical(titanic['Survived'], categories=['No', 'Yes'])"
   ]
  },
  {
   "cell_type": "code",
   "execution_count": 19,
   "metadata": {
    "scrolled": true
   },
   "outputs": [
    {
     "data": {
      "text/plain": [
       "0       1\n",
       "1       1\n",
       "2       0\n",
       "3       0\n",
       "4       0\n",
       "       ..\n",
       "1302    0\n",
       "1303    0\n",
       "1304    0\n",
       "1305    0\n",
       "1306    0\n",
       "Name: Survived, Length: 1307, dtype: int8"
      ]
     },
     "execution_count": 19,
     "metadata": {},
     "output_type": "execute_result"
    }
   ],
   "source": [
    "#titanic['Survived']  = titanic['Survived'].cat.codes\n",
    "#titanic['Survived']"
   ]
  },
  {
   "cell_type": "markdown",
   "metadata": {},
   "source": [
    "## Partitioning"
   ]
  },
  {
   "cell_type": "code",
   "execution_count": 64,
   "metadata": {},
   "outputs": [],
   "source": [
    "from sklearn.model_selection import train_test_split"
   ]
  },
  {
   "cell_type": "code",
   "execution_count": 65,
   "metadata": {},
   "outputs": [
    {
     "data": {
      "text/plain": [
       "Index(['Published Year', 'Publisher', 'Page', 'Price',\n",
       "       'authorgender(male0fe1team2)', 'isFirstBestSeller',\n",
       "       '변경후Duration3(0=S1=L2=etc)', 'Impact',\n",
       "       'isGlobal50 of first year(False=0True=1)'],\n",
       "      dtype='object')"
      ]
     },
     "execution_count": 65,
     "metadata": {},
     "output_type": "execute_result"
    }
   ],
   "source": [
    "book.columns"
   ]
  },
  {
   "cell_type": "code",
   "execution_count": 67,
   "metadata": {},
   "outputs": [],
   "source": [
    "cols_for_train = ['Published Year', 'Page', 'Price',\n",
    "       'authorgender(male0fe1team2)', 'isFirstBestSeller', 'Impact',\n",
    "       'isGlobal50 of first year(False=0True=1)']\n",
    "\n",
    "\n",
    "X = book[cols_for_train]\n",
    "y = book['변경후Duration3(0=S1=L2=etc)']"
   ]
  },
  {
   "cell_type": "code",
   "execution_count": 68,
   "metadata": {},
   "outputs": [],
   "source": [
    "import numpy as np\n",
    "book[:] = np.nan_to_num(book)"
   ]
  },
  {
   "cell_type": "code",
   "execution_count": 127,
   "metadata": {},
   "outputs": [],
   "source": [
    "X_train, X_test, y_train, y_test = train_test_split(X, y, test_size=0.2, random_state=100, stratify=y)"
   ]
  },
  {
   "cell_type": "code",
   "execution_count": 128,
   "metadata": {},
   "outputs": [
    {
     "name": "stdout",
     "output_type": "stream",
     "text": [
      "(118, 7)\n"
     ]
    },
    {
     "data": {
      "text/html": [
       "<div>\n",
       "<style scoped>\n",
       "    .dataframe tbody tr th:only-of-type {\n",
       "        vertical-align: middle;\n",
       "    }\n",
       "\n",
       "    .dataframe tbody tr th {\n",
       "        vertical-align: top;\n",
       "    }\n",
       "\n",
       "    .dataframe thead th {\n",
       "        text-align: right;\n",
       "    }\n",
       "</style>\n",
       "<table border=\"1\" class=\"dataframe\">\n",
       "  <thead>\n",
       "    <tr style=\"text-align: right;\">\n",
       "      <th></th>\n",
       "      <th>Published Year</th>\n",
       "      <th>Page</th>\n",
       "      <th>Price</th>\n",
       "      <th>authorgender(male0fe1team2)</th>\n",
       "      <th>isFirstBestSeller</th>\n",
       "      <th>Impact</th>\n",
       "      <th>isGlobal50 of first year(False=0True=1)</th>\n",
       "    </tr>\n",
       "  </thead>\n",
       "  <tbody>\n",
       "    <tr>\n",
       "      <th>100</th>\n",
       "      <td>2012.0</td>\n",
       "      <td>224.0</td>\n",
       "      <td>15.99</td>\n",
       "      <td>0.0</td>\n",
       "      <td>1.0</td>\n",
       "      <td>17573.88512</td>\n",
       "      <td>1.0</td>\n",
       "    </tr>\n",
       "    <tr>\n",
       "      <th>61</th>\n",
       "      <td>2014.0</td>\n",
       "      <td>369.0</td>\n",
       "      <td>12.99</td>\n",
       "      <td>0.0</td>\n",
       "      <td>1.0</td>\n",
       "      <td>93500.00000</td>\n",
       "      <td>1.0</td>\n",
       "    </tr>\n",
       "    <tr>\n",
       "      <th>109</th>\n",
       "      <td>2014.0</td>\n",
       "      <td>1408.0</td>\n",
       "      <td>38.97</td>\n",
       "      <td>1.0</td>\n",
       "      <td>0.0</td>\n",
       "      <td>172763.80000</td>\n",
       "      <td>1.0</td>\n",
       "    </tr>\n",
       "    <tr>\n",
       "      <th>74</th>\n",
       "      <td>2010.0</td>\n",
       "      <td>320.0</td>\n",
       "      <td>7.99</td>\n",
       "      <td>1.0</td>\n",
       "      <td>1.0</td>\n",
       "      <td>23067.44857</td>\n",
       "      <td>1.0</td>\n",
       "    </tr>\n",
       "    <tr>\n",
       "      <th>24</th>\n",
       "      <td>2017.0</td>\n",
       "      <td>523.0</td>\n",
       "      <td>16.99</td>\n",
       "      <td>0.0</td>\n",
       "      <td>1.0</td>\n",
       "      <td>716815.78590</td>\n",
       "      <td>0.0</td>\n",
       "    </tr>\n",
       "  </tbody>\n",
       "</table>\n",
       "</div>"
      ],
      "text/plain": [
       "     Published Year    Page  Price  authorgender(male0fe1team2)  \\\n",
       "100          2012.0   224.0  15.99                          0.0   \n",
       "61           2014.0   369.0  12.99                          0.0   \n",
       "109          2014.0  1408.0  38.97                          1.0   \n",
       "74           2010.0   320.0   7.99                          1.0   \n",
       "24           2017.0   523.0  16.99                          0.0   \n",
       "\n",
       "     isFirstBestSeller        Impact  isGlobal50 of first year(False=0True=1)  \n",
       "100                1.0   17573.88512                                      1.0  \n",
       "61                 1.0   93500.00000                                      1.0  \n",
       "109                0.0  172763.80000                                      1.0  \n",
       "74                 1.0   23067.44857                                      1.0  \n",
       "24                 1.0  716815.78590                                      0.0  "
      ]
     },
     "execution_count": 128,
     "metadata": {},
     "output_type": "execute_result"
    }
   ],
   "source": [
    "print(X_train.shape)\n",
    "X_train.head()"
   ]
  },
  {
   "cell_type": "code",
   "execution_count": 129,
   "metadata": {},
   "outputs": [
    {
     "name": "stdout",
     "output_type": "stream",
     "text": [
      "(30, 7)\n"
     ]
    },
    {
     "data": {
      "text/html": [
       "<div>\n",
       "<style scoped>\n",
       "    .dataframe tbody tr th:only-of-type {\n",
       "        vertical-align: middle;\n",
       "    }\n",
       "\n",
       "    .dataframe tbody tr th {\n",
       "        vertical-align: top;\n",
       "    }\n",
       "\n",
       "    .dataframe thead th {\n",
       "        text-align: right;\n",
       "    }\n",
       "</style>\n",
       "<table border=\"1\" class=\"dataframe\">\n",
       "  <thead>\n",
       "    <tr style=\"text-align: right;\">\n",
       "      <th></th>\n",
       "      <th>Published Year</th>\n",
       "      <th>Page</th>\n",
       "      <th>Price</th>\n",
       "      <th>authorgender(male0fe1team2)</th>\n",
       "      <th>isFirstBestSeller</th>\n",
       "      <th>Impact</th>\n",
       "      <th>isGlobal50 of first year(False=0True=1)</th>\n",
       "    </tr>\n",
       "  </thead>\n",
       "  <tbody>\n",
       "    <tr>\n",
       "      <th>26</th>\n",
       "      <td>2019.0</td>\n",
       "      <td>464.0</td>\n",
       "      <td>16.99</td>\n",
       "      <td>0.0</td>\n",
       "      <td>1.0</td>\n",
       "      <td>1.099890e+07</td>\n",
       "      <td>1.0</td>\n",
       "    </tr>\n",
       "    <tr>\n",
       "      <th>101</th>\n",
       "      <td>2012.0</td>\n",
       "      <td>1625.0</td>\n",
       "      <td>19.70</td>\n",
       "      <td>1.0</td>\n",
       "      <td>1.0</td>\n",
       "      <td>1.259419e+08</td>\n",
       "      <td>1.0</td>\n",
       "    </tr>\n",
       "    <tr>\n",
       "      <th>17</th>\n",
       "      <td>2017.0</td>\n",
       "      <td>464.0</td>\n",
       "      <td>18.99</td>\n",
       "      <td>1.0</td>\n",
       "      <td>1.0</td>\n",
       "      <td>3.820000e+06</td>\n",
       "      <td>1.0</td>\n",
       "    </tr>\n",
       "    <tr>\n",
       "      <th>65</th>\n",
       "      <td>2013.0</td>\n",
       "      <td>5216.0</td>\n",
       "      <td>49.95</td>\n",
       "      <td>0.0</td>\n",
       "      <td>0.0</td>\n",
       "      <td>3.736820e+05</td>\n",
       "      <td>1.0</td>\n",
       "    </tr>\n",
       "    <tr>\n",
       "      <th>42</th>\n",
       "      <td>2019.0</td>\n",
       "      <td>320.0</td>\n",
       "      <td>14.99</td>\n",
       "      <td>0.0</td>\n",
       "      <td>0.0</td>\n",
       "      <td>4.103000e+08</td>\n",
       "      <td>1.0</td>\n",
       "    </tr>\n",
       "  </tbody>\n",
       "</table>\n",
       "</div>"
      ],
      "text/plain": [
       "     Published Year    Page  Price  authorgender(male0fe1team2)  \\\n",
       "26           2019.0   464.0  16.99                          0.0   \n",
       "101          2012.0  1625.0  19.70                          1.0   \n",
       "17           2017.0   464.0  18.99                          1.0   \n",
       "65           2013.0  5216.0  49.95                          0.0   \n",
       "42           2019.0   320.0  14.99                          0.0   \n",
       "\n",
       "     isFirstBestSeller        Impact  isGlobal50 of first year(False=0True=1)  \n",
       "26                 1.0  1.099890e+07                                      1.0  \n",
       "101                1.0  1.259419e+08                                      1.0  \n",
       "17                 1.0  3.820000e+06                                      1.0  \n",
       "65                 0.0  3.736820e+05                                      1.0  \n",
       "42                 0.0  4.103000e+08                                      1.0  "
      ]
     },
     "execution_count": 129,
     "metadata": {},
     "output_type": "execute_result"
    }
   ],
   "source": [
    "print(X_test.shape)\n",
    "X_test.head()"
   ]
  },
  {
   "cell_type": "code",
   "execution_count": 130,
   "metadata": {},
   "outputs": [
    {
     "name": "stdout",
     "output_type": "stream",
     "text": [
      "(118,)\n"
     ]
    },
    {
     "data": {
      "text/plain": [
       "100    0\n",
       "61     0\n",
       "109    1\n",
       "74     0\n",
       "24     1\n",
       "Name: 변경후Duration3(0=S1=L2=etc), dtype: int64"
      ]
     },
     "execution_count": 130,
     "metadata": {},
     "output_type": "execute_result"
    }
   ],
   "source": [
    "print(y_train.shape)\n",
    "y_train.head()"
   ]
  },
  {
   "cell_type": "code",
   "execution_count": 131,
   "metadata": {},
   "outputs": [],
   "source": [
    "from sklearn.preprocessing import StandardScaler\n",
    "scaler = StandardScaler()\n",
    "X_train = scaler.fit_transform(X_train)\n",
    "X_test = scaler.transform(X_test)"
   ]
  },
  {
   "cell_type": "code",
   "execution_count": 132,
   "metadata": {},
   "outputs": [
    {
     "data": {
      "text/plain": [
       "LogisticRegression()"
      ]
     },
     "execution_count": 132,
     "metadata": {},
     "output_type": "execute_result"
    }
   ],
   "source": [
    "X_train[:] = np.nan_to_num(X_train)\n",
    "y_train[:] = np.nan_to_num(y_train)\n",
    "\n",
    "\n",
    "from sklearn.linear_model import LogisticRegression\n",
    "model = LogisticRegression()\n",
    "model.fit(X_train, y_train)"
   ]
  },
  {
   "cell_type": "code",
   "execution_count": 133,
   "metadata": {},
   "outputs": [
    {
     "name": "stdout",
     "output_type": "stream",
     "text": [
      "0.711864406779661\n"
     ]
    }
   ],
   "source": [
    "print(model.score(X_train, y_train))"
   ]
  },
  {
   "cell_type": "code",
   "execution_count": 134,
   "metadata": {},
   "outputs": [
    {
     "name": "stdout",
     "output_type": "stream",
     "text": [
      "(30,)\n"
     ]
    },
    {
     "data": {
      "text/plain": [
       "array([0, 1, 0, 1, 1, 0, 0, 0, 0, 0, 0, 0, 0, 0, 0, 0, 0, 0, 0, 0, 0, 0,\n",
       "       1, 0, 0, 0, 0, 0, 0, 0], dtype=int64)"
      ]
     },
     "execution_count": 134,
     "metadata": {},
     "output_type": "execute_result"
    }
   ],
   "source": [
    "X_test[:] = np.nan_to_num(X_test)\n",
    "\n",
    "predictions = model.predict(X_test)\n",
    "\n",
    "print(predictions.shape)\n",
    "predictions[0:93]"
   ]
  },
  {
   "cell_type": "code",
   "execution_count": 135,
   "metadata": {},
   "outputs": [
    {
     "name": "stdout",
     "output_type": "stream",
     "text": [
      "0.7333333333333333\n"
     ]
    }
   ],
   "source": [
    "print(model.score(X_test, y_test))"
   ]
  },
  {
   "cell_type": "code",
   "execution_count": 136,
   "metadata": {},
   "outputs": [
    {
     "name": "stdout",
     "output_type": "stream",
     "text": [
      "[[-0.02017366  0.36842741  0.06891238 -0.03737091  0.26503852  0.3827711\n",
      "   0.21003877]]\n"
     ]
    }
   ],
   "source": [
    "print(model.coef_)\n",
    "\n",
    "#'Published Year', 'Page', 'Price','authorgender(male0fe1team2)', 'isFirstBestSeller', 'Impact', 'isGlobal50 of first year(False=0True=1)']\n"
   ]
  },
  {
   "cell_type": "code",
   "execution_count": 137,
   "metadata": {},
   "outputs": [
    {
     "data": {
      "text/html": [
       "<div>\n",
       "<style scoped>\n",
       "    .dataframe tbody tr th:only-of-type {\n",
       "        vertical-align: middle;\n",
       "    }\n",
       "\n",
       "    .dataframe tbody tr th {\n",
       "        vertical-align: top;\n",
       "    }\n",
       "\n",
       "    .dataframe thead th {\n",
       "        text-align: right;\n",
       "    }\n",
       "</style>\n",
       "<table border=\"1\" class=\"dataframe\">\n",
       "  <thead>\n",
       "    <tr style=\"text-align: right;\">\n",
       "      <th></th>\n",
       "      <th>pred_No</th>\n",
       "      <th>pred_yes</th>\n",
       "    </tr>\n",
       "  </thead>\n",
       "  <tbody>\n",
       "    <tr>\n",
       "      <th>true_No</th>\n",
       "      <td>19</td>\n",
       "      <td>1</td>\n",
       "    </tr>\n",
       "    <tr>\n",
       "      <th>true_yes</th>\n",
       "      <td>7</td>\n",
       "      <td>3</td>\n",
       "    </tr>\n",
       "  </tbody>\n",
       "</table>\n",
       "</div>"
      ],
      "text/plain": [
       "          pred_No  pred_yes\n",
       "true_No        19         1\n",
       "true_yes        7         3"
      ]
     },
     "execution_count": 137,
     "metadata": {},
     "output_type": "execute_result"
    }
   ],
   "source": [
    "from sklearn.metrics import confusion_matrix\n",
    "\n",
    "conf_matrix = pd.DataFrame(confusion_matrix(y_test, predictions), \n",
    "                          columns=['pred_No', 'pred_yes'],\n",
    "                          index=['true_No', 'true_yes'])\n",
    "\n",
    "conf_matrix"
   ]
  },
  {
   "cell_type": "markdown",
   "metadata": {},
   "source": [
    "### ROC curve"
   ]
  },
  {
   "cell_type": "code",
   "execution_count": 138,
   "metadata": {},
   "outputs": [],
   "source": [
    "from sklearn.metrics import roc_curve, auc\n",
    "from matplotlib import pyplot as plt"
   ]
  },
  {
   "cell_type": "code",
   "execution_count": 139,
   "metadata": {},
   "outputs": [
    {
     "data": {
      "text/plain": [
       "array([[0.59631801, 0.40368199],\n",
       "       [0.25085958, 0.74914042],\n",
       "       [0.62103281, 0.37896719],\n",
       "       [0.12461803, 0.87538197],\n",
       "       [0.13711648, 0.86288352],\n",
       "       [0.62271275, 0.37728725],\n",
       "       [0.65795397, 0.34204603],\n",
       "       [0.72938721, 0.27061279],\n",
       "       [0.71823972, 0.28176028],\n",
       "       [0.74775356, 0.25224644],\n",
       "       [0.71541457, 0.28458543],\n",
       "       [0.55946634, 0.44053366],\n",
       "       [0.520949  , 0.479051  ],\n",
       "       [0.72950232, 0.27049768],\n",
       "       [0.74267025, 0.25732975],\n",
       "       [0.62989193, 0.37010807],\n",
       "       [0.74337358, 0.25662642],\n",
       "       [0.64381496, 0.35618504],\n",
       "       [0.65407253, 0.34592747],\n",
       "       [0.81071782, 0.18928218],\n",
       "       [0.81854344, 0.18145656],\n",
       "       [0.74670831, 0.25329169],\n",
       "       [0.10709446, 0.89290554],\n",
       "       [0.70832361, 0.29167639],\n",
       "       [0.61309854, 0.38690146],\n",
       "       [0.77431715, 0.22568285],\n",
       "       [0.76052937, 0.23947063],\n",
       "       [0.8469376 , 0.1530624 ],\n",
       "       [0.70575629, 0.29424371],\n",
       "       [0.72903997, 0.27096003]])"
      ]
     },
     "execution_count": 139,
     "metadata": {},
     "output_type": "execute_result"
    }
   ],
   "source": [
    "model.predict_proba(X_test)"
   ]
  },
  {
   "cell_type": "code",
   "execution_count": 140,
   "metadata": {
    "scrolled": true
   },
   "outputs": [
    {
     "name": "stdout",
     "output_type": "stream",
     "text": [
      "ROC AUC: 0.755\n"
     ]
    },
    {
     "data": {
      "image/png": "[encoded data removed]",
      "text/plain": [
       "<Figure size 432x288 with 1 Axes>"
      ]
     },
     "metadata": {
      "needs_background": "light"
     },
     "output_type": "display_data"
    }
   ],
   "source": [
    "fpr, tpr, _ = roc_curve(y_test, model.predict_proba(X_test)[:,1])\n",
    "\n",
    "# Calculate the AUC\n",
    "roc_auc = auc(fpr, tpr)\n",
    "print('ROC AUC: %0.3f' % roc_auc)\n",
    "\n",
    "# Plot of a ROC curve for a specific class\n",
    "plt.figure()\n",
    "plt.plot(fpr, tpr, color='darkorange', label='ROC curve (area = %0.2f)' % roc_auc)\n",
    "plt.plot([0, 1], [0, 1], color='navy', lw=2, linestyle='--')\n",
    "plt.xlim([0.0, 1.0])\n",
    "plt.ylim([0.0, 1.05])\n",
    "plt.xlabel('False Positive Rate')\n",
    "plt.ylabel('True Positive Rate')\n",
    "plt.title('ROC Curve')\n",
    "plt.legend(loc=\"lower right\")\n",
    "plt.show()"
   ]
  },
  {
   "cell_type": "code",
   "execution_count": 141,
   "metadata": {},
   "outputs": [
    {
     "data": {
      "text/plain": [
       "array([0.  , 0.  , 0.  , 0.05, 0.05, 0.1 , 0.1 , 0.2 , 0.2 , 0.25, 0.25,\n",
       "       0.75, 0.75, 1.  , 1.  ])"
      ]
     },
     "execution_count": 141,
     "metadata": {},
     "output_type": "execute_result"
    }
   ],
   "source": [
    "fpr"
   ]
  },
  {
   "cell_type": "code",
   "execution_count": 142,
   "metadata": {},
   "outputs": [
    {
     "data": {
      "text/plain": [
       "array([0. , 0.1, 0.2, 0.2, 0.5, 0.5, 0.6, 0.6, 0.7, 0.7, 0.8, 0.8, 0.9,\n",
       "       0.9, 1. ])"
      ]
     },
     "execution_count": 142,
     "metadata": {},
     "output_type": "execute_result"
    }
   ],
   "source": [
    "tpr"
   ]
  },
  {
   "cell_type": "markdown",
   "metadata": {},
   "source": [
    "### Accuracy"
   ]
  },
  {
   "cell_type": "code",
   "execution_count": 143,
   "metadata": {},
   "outputs": [],
   "source": [
    "from sklearn.metrics import accuracy_score, precision_score, recall_score, f1_score"
   ]
  },
  {
   "cell_type": "code",
   "execution_count": 144,
   "metadata": {
    "scrolled": true
   },
   "outputs": [
    {
     "name": "stdout",
     "output_type": "stream",
     "text": [
      "Accuracy: 0.733\n",
      "Precision: 0.750\n",
      "Recall: 0.300\n",
      "f1: 0.429\n"
     ]
    }
   ],
   "source": [
    "print(f'Accuracy: {accuracy_score(y_test, predictions):0.3f}')\n",
    "print(f'Precision: {precision_score(y_test, predictions):0.3f}')\n",
    "print(f'Recall: {recall_score(y_test, predictions):0.3f}')\n",
    "print(f'f1: {f1_score(y_test, predictions):0.3f}')"
   ]
  },
  {
   "cell_type": "code",
   "execution_count": 145,
   "metadata": {},
   "outputs": [
    {
     "name": "stderr",
     "output_type": "stream",
     "text": [
      "<ipython-input-145-672599b064c5>:6: SettingWithCopyWarning: \n",
      "A value is trying to be set on a copy of a slice from a DataFrame.\n",
      "Try using .loc[row_indexer,col_indexer] = value instead\n",
      "\n",
      "See the caveats in the documentation: https://pandas.pydata.org/pandas-docs/stable/user_guide/indexing.html#returning-a-view-versus-a-copy\n",
      "  X[:] = np.nan_to_num(X)\n",
      "C:\\Anaconda3\\lib\\site-packages\\pandas\\core\\frame.py:2945: SettingWithCopyWarning: \n",
      "A value is trying to be set on a copy of a slice from a DataFrame\n",
      "\n",
      "See the caveats in the documentation: https://pandas.pydata.org/pandas-docs/stable/user_guide/indexing.html#returning-a-view-versus-a-copy\n",
      "  self.loc._setitem_with_indexer(key, value)\n",
      "C:\\Anaconda3\\lib\\site-packages\\pandas\\core\\frame.py:2930: SettingWithCopyWarning: \n",
      "A value is trying to be set on a copy of a slice from a DataFrame\n",
      "\n",
      "See the caveats in the documentation: https://pandas.pydata.org/pandas-docs/stable/user_guide/indexing.html#returning-a-view-versus-a-copy\n",
      "  return self._setitem_slice(indexer, value)\n"
     ]
    },
    {
     "data": {
      "text/plain": [
       "array([0.33333333, 0.33333333, 0.66666667, 0.34482759, 0.68965517])"
      ]
     },
     "execution_count": 145,
     "metadata": {},
     "output_type": "execute_result"
    }
   ],
   "source": [
    "from sklearn.model_selection import StratifiedKFold \n",
    "from sklearn.model_selection import KFold \n",
    "from sklearn.model_selection import cross_val_score \n",
    "import numpy\n",
    "\n",
    "X[:] = np.nan_to_num(X)\n",
    "y[:] = np.nan_to_num(y)\n",
    "\n",
    "kfold = StratifiedKFold(n_splits=5)\n",
    "cross_val_score(model, X, y, scoring=\"accuracy\", cv=kfold)"
   ]
  },
  {
   "cell_type": "code",
   "execution_count": 146,
   "metadata": {},
   "outputs": [
    {
     "name": "stderr",
     "output_type": "stream",
     "text": [
      "C:\\Anaconda3\\lib\\site-packages\\sklearn\\metrics\\_classification.py:1221: UndefinedMetricWarning: Precision is ill-defined and being set to 0.0 due to no predicted samples. Use `zero_division` parameter to control this behavior.\n",
      "  _warn_prf(average, modifier, msg_start, len(result))\n",
      "C:\\Anaconda3\\lib\\site-packages\\sklearn\\metrics\\_classification.py:1221: UndefinedMetricWarning: Precision is ill-defined and being set to 0.0 due to no predicted samples. Use `zero_division` parameter to control this behavior.\n",
      "  _warn_prf(average, modifier, msg_start, len(result))\n"
     ]
    },
    {
     "data": {
      "text/plain": [
       "array([0.33333333, 0.33333333, 0.        , 0.32142857, 0.        ])"
      ]
     },
     "execution_count": 146,
     "metadata": {},
     "output_type": "execute_result"
    }
   ],
   "source": [
    "cross_val_score(model, X, y, scoring=\"precision\", cv=kfold)"
   ]
  },
  {
   "cell_type": "code",
   "execution_count": 147,
   "metadata": {},
   "outputs": [
    {
     "data": {
      "text/plain": [
       "array([1., 1., 0., 1., 0.])"
      ]
     },
     "execution_count": 147,
     "metadata": {},
     "output_type": "execute_result"
    }
   ],
   "source": [
    "cross_val_score(model, X, y, scoring=\"recall\", cv=kfold)"
   ]
  },
  {
   "cell_type": "code",
   "execution_count": 148,
   "metadata": {},
   "outputs": [
    {
     "data": {
      "text/plain": [
       "array([0.5       , 0.5       , 0.        , 0.48648649, 0.        ])"
      ]
     },
     "execution_count": 148,
     "metadata": {},
     "output_type": "execute_result"
    }
   ],
   "source": [
    "cross_val_score(model, X, y, scoring=\"f1\", cv=kfold)"
   ]
  },
  {
   "cell_type": "code",
   "execution_count": null,
   "metadata": {},
   "outputs": [],
   "source": []
  },
  {
   "cell_type": "code",
   "execution_count": null,
   "metadata": {},
   "outputs": [],
   "source": []
  }
 ],
 "metadata": {
  "kernelspec": {
   "display_name": "Python 3",
   "language": "python",
   "name": "python3"
  },
  "language_info": {
   "codemirror_mode": {
    "name": "ipython",
    "version": 3
   },
   "file_extension": ".py",
   "mimetype": "text/x-python",
   "name": "python",
   "nbconvert_exporter": "python",
   "pygments_lexer": "ipython3",
   "version": "3.8.3"
  }
 },
 "nbformat": 4,
 "nbformat_minor": 2
}
